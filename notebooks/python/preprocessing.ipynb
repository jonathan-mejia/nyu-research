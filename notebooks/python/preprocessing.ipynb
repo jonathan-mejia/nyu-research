{
 "cells": [
  {
   "cell_type": "markdown",
   "metadata": {},
   "source": [
    "Temporary, this will become a module"
   ]
  },
  {
   "cell_type": "code",
   "execution_count": 1,
   "metadata": {
    "collapsed": true
   },
   "outputs": [],
   "source": [
    "import math\n",
    "import os\n",
    "import re\n",
    "\n",
    "import numpy as np\n",
    "import pandas as pd"
   ]
  },
  {
   "cell_type": "code",
   "execution_count": 2,
   "metadata": {
    "collapsed": true
   },
   "outputs": [],
   "source": [
    "def block(in_folder, out_folder, block_size=100000):\n",
    "    tweets = pd.DataFrame()\n",
    "    file_num = 0\n",
    "    for file in os.listdir(in_folder):\n",
    "        _df = pd.read_csv(in_folder + '/'  + file)#[['id', 'created_at', 'utc_offset', 'text']]\n",
    "        tweets = pd.concat([tweets, _df])\n",
    "        while len(tweets) > block_size:\n",
    "            tweets[:block_size].to_csv(out_folder + '/tweets_' + str(file_num) +'.csv', encoding='utf8')\n",
    "            tweets = tweets[block_size:]\n",
    "            file_num += 1\n",
    "    tweets.to_csv(out_folder + '/tweets_' + str(file_num) +'.csv')"
   ]
  },
  {
   "cell_type": "code",
   "execution_count": null,
   "metadata": {
    "collapsed": true
   },
   "outputs": [],
   "source": [
    "def re_filter(text):\n",
    "    expression = '''drink drinker drinks drinking drank wine champgne alcohol alcoholics alcoholism beer beers bottle bottles\n",
    "    pint pints cocktail cocktails bar brewery lounge pub liquor booze vodka tequila gin ciroc margarita margaritas shot shots\n",
    "    ale whiskey lager tipsy drunk sober wasted pregame pregaming'''.split().join('|')\n",
    "    alcohol_filter = re.compile(expression)\n",
    "    return bool(alcohol_filter.match(text))"
   ]
  },
  {
   "cell_type": "code",
   "execution_count": null,
   "metadata": {
    "collapsed": true
   },
   "outputs": [],
   "source": [
    "keywords = set('''drink drinker drinks drinking drank wine champgne alcohol alcoholics alcoholism beer beers bottle bottles\n",
    "    pint pints cocktail cocktails bar brewery lounge pub liquor booze vodka tequila gin ciroc margarita margaritas shot shots\n",
    "    ale whiskey lager tipsy drunk sober wasted pregame pregaming'''.split())\n",
    "\n",
    "def prefilter(text):\n",
    "    return bool(set(text.split()).intersection(keywords))"
   ]
  },
  {
   "cell_type": "code",
   "execution_count": 2,
   "metadata": {
    "collapsed": true
   },
   "outputs": [],
   "source": [
    "def sample(in_folder, out_folder, block_size=100000, fraction=0.01):\n",
    "    tweets = pd.DataFrame()\n",
    "    file_num = 0\n",
    "    for file in os.listdir(in_folder):\n",
    "        try:\n",
    "            _df = pd.read_csv(in_folder + '/'  + file, encoding='utf8', engine='python')\n",
    "            _df_sample = _df.sample(int(len(_df)*fraction))\n",
    "            _df['id'].apply(str)\n",
    "            tweets = pd.concat([tweets, _df_sample])\n",
    "            \n",
    "            if len(tweets) > block_size:\n",
    "                tweets[:block_size].to_csv(out_folder + '/random_' + str(file_num) +'.csv', encoding='utf8')\n",
    "                tweets = tweets[block_size:]\n",
    "                file_num += 1\n",
    "        except Exception as e:\n",
    "            print (file)\n",
    "            print (e)\n",
    "    tweets.to_csv(out_folder + '/tweets_' + str(file_num) +'.csv')"
   ]
  },
  {
   "cell_type": "code",
   "execution_count": 4,
   "metadata": {
    "collapsed": false
   },
   "outputs": [
    {
     "name": "stdout",
     "output_type": "stream",
     "text": [
      "Wall time: 50min 1s\n"
     ]
    }
   ],
   "source": [
    "%%time\n",
    "block('E:/sept-march 2015/csv with offset/june', 'E:/sept-march 2015/csv with offset/june-small-offset')"
   ]
  },
  {
   "cell_type": "code",
   "execution_count": 33,
   "metadata": {
    "collapsed": false
   },
   "outputs": [
    {
     "name": "stdout",
     "output_type": "stream",
     "text": [
      "Wall time: 47min 34s\n"
     ]
    }
   ],
   "source": [
    "%%time\n",
    "# block('E:/sept-march 2015/csv with place/june', 'E:/sept-march 2015/csv with place/june-block')\n",
    "block('E:/sept-march 2015/csv with place/sept', 'E:/sept-march 2015/csv with place/sept-block')"
   ]
  },
  {
   "cell_type": "code",
   "execution_count": 19,
   "metadata": {
    "collapsed": true
   },
   "outputs": [],
   "source": [
    "def block_london(in_folder, out_folder, block_size=100000):\n",
    "    tweets = pd.DataFrame()\n",
    "    file_num = 0\n",
    "    for file in os.listdir(in_folder):\n",
    "        _df = pd.read_csv(in_folder + '/'  + file, names=['text', 'lat', 'lon', 'id', 'place', 'utc_offset', 'created_at'])#[['id', 'created_at', 'utc_offset', 'text']]\n",
    "        tweets = pd.concat([tweets, _df])\n",
    "        while len(tweets) > block_size:\n",
    "            tweets[:block_size].to_csv(out_folder + '/tweets_' + str(file_num) +'.csv', encoding='utf8')\n",
    "            tweets = tweets[block_size:]\n",
    "            file_num += 1\n",
    "    tweets.to_csv(out_folder + '/tweets_' + str(file_num) +'.csv')"
   ]
  },
  {
   "cell_type": "code",
   "execution_count": null,
   "metadata": {
    "collapsed": true
   },
   "outputs": [],
   "source": [
    "%%time\n",
    "block('E:/london/large csv', 'E:/london/blocked')"
   ]
  },
  {
   "cell_type": "code",
   "execution_count": 5,
   "metadata": {
    "collapsed": false
   },
   "outputs": [
    {
     "name": "stdout",
     "output_type": "stream",
     "text": [
      "Wall time: 50.6 s\n"
     ]
    }
   ],
   "source": [
    "%%time\n",
    "lond = pd.read_csv('E:/london/large csv/london.csv')"
   ]
  },
  {
   "cell_type": "code",
   "execution_count": 20,
   "metadata": {
    "collapsed": false
   },
   "outputs": [
    {
     "name": "stdout",
     "output_type": "stream",
     "text": [
      "Wall time: 2min 24s\n"
     ]
    }
   ],
   "source": [
    "%%time\n",
    "block_london('E:/london/large csv', 'E:/london/blocked')"
   ]
  },
  {
   "cell_type": "code",
   "execution_count": 7,
   "metadata": {
    "collapsed": false
   },
   "outputs": [],
   "source": [
    "lond.columns = ['text', 'lat', 'lon', 'id', 'place', 'utc_offset', 'created_at']"
   ]
  },
  {
   "cell_type": "code",
   "execution_count": 24,
   "metadata": {
    "collapsed": false
   },
   "outputs": [],
   "source": [
    "a = pd.to_datetime(lond.head().created_at)"
   ]
  },
  {
   "cell_type": "code",
   "execution_count": 25,
   "metadata": {
    "collapsed": false
   },
   "outputs": [
    {
     "data": {
      "text/plain": [
       "0   2016-08-11 21:02:35\n",
       "1   2016-08-11 21:02:38\n",
       "2   2016-08-11 21:02:51\n",
       "3   2016-08-11 21:02:54\n",
       "4   2016-08-11 21:02:55\n",
       "Name: created_at, dtype: datetime64[ns]"
      ]
     },
     "execution_count": 25,
     "metadata": {},
     "output_type": "execute_result"
    }
   ],
   "source": [
    "a"
   ]
  },
  {
   "cell_type": "code",
   "execution_count": 31,
   "metadata": {
    "collapsed": false
   },
   "outputs": [
    {
     "data": {
      "text/plain": [
       "0   2016-08-11 15:02:35\n",
       "1   2016-08-11 15:02:38\n",
       "2   2016-08-11 15:02:51\n",
       "3   2016-08-11 15:02:54\n",
       "4   2016-08-11 15:02:55\n",
       "Name: created_at, dtype: datetime64[ns]"
      ]
     },
     "execution_count": 31,
     "metadata": {},
     "output_type": "execute_result"
    }
   ],
   "source": [
    "a - pd.to_timedelta(6, unit='h')"
   ]
  }
 ],
 "metadata": {
  "kernelspec": {
   "display_name": "Python 3",
   "language": "python",
   "name": "python3"
  },
  "language_info": {
   "codemirror_mode": {
    "name": "ipython",
    "version": 3
   },
   "file_extension": ".py",
   "mimetype": "text/x-python",
   "name": "python",
   "nbconvert_exporter": "python",
   "pygments_lexer": "ipython3",
   "version": "3.5.1"
  }
 },
 "nbformat": 4,
 "nbformat_minor": 0
}
