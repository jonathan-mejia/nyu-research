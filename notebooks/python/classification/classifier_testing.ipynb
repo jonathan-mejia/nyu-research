{
 "cells": [
  {
   "cell_type": "code",
   "execution_count": 1,
   "metadata": {
    "collapsed": true
   },
   "outputs": [],
   "source": [
    "from sklearn.pipeline import Pipeline\n",
    "from sklearn.feature_extraction.text import TfidfVectorizer\n",
    "from sklearn.linear_model import LogisticRegression\n",
    "import twokenize.twokenize as tokenizer\n",
    "\n",
    "from pipelines.helpers import ItemGetter\n",
    "\n",
    "def make_classifier():\n",
    "    clf = Pipeline([\n",
    "        (\"getter\", ItemGetter(\"text\")),\n",
    "        (\"tfidf\", TfidfVectorizer()),\n",
    "        (\"clf\", LogisticRegression())])\n",
    "\n",
    "    clf_params = {\n",
    "        'clf__C': 200,\n",
    "        'clf__dual': False,\n",
    "        'clf__max_iter': 100,\n",
    "        'clf__multi_class': 'ovr',\n",
    "        'clf__penalty': 'l2',\n",
    "        'tfidf__tokenizer':tokenizer.tokenize,\n",
    "        'tfidf__ngram_range':(1, 3),\n",
    "        'tfidf__max_features':200000\n",
    "    }\n",
    "\n",
    "    clf.set_params(**clf_params)\n",
    "    return clf"
   ]
  },
  {
   "cell_type": "code",
   "execution_count": 1,
   "metadata": {
    "collapsed": true
   },
   "outputs": [],
   "source": [
    "import pickle"
   ]
  },
  {
   "cell_type": "code",
   "execution_count": 13,
   "metadata": {
    "collapsed": false
   },
   "outputs": [],
   "source": [
    "clf_alc = pickle.load(open('pickles/clf_alc_UPDATED.p', 'rb'))"
   ]
  },
  {
   "cell_type": "code",
   "execution_count": 2,
   "metadata": {
    "collapsed": true
   },
   "outputs": [],
   "source": [
    "clf_alc = make_classifier()"
   ]
  },
  {
   "cell_type": "code",
   "execution_count": 2,
   "metadata": {
    "collapsed": false
   },
   "outputs": [
    {
     "name": "stdout",
     "output_type": "stream",
     "text": [
      "Wall time: 44 s\n"
     ]
    }
   ],
   "source": [
    "%%time\n",
    "\n",
    "from data import DataAccess, LabelGetter\n",
    "\n",
    "X_all = DataAccess.get_as_dataframe()\n",
    "L = LabelGetter(X_all)"
   ]
  },
  {
   "cell_type": "code",
   "execution_count": 6,
   "metadata": {
    "collapsed": true
   },
   "outputs": [],
   "source": [
    "X_s = X_all.sample(5000)\n",
    "L_s = LabelGetter(X_s)"
   ]
  },
  {
   "cell_type": "code",
   "execution_count": 7,
   "metadata": {
    "collapsed": true
   },
   "outputs": [],
   "source": [
    "X, y = L.get_alcohol()"
   ]
  },
  {
   "cell_type": "code",
   "execution_count": 3,
   "metadata": {
    "collapsed": true
   },
   "outputs": [],
   "source": [
    "from sklearn.cross_validation import train_test_split"
   ]
  },
  {
   "cell_type": "code",
   "execution_count": 17,
   "metadata": {
    "collapsed": false
   },
   "outputs": [],
   "source": [
    "X, y = L.get_alcohol()"
   ]
  },
  {
   "cell_type": "code",
   "execution_count": 18,
   "metadata": {
    "collapsed": false
   },
   "outputs": [
    {
     "data": {
      "text/plain": [
       "(15650, 11)"
      ]
     },
     "execution_count": 18,
     "metadata": {},
     "output_type": "execute_result"
    }
   ],
   "source": [
    "X.shape"
   ]
  },
  {
   "cell_type": "code",
   "execution_count": 19,
   "metadata": {
    "collapsed": false
   },
   "outputs": [],
   "source": [
    "X_train, X_test, y_train, y_test = train_test_split(\n",
    "        X, y, test_size=0.33, random_state=23)"
   ]
  },
  {
   "cell_type": "code",
   "execution_count": 20,
   "metadata": {
    "collapsed": false
   },
   "outputs": [
    {
     "data": {
      "text/plain": [
       "Pipeline(steps=[('features', FeatureUnion(n_jobs=1,\n",
       "       transformer_list=[('text', Pipeline(steps=[('getter', ItemGetter(key='text')), ('tfidf', TfidfVectorizer(analyzer='char', binary=False, decode_error='strict',\n",
       "        dtype=<class 'numpy.int64'>, encoding='utf-8', input='content',\n",
       "        lowercase=T...one,\n",
       "          solver='liblinear', tol=0.000655077907893521, verbose=0,\n",
       "          warm_start=None))])"
      ]
     },
     "execution_count": 20,
     "metadata": {},
     "output_type": "execute_result"
    }
   ],
   "source": [
    "clf_alc.fit(X_train, y_train)"
   ]
  },
  {
   "cell_type": "code",
   "execution_count": 4,
   "metadata": {
    "collapsed": true
   },
   "outputs": [],
   "source": [
    "from classification.reporting import ClassificationReporting"
   ]
  },
  {
   "cell_type": "code",
   "execution_count": 21,
   "metadata": {
    "collapsed": true
   },
   "outputs": [],
   "source": [
    "reporting = ClassificationReporting(clf_alc, X_train, X_test, y_train, y_test, 2)"
   ]
  },
  {
   "cell_type": "code",
   "execution_count": 22,
   "metadata": {
    "collapsed": false
   },
   "outputs": [
    {
     "name": "stderr",
     "output_type": "stream",
     "text": [
      "C:\\Users\\Tom Work\\Anaconda3\\lib\\site-packages\\sklearn\\metrics\\classification.py:976: DeprecationWarning: From version 0.18, binary input will not be handled specially when using averaged precision/recall/F-score. Please use average='binary' to report only the positive class performance.\n",
      "  'positive class performance.', DeprecationWarning)\n",
      "C:\\Users\\Tom Work\\Anaconda3\\lib\\site-packages\\sklearn\\metrics\\classification.py:976: DeprecationWarning: From version 0.18, binary input will not be handled specially when using averaged precision/recall/F-score. Please use average='binary' to report only the positive class performance.\n",
      "  'positive class performance.', DeprecationWarning)\n"
     ]
    },
    {
     "name": "stdout",
     "output_type": "stream",
     "text": [
      "Training Results\n",
      "~~~~~~~~~~~~~~~~\n",
      "classification_report\n",
      "             precision    recall  f1-score   support\n",
      "\n",
      "          0       1.00      1.00      1.00      3632\n",
      "          1       1.00      1.00      1.00      6853\n",
      "\n",
      "avg / total       1.00      1.00      1.00     10485\n",
      "\n",
      "\n",
      "\n",
      "f1_score\n",
      "0.9998540785057639\n",
      "\n",
      "\n",
      "accuracy_score\n",
      "0.9998092513113972\n",
      "\n",
      "\n",
      "confusion_matrix\n",
      "[[3631, 1], [1, 6852]]\n",
      "\n",
      "\n",
      "\n",
      "\n",
      "Testing Results Results\n",
      "~~~~~~~~~~~~~~~~~~~~~~~\n",
      "classification_report\n",
      "             precision    recall  f1-score   support\n",
      "\n",
      "          0       0.77      0.71      0.74      1723\n",
      "          1       0.86      0.89      0.88      3442\n",
      "\n",
      "avg / total       0.83      0.83      0.83      5165\n",
      "\n",
      "\n",
      "\n",
      "f1_score\n",
      "0.876993166287016\n",
      "\n",
      "\n",
      "accuracy_score\n",
      "0.8327202323330106\n",
      "\n",
      "\n",
      "confusion_matrix\n",
      "[[1221, 502], [362, 3080]]\n",
      "\n",
      "\n",
      "\n",
      "\n",
      "Wall time: 20.5 s\n"
     ]
    }
   ],
   "source": [
    "%%time\n",
    "report = reporting.set_name(\"Test Classifier\").set_level('alc').create_report(1)"
   ]
  },
  {
   "cell_type": "code",
   "execution_count": 14,
   "metadata": {
    "collapsed": false
   },
   "outputs": [
    {
     "name": "stderr",
     "output_type": "stream",
     "text": [
      "C:\\Users\\Tom Work\\Anaconda3\\lib\\site-packages\\sklearn\\metrics\\classification.py:976: DeprecationWarning: From version 0.18, binary input will not be handled specially when using averaged precision/recall/F-score. Please use average='binary' to report only the positive class performance.\n",
      "  'positive class performance.', DeprecationWarning)\n",
      "C:\\Users\\Tom Work\\Anaconda3\\lib\\site-packages\\sklearn\\metrics\\classification.py:976: DeprecationWarning: From version 0.18, binary input will not be handled specially when using averaged precision/recall/F-score. Please use average='binary' to report only the positive class performance.\n",
      "  'positive class performance.', DeprecationWarning)\n"
     ]
    },
    {
     "name": "stdout",
     "output_type": "stream",
     "text": [
      "Training Results\n",
      "~~~~~~~~~~~~~~~~\n",
      "accuracy_score\n",
      "0.9998479318734793\n",
      "\n",
      "\n",
      "classification_report\n",
      "             precision    recall  f1-score   support\n",
      "\n",
      "          0       1.00      1.00      1.00      2308\n",
      "          1       1.00      1.00      1.00      4268\n",
      "\n",
      "avg / total       1.00      1.00      1.00      6576\n",
      "\n",
      "\n",
      "\n",
      "confusion_matrix\n",
      "[[2307, 1], [0, 4268]]\n",
      "\n",
      "\n",
      "f1_score\n",
      "0.9998828628323767\n",
      "\n",
      "\n",
      "\n",
      "\n",
      "Testing Results Results\n",
      "~~~~~~~~~~~~~~~~~~~~~~~\n",
      "accuracy_score\n",
      "0.6657407407407407\n",
      "\n",
      "\n",
      "classification_report\n",
      "             precision    recall  f1-score   support\n",
      "\n",
      "          0       0.53      0.47      0.50      1151\n",
      "          1       0.73      0.78      0.75      2089\n",
      "\n",
      "avg / total       0.66      0.67      0.66      3240\n",
      "\n",
      "\n",
      "\n",
      "confusion_matrix\n",
      "[[537, 614], [469, 1620]]\n",
      "\n",
      "\n",
      "f1_score\n",
      "0.7494795281054822\n",
      "\n",
      "\n",
      "\n",
      "\n",
      "Wall time: 8.78 s\n"
     ]
    }
   ],
   "source": [
    "%%time\n",
    "report = reporting.set_name(\"Test Classifier\").set_level('alc').create_report(1)"
   ]
  },
  {
   "cell_type": "code",
   "execution_count": 6,
   "metadata": {
    "collapsed": false
   },
   "outputs": [],
   "source": [
    "clf_fpa = pickle.load(open('pickles/clf_fpa_UPDATED.p', 'rb'))"
   ]
  },
  {
   "cell_type": "code",
   "execution_count": 5,
   "metadata": {
    "collapsed": true
   },
   "outputs": [],
   "source": [
    "from classification import dao"
   ]
  },
  {
   "cell_type": "code",
   "execution_count": 12,
   "metadata": {
    "collapsed": true
   },
   "outputs": [],
   "source": [
    "import pickle"
   ]
  },
  {
   "cell_type": "code",
   "execution_count": 6,
   "metadata": {
    "collapsed": true
   },
   "outputs": [],
   "source": [
    "clf_fpa = make_classifier()"
   ]
  },
  {
   "cell_type": "code",
   "execution_count": 15,
   "metadata": {
    "collapsed": false
   },
   "outputs": [
    {
     "data": {
      "text/plain": [
       "Pipeline(steps=[('features', FeatureUnion(n_jobs=1,\n",
       "       transformer_list=[('text', Pipeline(steps=[('getter', ItemGetter(key='text')), ('tfidf', TfidfVectorizer(analyzer='char', binary=False, decode_error='strict',\n",
       "        dtype=<class 'numpy.int64'>, encoding='utf-8', input='content',\n",
       "        lowercase=F...probability=True,\n",
       "  random_state=None, shrinking=True, tol=0.0008753898561476732,\n",
       "  verbose=False))])"
      ]
     },
     "execution_count": 15,
     "metadata": {},
     "output_type": "execute_result"
    }
   ],
   "source": [
    "clf_fpa"
   ]
  },
  {
   "cell_type": "code",
   "execution_count": 7,
   "metadata": {
    "collapsed": true
   },
   "outputs": [],
   "source": [
    "X, y = L.get_first_person()"
   ]
  },
  {
   "cell_type": "code",
   "execution_count": 28,
   "metadata": {
    "collapsed": false
   },
   "outputs": [
    {
     "data": {
      "text/html": [
       "<div>\n",
       "<table border=\"1\" class=\"dataframe\">\n",
       "  <thead>\n",
       "    <tr style=\"text-align: right;\">\n",
       "      <th></th>\n",
       "      <th>created_at</th>\n",
       "      <th>labels</th>\n",
       "      <th>predict</th>\n",
       "      <th>text</th>\n",
       "      <th>user</th>\n",
       "      <th>user.created_at</th>\n",
       "      <th>user.favourites_count</th>\n",
       "      <th>user.followers_count</th>\n",
       "      <th>user.friends_count</th>\n",
       "      <th>user.statuses_count</th>\n",
       "      <th>user.verified</th>\n",
       "    </tr>\n",
       "    <tr>\n",
       "      <th>_id</th>\n",
       "      <th></th>\n",
       "      <th></th>\n",
       "      <th></th>\n",
       "      <th></th>\n",
       "      <th></th>\n",
       "      <th></th>\n",
       "      <th></th>\n",
       "      <th></th>\n",
       "      <th></th>\n",
       "      <th></th>\n",
       "      <th></th>\n",
       "    </tr>\n",
       "  </thead>\n",
       "  <tbody>\n",
       "    <tr>\n",
       "      <th>556e128ad6dfbb46288111e4</th>\n",
       "      <td>Tue Jun 02 20:31:44 +0000 2015</td>\n",
       "      <td>{'alcohol_related': 1, 'first_person': 0, 'alc...</td>\n",
       "      <td>0.516649</td>\n",
       "      <td>Beer fans need their @ColumbusBrewing Bodhi. I...</td>\n",
       "      <td>{'verified': False, 'followers_count': 1006, '...</td>\n",
       "      <td>Mon Oct 06 21:00:38 +0000 2008</td>\n",
       "      <td>806</td>\n",
       "      <td>1006</td>\n",
       "      <td>960</td>\n",
       "      <td>10442</td>\n",
       "      <td>False</td>\n",
       "    </tr>\n",
       "    <tr>\n",
       "      <th>556e12e6d6dfbb462881153e</th>\n",
       "      <td>Tue Jun 02 20:33:15 +0000 2015</td>\n",
       "      <td>{'first_person_level': 0, 'first_person': 1, '...</td>\n",
       "      <td>0.523513</td>\n",
       "      <td>Beer Olympics with my #1 fan and babe😍❤️ #Team...</td>\n",
       "      <td>{'verified': False, 'followers_count': 563, 'f...</td>\n",
       "      <td>Tue Dec 20 02:46:19 +0000 2011</td>\n",
       "      <td>11662</td>\n",
       "      <td>563</td>\n",
       "      <td>356</td>\n",
       "      <td>13940</td>\n",
       "      <td>False</td>\n",
       "    </tr>\n",
       "    <tr>\n",
       "      <th>556e1464d6dfbb4628812330</th>\n",
       "      <td>Tue Jun 02 20:39:37 +0000 2015</td>\n",
       "      <td>{'alcohol': 1, 'first_person': 0, 'alcohol_rel...</td>\n",
       "      <td>0.502633</td>\n",
       "      <td>Stone Cold use to be the baddest MF in my book...</td>\n",
       "      <td>{'verified': False, 'followers_count': 703, 'f...</td>\n",
       "      <td>Sun Mar 11 08:22:56 +0000 2012</td>\n",
       "      <td>860</td>\n",
       "      <td>703</td>\n",
       "      <td>684</td>\n",
       "      <td>89573</td>\n",
       "      <td>False</td>\n",
       "    </tr>\n",
       "    <tr>\n",
       "      <th>556e15f1d6dfbb4628813236</th>\n",
       "      <td>Tue Jun 02 20:46:14 +0000 2015</td>\n",
       "      <td>{'alcohol': 1, 'first_person': 0, 'alcohol_rel...</td>\n",
       "      <td>0.535758</td>\n",
       "      <td>Now @iamjohnoliver has to drink a Bud Light Li...</td>\n",
       "      <td>{'verified': True, 'followers_count': 9414, 'f...</td>\n",
       "      <td>Thu Jan 14 03:03:33 +0000 2010</td>\n",
       "      <td>3473</td>\n",
       "      <td>9414</td>\n",
       "      <td>1486</td>\n",
       "      <td>16435</td>\n",
       "      <td>True</td>\n",
       "    </tr>\n",
       "    <tr>\n",
       "      <th>556e1660d6dfbb462881361f</th>\n",
       "      <td>Tue Jun 02 20:48:04 +0000 2015</td>\n",
       "      <td>{'first_person_level': 0, 'first_person': 1, '...</td>\n",
       "      <td>0.536733</td>\n",
       "      <td>Drinking a Soft Parade by @ShortsBrewing @ Lak...</td>\n",
       "      <td>{'verified': False, 'followers_count': 543, 'f...</td>\n",
       "      <td>Sun Mar 22 18:14:34 +0000 2009</td>\n",
       "      <td>13256</td>\n",
       "      <td>543</td>\n",
       "      <td>626</td>\n",
       "      <td>20051</td>\n",
       "      <td>False</td>\n",
       "    </tr>\n",
       "  </tbody>\n",
       "</table>\n",
       "</div>"
      ],
      "text/plain": [
       "                                              created_at  \\\n",
       "_id                                                        \n",
       "556e128ad6dfbb46288111e4  Tue Jun 02 20:31:44 +0000 2015   \n",
       "556e12e6d6dfbb462881153e  Tue Jun 02 20:33:15 +0000 2015   \n",
       "556e1464d6dfbb4628812330  Tue Jun 02 20:39:37 +0000 2015   \n",
       "556e15f1d6dfbb4628813236  Tue Jun 02 20:46:14 +0000 2015   \n",
       "556e1660d6dfbb462881361f  Tue Jun 02 20:48:04 +0000 2015   \n",
       "\n",
       "                                                                     labels  \\\n",
       "_id                                                                           \n",
       "556e128ad6dfbb46288111e4  {'alcohol_related': 1, 'first_person': 0, 'alc...   \n",
       "556e12e6d6dfbb462881153e  {'first_person_level': 0, 'first_person': 1, '...   \n",
       "556e1464d6dfbb4628812330  {'alcohol': 1, 'first_person': 0, 'alcohol_rel...   \n",
       "556e15f1d6dfbb4628813236  {'alcohol': 1, 'first_person': 0, 'alcohol_rel...   \n",
       "556e1660d6dfbb462881361f  {'first_person_level': 0, 'first_person': 1, '...   \n",
       "\n",
       "                           predict  \\\n",
       "_id                                  \n",
       "556e128ad6dfbb46288111e4  0.516649   \n",
       "556e12e6d6dfbb462881153e  0.523513   \n",
       "556e1464d6dfbb4628812330  0.502633   \n",
       "556e15f1d6dfbb4628813236  0.535758   \n",
       "556e1660d6dfbb462881361f  0.536733   \n",
       "\n",
       "                                                                       text  \\\n",
       "_id                                                                           \n",
       "556e128ad6dfbb46288111e4  Beer fans need their @ColumbusBrewing Bodhi. I...   \n",
       "556e12e6d6dfbb462881153e  Beer Olympics with my #1 fan and babe😍❤️ #Team...   \n",
       "556e1464d6dfbb4628812330  Stone Cold use to be the baddest MF in my book...   \n",
       "556e15f1d6dfbb4628813236  Now @iamjohnoliver has to drink a Bud Light Li...   \n",
       "556e1660d6dfbb462881361f  Drinking a Soft Parade by @ShortsBrewing @ Lak...   \n",
       "\n",
       "                                                                       user  \\\n",
       "_id                                                                           \n",
       "556e128ad6dfbb46288111e4  {'verified': False, 'followers_count': 1006, '...   \n",
       "556e12e6d6dfbb462881153e  {'verified': False, 'followers_count': 563, 'f...   \n",
       "556e1464d6dfbb4628812330  {'verified': False, 'followers_count': 703, 'f...   \n",
       "556e15f1d6dfbb4628813236  {'verified': True, 'followers_count': 9414, 'f...   \n",
       "556e1660d6dfbb462881361f  {'verified': False, 'followers_count': 543, 'f...   \n",
       "\n",
       "                                         user.created_at  \\\n",
       "_id                                                        \n",
       "556e128ad6dfbb46288111e4  Mon Oct 06 21:00:38 +0000 2008   \n",
       "556e12e6d6dfbb462881153e  Tue Dec 20 02:46:19 +0000 2011   \n",
       "556e1464d6dfbb4628812330  Sun Mar 11 08:22:56 +0000 2012   \n",
       "556e15f1d6dfbb4628813236  Thu Jan 14 03:03:33 +0000 2010   \n",
       "556e1660d6dfbb462881361f  Sun Mar 22 18:14:34 +0000 2009   \n",
       "\n",
       "                          user.favourites_count  user.followers_count  \\\n",
       "_id                                                                     \n",
       "556e128ad6dfbb46288111e4                    806                  1006   \n",
       "556e12e6d6dfbb462881153e                  11662                   563   \n",
       "556e1464d6dfbb4628812330                    860                   703   \n",
       "556e15f1d6dfbb4628813236                   3473                  9414   \n",
       "556e1660d6dfbb462881361f                  13256                   543   \n",
       "\n",
       "                          user.friends_count  user.statuses_count  \\\n",
       "_id                                                                 \n",
       "556e128ad6dfbb46288111e4                 960                10442   \n",
       "556e12e6d6dfbb462881153e                 356                13940   \n",
       "556e1464d6dfbb4628812330                 684                89573   \n",
       "556e15f1d6dfbb4628813236                1486                16435   \n",
       "556e1660d6dfbb462881361f                 626                20051   \n",
       "\n",
       "                         user.verified  \n",
       "_id                                     \n",
       "556e128ad6dfbb46288111e4         False  \n",
       "556e12e6d6dfbb462881153e         False  \n",
       "556e1464d6dfbb4628812330         False  \n",
       "556e15f1d6dfbb4628813236          True  \n",
       "556e1660d6dfbb462881361f         False  "
      ]
     },
     "execution_count": 28,
     "metadata": {},
     "output_type": "execute_result"
    }
   ],
   "source": [
    "X.head()"
   ]
  },
  {
   "cell_type": "code",
   "execution_count": 21,
   "metadata": {
    "collapsed": false
   },
   "outputs": [
    {
     "data": {
      "text/plain": [
       "(9816, 11)"
      ]
     },
     "execution_count": 21,
     "metadata": {},
     "output_type": "execute_result"
    }
   ],
   "source": [
    "X.shape"
   ]
  },
  {
   "cell_type": "code",
   "execution_count": 8,
   "metadata": {
    "collapsed": false
   },
   "outputs": [],
   "source": [
    "X_train, X_test, y_train, y_test = train_test_split(\n",
    "        X, y, test_size=0.33, random_state=24)"
   ]
  },
  {
   "cell_type": "code",
   "execution_count": 9,
   "metadata": {
    "collapsed": false
   },
   "outputs": [
    {
     "name": "stdout",
     "output_type": "stream",
     "text": [
      "Wall time: 9min 55s\n"
     ]
    },
    {
     "data": {
      "text/plain": [
       "Pipeline(steps=[('features', FeatureUnion(n_jobs=1,\n",
       "       transformer_list=[('text', Pipeline(steps=[('getter', ItemGetter(key='text')), ('tfidf', TfidfVectorizer(analyzer='char', binary=False, decode_error='strict',\n",
       "        dtype=<class 'numpy.int64'>, encoding='utf-8', input='content',\n",
       "        lowercase=F...probability=True,\n",
       "  random_state=None, shrinking=True, tol=0.0008753898561476732,\n",
       "  verbose=False))])"
      ]
     },
     "execution_count": 9,
     "metadata": {},
     "output_type": "execute_result"
    }
   ],
   "source": [
    "%%time\n",
    "clf_fpa.fit(X_train, y_train)"
   ]
  },
  {
   "cell_type": "code",
   "execution_count": 10,
   "metadata": {
    "collapsed": false
   },
   "outputs": [],
   "source": [
    "reporting_fpa = ClassificationReporting(clf_fpa, X_train, X_test, y_train, y_test, 2)"
   ]
  },
  {
   "cell_type": "code",
   "execution_count": 16,
   "metadata": {
    "collapsed": false
   },
   "outputs": [
    {
     "data": {
      "text/plain": [
       "2122"
      ]
     },
     "execution_count": 16,
     "metadata": {},
     "output_type": "execute_result"
    }
   ],
   "source": [
    "sum(y_test)"
   ]
  },
  {
   "cell_type": "code",
   "execution_count": 11,
   "metadata": {
    "collapsed": false
   },
   "outputs": [
    {
     "name": "stderr",
     "output_type": "stream",
     "text": [
      "C:\\Users\\Tom Work\\Anaconda3\\lib\\site-packages\\sklearn\\metrics\\classification.py:976: DeprecationWarning: From version 0.18, binary input will not be handled specially when using averaged precision/recall/F-score. Please use average='binary' to report only the positive class performance.\n",
      "  'positive class performance.', DeprecationWarning)\n",
      "C:\\Users\\Tom Work\\Anaconda3\\lib\\site-packages\\sklearn\\metrics\\classification.py:976: DeprecationWarning: From version 0.18, binary input will not be handled specially when using averaged precision/recall/F-score. Please use average='binary' to report only the positive class performance.\n",
      "  'positive class performance.', DeprecationWarning)\n"
     ]
    },
    {
     "name": "stdout",
     "output_type": "stream",
     "text": [
      "Training Results\n",
      "~~~~~~~~~~~~~~~~\n",
      "classification_report\n",
      "             precision    recall  f1-score   support\n",
      "\n",
      "          0       0.87      0.43      0.58      2341\n",
      "          1       0.75      0.96      0.85      4235\n",
      "\n",
      "avg / total       0.80      0.77      0.75      6576\n",
      "\n",
      "\n",
      "\n",
      "f1_score\n",
      "0.8464807712242147\n",
      "\n",
      "\n",
      "accuracy_score\n",
      "0.774787104622871\n",
      "\n",
      "\n",
      "confusion_matrix\n",
      "[[1012, 1329], [152, 4083]]\n",
      "\n",
      "\n",
      "\n",
      "\n",
      "Testing Results Results\n",
      "~~~~~~~~~~~~~~~~~~~~~~~\n",
      "classification_report\n",
      "             precision    recall  f1-score   support\n",
      "\n",
      "          0       0.63      0.27      0.38      1118\n",
      "          1       0.70      0.91      0.80      2122\n",
      "\n",
      "avg / total       0.68      0.69      0.65      3240\n",
      "\n",
      "\n",
      "\n",
      "f1_score\n",
      "0.7960607304062373\n",
      "\n",
      "\n",
      "accuracy_score\n",
      "0.6932098765432099\n",
      "\n",
      "\n",
      "confusion_matrix\n",
      "[[306, 812], [182, 1940]]\n",
      "\n",
      "\n",
      "\n",
      "\n",
      "Wall time: 3min 53s\n"
     ]
    }
   ],
   "source": [
    "%%time\n",
    "report = reporting_fpa.set_name(\"Test Classifier\").set_level('fpa').create_report(1)"
   ]
  },
  {
   "cell_type": "code",
   "execution_count": 13,
   "metadata": {
    "collapsed": false
   },
   "outputs": [
    {
     "name": "stderr",
     "output_type": "stream",
     "text": [
      "C:\\Users\\Tom Work\\Anaconda3\\lib\\site-packages\\sklearn\\metrics\\classification.py:976: DeprecationWarning: From version 0.18, binary input will not be handled specially when using averaged precision/recall/F-score. Please use average='binary' to report only the positive class performance.\n",
      "  'positive class performance.', DeprecationWarning)\n",
      "C:\\Users\\Tom Work\\Anaconda3\\lib\\site-packages\\sklearn\\metrics\\classification.py:976: DeprecationWarning: From version 0.18, binary input will not be handled specially when using averaged precision/recall/F-score. Please use average='binary' to report only the positive class performance.\n",
      "  'positive class performance.', DeprecationWarning)\n"
     ]
    },
    {
     "name": "stdout",
     "output_type": "stream",
     "text": [
      "Training Results\n",
      "~~~~~~~~~~~~~~~~\n",
      "f1_score\n",
      "0.9996459341437508\n",
      "\n",
      "\n",
      "confusion_matrix\n",
      "[[2338, 3], [0, 4235]]\n",
      "\n",
      "\n",
      "accuracy_score\n",
      "0.9995437956204379\n",
      "\n",
      "\n",
      "classification_report\n",
      "             precision    recall  f1-score   support\n",
      "\n",
      "          0       1.00      1.00      1.00      2341\n",
      "          1       1.00      1.00      1.00      4235\n",
      "\n",
      "avg / total       1.00      1.00      1.00      6576\n",
      "\n",
      "\n",
      "\n",
      "\n",
      "\n",
      "Testing Results Results\n",
      "~~~~~~~~~~~~~~~~~~~~~~~\n",
      "f1_score\n",
      "0.786350793305803\n",
      "\n",
      "\n",
      "confusion_matrix\n",
      "[[448, 670], [313, 1809]]\n",
      "\n",
      "\n",
      "accuracy_score\n",
      "0.696604938271605\n",
      "\n",
      "\n",
      "classification_report\n",
      "             precision    recall  f1-score   support\n",
      "\n",
      "          0       0.59      0.40      0.48      1118\n",
      "          1       0.73      0.85      0.79      2122\n",
      "\n",
      "avg / total       0.68      0.70      0.68      3240\n",
      "\n",
      "\n",
      "\n",
      "\n",
      "\n",
      "Wall time: 8.9 s\n"
     ]
    }
   ],
   "source": [
    "%%time\n",
    "report = reporting_fpa.set_name(\"Test Classifier\").set_level('fpa').create_report(1)"
   ]
  },
  {
   "cell_type": "code",
   "execution_count": 46,
   "metadata": {
    "collapsed": false
   },
   "outputs": [
    {
     "name": "stdout",
     "output_type": "stream",
     "text": [
      "Training Results\n",
      "~~~~~~~~~~~~~~~~\n",
      "classification_report\n",
      "             precision    recall  f1-score   support\n",
      "\n",
      "          0       1.00      1.00      1.00      2220\n",
      "          1       1.00      1.00      1.00      1112\n",
      "          2       1.00      1.00      1.00       927\n",
      "\n",
      "avg / total       1.00      1.00      1.00      4259\n",
      "\n",
      "\n",
      "\n",
      "confusion_matrix\n",
      "[[2216, 1, 3], [1, 1111, 0], [3, 0, 924]]\n",
      "\n",
      "\n",
      "f1_score\n",
      "0.9981216247945527\n",
      "\n",
      "\n",
      "accuracy_score\n",
      "0.9981216247945527\n",
      "\n",
      "\n",
      "\n",
      "\n",
      "Testing Results Results\n",
      "~~~~~~~~~~~~~~~~~~~~~~~\n",
      "classification_report\n",
      "             precision    recall  f1-score   support\n",
      "\n",
      "          0       0.71      0.74      0.72      1067\n",
      "          1       0.58      0.60      0.59       564\n",
      "          2       0.51      0.44      0.47       467\n",
      "\n",
      "avg / total       0.63      0.64      0.63      2098\n",
      "\n",
      "\n",
      "\n",
      "confusion_matrix\n",
      "[[787, 147, 133], [158, 341, 65], [162, 99, 206]]\n",
      "\n",
      "\n",
      "f1_score\n",
      "0.6327959100580349\n",
      "\n",
      "\n",
      "accuracy_score\n",
      "0.6358436606291706\n",
      "\n",
      "\n",
      "\n",
      "\n",
      "Wall time: 2.09 s\n"
     ]
    }
   ],
   "source": [
    "%%time\n",
    "report = reporting_fpl.set_name(\"Test Classifier\").set_level('fpl').create_report(1)"
   ]
  }
 ],
 "metadata": {
  "kernelspec": {
   "display_name": "Python 3",
   "language": "python",
   "name": "python3"
  },
  "language_info": {
   "codemirror_mode": {
    "name": "ipython",
    "version": 3
   },
   "file_extension": ".py",
   "mimetype": "text/x-python",
   "name": "python",
   "nbconvert_exporter": "python",
   "pygments_lexer": "ipython3",
   "version": "3.5.1"
  }
 },
 "nbformat": 4,
 "nbformat_minor": 0
}
