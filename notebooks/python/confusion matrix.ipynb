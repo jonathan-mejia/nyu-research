{
 "cells": [
  {
   "cell_type": "code",
   "execution_count": 1,
   "metadata": {
    "collapsed": true
   },
   "outputs": [],
   "source": [
    "import os\n",
    "import pickle"
   ]
  },
  {
   "cell_type": "code",
   "execution_count": 3,
   "metadata": {
    "collapsed": false
   },
   "outputs": [],
   "source": [
    "os.chdir('/Users/tom/PycharmProjects/nyu-twipsy')"
   ]
  },
  {
   "cell_type": "markdown",
   "metadata": {},
   "source": [
    "Testing the new threshold"
   ]
  },
  {
   "cell_type": "code",
   "execution_count": 20,
   "metadata": {
    "collapsed": false
   },
   "outputs": [],
   "source": [
    "clf_alc = pickle.load(open('/Users/tom/Documents/classifiers/clf_alc_UPDATED.p', 'rb'))"
   ]
  },
  {
   "cell_type": "code",
   "execution_count": 14,
   "metadata": {
    "collapsed": false
   },
   "outputs": [],
   "source": [
    "# set the threshold: 99% of data is not alcohol related\n",
    "clf_alc.steps[2][1].class_weight = {0:0.99, 1:0.01}"
   ]
  },
  {
   "cell_type": "code",
   "execution_count": 5,
   "metadata": {
    "collapsed": false
   },
   "outputs": [],
   "source": [
    "from data.dao import DataAccess, LabelGetter"
   ]
  },
  {
   "cell_type": "code",
   "execution_count": 7,
   "metadata": {
    "collapsed": false
   },
   "outputs": [],
   "source": [
    "X = DataAccess.get_as_dataframe()\n",
    "L = LabelGetter(X)\n",
    "X, y = L.get_alcohol()"
   ]
  },
  {
   "cell_type": "code",
   "execution_count": 17,
   "metadata": {
    "collapsed": true
   },
   "outputs": [],
   "source": [
    "from sklearn.cross_validation import train_test_split\n",
    "from sklearn.metrics import confusion_matrix"
   ]
  },
  {
   "cell_type": "code",
   "execution_count": 10,
   "metadata": {
    "collapsed": false
   },
   "outputs": [
    {
     "data": {
      "text/html": [
       "<div>\n",
       "<table border=\"1\" class=\"dataframe\">\n",
       "  <thead>\n",
       "    <tr style=\"text-align: right;\">\n",
       "      <th></th>\n",
       "      <th>created_at</th>\n",
       "      <th>labels</th>\n",
       "      <th>predict</th>\n",
       "      <th>text</th>\n",
       "      <th>user</th>\n",
       "      <th>user.created_at</th>\n",
       "      <th>user.favourites_count</th>\n",
       "      <th>user.followers_count</th>\n",
       "      <th>user.friends_count</th>\n",
       "      <th>user.statuses_count</th>\n",
       "      <th>user.verified</th>\n",
       "    </tr>\n",
       "    <tr>\n",
       "      <th>_id</th>\n",
       "      <th></th>\n",
       "      <th></th>\n",
       "      <th></th>\n",
       "      <th></th>\n",
       "      <th></th>\n",
       "      <th></th>\n",
       "      <th></th>\n",
       "      <th></th>\n",
       "      <th></th>\n",
       "      <th></th>\n",
       "      <th></th>\n",
       "    </tr>\n",
       "  </thead>\n",
       "  <tbody>\n",
       "    <tr>\n",
       "      <th>556e0ee3d6dfbb462880f0a5</th>\n",
       "      <td>Tue Jun 02 20:16:08 +0000 2015</td>\n",
       "      <td>{'alcohol': 0}</td>\n",
       "      <td>0.526050</td>\n",
       "      <td>Impatiently waiting to get our hands on the ne...</td>\n",
       "      <td>{'favourites_count': 394, 'followers_count': 4...</td>\n",
       "      <td>Thu Jun 12 22:14:05 +0000 2014</td>\n",
       "      <td>394</td>\n",
       "      <td>407</td>\n",
       "      <td>1997</td>\n",
       "      <td>823</td>\n",
       "      <td>False</td>\n",
       "    </tr>\n",
       "    <tr>\n",
       "      <th>556e128ad6dfbb46288111e4</th>\n",
       "      <td>Tue Jun 02 20:31:44 +0000 2015</td>\n",
       "      <td>{'alcohol_related': 1, 'first_person': 0, 'alc...</td>\n",
       "      <td>0.516649</td>\n",
       "      <td>Beer fans need their @ColumbusBrewing Bodhi. I...</td>\n",
       "      <td>{'favourites_count': 806, 'followers_count': 1...</td>\n",
       "      <td>Mon Oct 06 21:00:38 +0000 2008</td>\n",
       "      <td>806</td>\n",
       "      <td>1006</td>\n",
       "      <td>960</td>\n",
       "      <td>10442</td>\n",
       "      <td>False</td>\n",
       "    </tr>\n",
       "    <tr>\n",
       "      <th>556e12e6d6dfbb462881153e</th>\n",
       "      <td>Tue Jun 02 20:33:15 +0000 2015</td>\n",
       "      <td>{'first_person': 1, 'alcohol': 1, 'first_perso...</td>\n",
       "      <td>0.523513</td>\n",
       "      <td>Beer Olympics with my #1 fan and babe😍❤️ #Team...</td>\n",
       "      <td>{'favourites_count': 11662, 'followers_count':...</td>\n",
       "      <td>Tue Dec 20 02:46:19 +0000 2011</td>\n",
       "      <td>11662</td>\n",
       "      <td>563</td>\n",
       "      <td>356</td>\n",
       "      <td>13940</td>\n",
       "      <td>False</td>\n",
       "    </tr>\n",
       "    <tr>\n",
       "      <th>556e1464d6dfbb4628812330</th>\n",
       "      <td>Tue Jun 02 20:39:37 +0000 2015</td>\n",
       "      <td>{'alcohol_related': 0, 'first_person': 0, 'alc...</td>\n",
       "      <td>0.502633</td>\n",
       "      <td>Stone Cold use to be the baddest MF in my book...</td>\n",
       "      <td>{'favourites_count': 860, 'followers_count': 7...</td>\n",
       "      <td>Sun Mar 11 08:22:56 +0000 2012</td>\n",
       "      <td>860</td>\n",
       "      <td>703</td>\n",
       "      <td>684</td>\n",
       "      <td>89573</td>\n",
       "      <td>False</td>\n",
       "    </tr>\n",
       "    <tr>\n",
       "      <th>556e15f1d6dfbb4628813236</th>\n",
       "      <td>Tue Jun 02 20:46:14 +0000 2015</td>\n",
       "      <td>{'alcohol_related': 0, 'first_person': 0, 'alc...</td>\n",
       "      <td>0.535758</td>\n",
       "      <td>Now @iamjohnoliver has to drink a Bud Light Li...</td>\n",
       "      <td>{'favourites_count': 3473, 'followers_count': ...</td>\n",
       "      <td>Thu Jan 14 03:03:33 +0000 2010</td>\n",
       "      <td>3473</td>\n",
       "      <td>9414</td>\n",
       "      <td>1486</td>\n",
       "      <td>16435</td>\n",
       "      <td>True</td>\n",
       "    </tr>\n",
       "  </tbody>\n",
       "</table>\n",
       "</div>"
      ],
      "text/plain": [
       "                                              created_at  \\\n",
       "_id                                                        \n",
       "556e0ee3d6dfbb462880f0a5  Tue Jun 02 20:16:08 +0000 2015   \n",
       "556e128ad6dfbb46288111e4  Tue Jun 02 20:31:44 +0000 2015   \n",
       "556e12e6d6dfbb462881153e  Tue Jun 02 20:33:15 +0000 2015   \n",
       "556e1464d6dfbb4628812330  Tue Jun 02 20:39:37 +0000 2015   \n",
       "556e15f1d6dfbb4628813236  Tue Jun 02 20:46:14 +0000 2015   \n",
       "\n",
       "                                                                     labels  \\\n",
       "_id                                                                           \n",
       "556e0ee3d6dfbb462880f0a5                                     {'alcohol': 0}   \n",
       "556e128ad6dfbb46288111e4  {'alcohol_related': 1, 'first_person': 0, 'alc...   \n",
       "556e12e6d6dfbb462881153e  {'first_person': 1, 'alcohol': 1, 'first_perso...   \n",
       "556e1464d6dfbb4628812330  {'alcohol_related': 0, 'first_person': 0, 'alc...   \n",
       "556e15f1d6dfbb4628813236  {'alcohol_related': 0, 'first_person': 0, 'alc...   \n",
       "\n",
       "                           predict  \\\n",
       "_id                                  \n",
       "556e0ee3d6dfbb462880f0a5  0.526050   \n",
       "556e128ad6dfbb46288111e4  0.516649   \n",
       "556e12e6d6dfbb462881153e  0.523513   \n",
       "556e1464d6dfbb4628812330  0.502633   \n",
       "556e15f1d6dfbb4628813236  0.535758   \n",
       "\n",
       "                                                                       text  \\\n",
       "_id                                                                           \n",
       "556e0ee3d6dfbb462880f0a5  Impatiently waiting to get our hands on the ne...   \n",
       "556e128ad6dfbb46288111e4  Beer fans need their @ColumbusBrewing Bodhi. I...   \n",
       "556e12e6d6dfbb462881153e  Beer Olympics with my #1 fan and babe😍❤️ #Team...   \n",
       "556e1464d6dfbb4628812330  Stone Cold use to be the baddest MF in my book...   \n",
       "556e15f1d6dfbb4628813236  Now @iamjohnoliver has to drink a Bud Light Li...   \n",
       "\n",
       "                                                                       user  \\\n",
       "_id                                                                           \n",
       "556e0ee3d6dfbb462880f0a5  {'favourites_count': 394, 'followers_count': 4...   \n",
       "556e128ad6dfbb46288111e4  {'favourites_count': 806, 'followers_count': 1...   \n",
       "556e12e6d6dfbb462881153e  {'favourites_count': 11662, 'followers_count':...   \n",
       "556e1464d6dfbb4628812330  {'favourites_count': 860, 'followers_count': 7...   \n",
       "556e15f1d6dfbb4628813236  {'favourites_count': 3473, 'followers_count': ...   \n",
       "\n",
       "                                         user.created_at  \\\n",
       "_id                                                        \n",
       "556e0ee3d6dfbb462880f0a5  Thu Jun 12 22:14:05 +0000 2014   \n",
       "556e128ad6dfbb46288111e4  Mon Oct 06 21:00:38 +0000 2008   \n",
       "556e12e6d6dfbb462881153e  Tue Dec 20 02:46:19 +0000 2011   \n",
       "556e1464d6dfbb4628812330  Sun Mar 11 08:22:56 +0000 2012   \n",
       "556e15f1d6dfbb4628813236  Thu Jan 14 03:03:33 +0000 2010   \n",
       "\n",
       "                          user.favourites_count  user.followers_count  \\\n",
       "_id                                                                     \n",
       "556e0ee3d6dfbb462880f0a5                    394                   407   \n",
       "556e128ad6dfbb46288111e4                    806                  1006   \n",
       "556e12e6d6dfbb462881153e                  11662                   563   \n",
       "556e1464d6dfbb4628812330                    860                   703   \n",
       "556e15f1d6dfbb4628813236                   3473                  9414   \n",
       "\n",
       "                          user.friends_count  user.statuses_count  \\\n",
       "_id                                                                 \n",
       "556e0ee3d6dfbb462880f0a5                1997                  823   \n",
       "556e128ad6dfbb46288111e4                 960                10442   \n",
       "556e12e6d6dfbb462881153e                 356                13940   \n",
       "556e1464d6dfbb4628812330                 684                89573   \n",
       "556e15f1d6dfbb4628813236                1486                16435   \n",
       "\n",
       "                         user.verified  \n",
       "_id                                     \n",
       "556e0ee3d6dfbb462880f0a5         False  \n",
       "556e128ad6dfbb46288111e4         False  \n",
       "556e12e6d6dfbb462881153e         False  \n",
       "556e1464d6dfbb4628812330         False  \n",
       "556e15f1d6dfbb4628813236          True  "
      ]
     },
     "execution_count": 10,
     "metadata": {},
     "output_type": "execute_result"
    }
   ],
   "source": [
    "X.head()"
   ]
  },
  {
   "cell_type": "code",
   "execution_count": 12,
   "metadata": {
    "collapsed": true
   },
   "outputs": [],
   "source": [
    "X_train, X_test, y_train, y_test = train_test_split(X, y, test_size=0.33, random_state=26)"
   ]
  },
  {
   "cell_type": "code",
   "execution_count": 21,
   "metadata": {
    "collapsed": false
   },
   "outputs": [
    {
     "data": {
      "text/plain": [
       "Pipeline(steps=[('features', FeatureUnion(n_jobs=1,\n",
       "       transformer_list=[('text', Pipeline(steps=[('getter', ItemGetter(key='text')), ('tfidf', TfidfVectorizer(analyzer='char', binary=False, decode_error='strict',\n",
       "        dtype=<class 'numpy.int64'>, encoding='utf-8', input='content',\n",
       "        lowercase=T...one,\n",
       "          solver='liblinear', tol=0.000655077907893521, verbose=0,\n",
       "          warm_start=None))])"
      ]
     },
     "execution_count": 21,
     "metadata": {},
     "output_type": "execute_result"
    }
   ],
   "source": [
    "clf_alc.fit(X_train, y_train)"
   ]
  },
  {
   "cell_type": "code",
   "execution_count": 22,
   "metadata": {
    "collapsed": true
   },
   "outputs": [],
   "source": [
    "y_predict = clf_alc.predict(X_test)"
   ]
  },
  {
   "cell_type": "code",
   "execution_count": 19,
   "metadata": {
    "collapsed": false
   },
   "outputs": [
    {
     "data": {
      "text/plain": [
       "array([[1677,   97],\n",
       "       [2006, 1385]])"
      ]
     },
     "execution_count": 19,
     "metadata": {},
     "output_type": "execute_result"
    }
   ],
   "source": [
    "# matrix with the new threshold\n",
    "confusion_matrix(y_test, y_predict)"
   ]
  },
  {
   "cell_type": "markdown",
   "metadata": {},
   "source": [
    "This is the old matrix"
   ]
  },
  {
   "cell_type": "code",
   "execution_count": 24,
   "metadata": {
    "collapsed": false
   },
   "outputs": [
    {
     "data": {
      "text/plain": [
       "array([[1247,  527],\n",
       "       [ 342, 3049]])"
      ]
     },
     "execution_count": 24,
     "metadata": {},
     "output_type": "execute_result"
    }
   ],
   "source": [
    "# do not run this block\n",
    "confusion_matrix(y_test, y_predict)"
   ]
  }
 ],
 "metadata": {
  "kernelspec": {
   "display_name": "Python 3",
   "language": "python",
   "name": "python3"
  },
  "language_info": {
   "codemirror_mode": {
    "name": "ipython",
    "version": 3
   },
   "file_extension": ".py",
   "mimetype": "text/x-python",
   "name": "python",
   "nbconvert_exporter": "python",
   "pygments_lexer": "ipython3",
   "version": "3.5.3"
  }
 },
 "nbformat": 4,
 "nbformat_minor": 0
}
