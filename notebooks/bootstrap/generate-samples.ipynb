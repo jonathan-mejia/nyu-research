{
 "cells": [
  {
   "cell_type": "code",
   "execution_count": 71,
   "metadata": {
    "collapsed": false
   },
   "outputs": [],
   "source": [
    "ts.j <- read.csv('c:/users/tom/pycharmprojects/nyu-research/data/series/alc-june.csv')\n",
    "ts.s <- read.csv('c:/users/tom/pycharmprojects/nyu-research/data/series/alc-sept.csv')"
   ]
  },
  {
   "cell_type": "code",
   "execution_count": 4,
   "metadata": {
    "collapsed": false
   },
   "outputs": [
    {
     "data": {
      "text/html": [
       "<table>\n",
       "<thead><tr><th scope=col>Unnamed..0</th><th scope=col>Unnamed..1</th><th scope=col>casual</th><th scope=col>total</th></tr></thead>\n",
       "<tbody>\n",
       "\t<tr><td>1   </td><td>0   </td><td>74  </td><td>6005</td></tr>\n",
       "\t<tr><td>1   </td><td>1   </td><td>45  </td><td>3853</td></tr>\n",
       "\t<tr><td>1   </td><td>2   </td><td>18  </td><td>2415</td></tr>\n",
       "\t<tr><td>1   </td><td>3   </td><td>15  </td><td>1762</td></tr>\n",
       "\t<tr><td>1   </td><td>4   </td><td>17  </td><td>1648</td></tr>\n",
       "\t<tr><td>1   </td><td>5   </td><td>20  </td><td>2091</td></tr>\n",
       "</tbody>\n",
       "</table>\n"
      ],
      "text/latex": [
       "\\begin{tabular}{r|llll}\n",
       " Unnamed..0 & Unnamed..1 & casual & total\\\\\n",
       "\\hline\n",
       "\t 1    & 0    & 74   & 6005\\\\\n",
       "\t 1    & 1    & 45   & 3853\\\\\n",
       "\t 1    & 2    & 18   & 2415\\\\\n",
       "\t 1    & 3    & 15   & 1762\\\\\n",
       "\t 1    & 4    & 17   & 1648\\\\\n",
       "\t 1    & 5    & 20   & 2091\\\\\n",
       "\\end{tabular}\n"
      ],
      "text/markdown": [
       "\n",
       "Unnamed..0 | Unnamed..1 | casual | total | \n",
       "|---|---|---|---|---|---|\n",
       "| 1    | 0    | 74   | 6005 | \n",
       "| 1    | 1    | 45   | 3853 | \n",
       "| 1    | 2    | 18   | 2415 | \n",
       "| 1    | 3    | 15   | 1762 | \n",
       "| 1    | 4    | 17   | 1648 | \n",
       "| 1    | 5    | 20   | 2091 | \n",
       "\n",
       "\n"
      ],
      "text/plain": [
       "  Unnamed..0 Unnamed..1 casual total\n",
       "1 1          0          74     6005 \n",
       "2 1          1          45     3853 \n",
       "3 1          2          18     2415 \n",
       "4 1          3          15     1762 \n",
       "5 1          4          17     1648 \n",
       "6 1          5          20     2091 "
      ]
     },
     "metadata": {},
     "output_type": "display_data"
    }
   ],
   "source": [
    "head(ts.j)"
   ]
  },
  {
   "cell_type": "code",
   "execution_count": 5,
   "metadata": {
    "collapsed": true
   },
   "outputs": [],
   "source": [
    "nsample <- sum(ts.j$total)"
   ]
  },
  {
   "cell_type": "code",
   "execution_count": 69,
   "metadata": {
    "collapsed": true
   },
   "outputs": [],
   "source": [
    "boot <- function(ts){\n",
    "    new_ts <- ts\n",
    "    new_ts$total <- 0\n",
    "    total <- rmultinom(n=1, size=nsample, prob=ts$total)\n",
    "    new_ts[,4] <- total\n",
    "    for (i in 1:nrow(ts)){\n",
    "        new_ts[i, 3] <- unname(rmultinom(n=1, size=total[i], prob=ts[i, c(3,4)]))[1]\n",
    "    }\n",
    "    new_ts\n",
    "    }"
   ]
  },
  {
   "cell_type": "code",
   "execution_count": 73,
   "metadata": {
    "collapsed": false
   },
   "outputs": [],
   "source": [
    "boot.j <- boot(ts.j)\n",
    "boot.s <- boot(ts.s)"
   ]
  },
  {
   "cell_type": "code",
   "execution_count": 77,
   "metadata": {
    "collapsed": false
   },
   "outputs": [
    {
     "data": {
      "text/html": [
       "<table>\n",
       "<thead><tr><th scope=col>Unnamed..0</th><th scope=col>Unnamed..1</th><th scope=col>casual</th><th scope=col>total</th></tr></thead>\n",
       "<tbody>\n",
       "\t<tr><td>1    </td><td>0    </td><td>456  </td><td>56662</td></tr>\n",
       "\t<tr><td>1    </td><td>1    </td><td>258  </td><td>32132</td></tr>\n",
       "\t<tr><td>1    </td><td>2    </td><td>140  </td><td>18445</td></tr>\n",
       "\t<tr><td>1    </td><td>3    </td><td> 98  </td><td>11373</td></tr>\n",
       "\t<tr><td>1    </td><td>4    </td><td> 91  </td><td> 9846</td></tr>\n",
       "\t<tr><td>1    </td><td>5    </td><td>101  </td><td>12919</td></tr>\n",
       "</tbody>\n",
       "</table>\n"
      ],
      "text/latex": [
       "\\begin{tabular}{r|llll}\n",
       " Unnamed..0 & Unnamed..1 & casual & total\\\\\n",
       "\\hline\n",
       "\t 1     & 0     & 456   & 56662\\\\\n",
       "\t 1     & 1     & 258   & 32132\\\\\n",
       "\t 1     & 2     & 140   & 18445\\\\\n",
       "\t 1     & 3     &  98   & 11373\\\\\n",
       "\t 1     & 4     &  91   &  9846\\\\\n",
       "\t 1     & 5     & 101   & 12919\\\\\n",
       "\\end{tabular}\n"
      ],
      "text/markdown": [
       "\n",
       "Unnamed..0 | Unnamed..1 | casual | total | \n",
       "|---|---|---|---|---|---|\n",
       "| 1     | 0     | 456   | 56662 | \n",
       "| 1     | 1     | 258   | 32132 | \n",
       "| 1     | 2     | 140   | 18445 | \n",
       "| 1     | 3     |  98   | 11373 | \n",
       "| 1     | 4     |  91   |  9846 | \n",
       "| 1     | 5     | 101   | 12919 | \n",
       "\n",
       "\n"
      ],
      "text/plain": [
       "  Unnamed..0 Unnamed..1 casual total\n",
       "1 1          0          456    56662\n",
       "2 1          1          258    32132\n",
       "3 1          2          140    18445\n",
       "4 1          3           98    11373\n",
       "5 1          4           91     9846\n",
       "6 1          5          101    12919"
      ]
     },
     "metadata": {},
     "output_type": "display_data"
    }
   ],
   "source": [
    "head(ts.s)"
   ]
  },
  {
   "cell_type": "code",
   "execution_count": 76,
   "metadata": {
    "collapsed": false
   },
   "outputs": [
    {
     "data": {
      "text/html": [
       "<table>\n",
       "<thead><tr><th scope=col>Unnamed..0</th><th scope=col>Unnamed..1</th><th scope=col>casual</th><th scope=col>total</th></tr></thead>\n",
       "<tbody>\n",
       "\t<tr><td>1    </td><td>0    </td><td>471  </td><td>54147</td></tr>\n",
       "\t<tr><td>1    </td><td>1    </td><td>231  </td><td>30784</td></tr>\n",
       "\t<tr><td>1    </td><td>2    </td><td>125  </td><td>17926</td></tr>\n",
       "\t<tr><td>1    </td><td>3    </td><td> 85  </td><td>10781</td></tr>\n",
       "\t<tr><td>1    </td><td>4    </td><td> 87  </td><td> 9428</td></tr>\n",
       "\t<tr><td>1    </td><td>5    </td><td>113  </td><td>12401</td></tr>\n",
       "</tbody>\n",
       "</table>\n"
      ],
      "text/latex": [
       "\\begin{tabular}{r|llll}\n",
       " Unnamed..0 & Unnamed..1 & casual & total\\\\\n",
       "\\hline\n",
       "\t 1     & 0     & 471   & 54147\\\\\n",
       "\t 1     & 1     & 231   & 30784\\\\\n",
       "\t 1     & 2     & 125   & 17926\\\\\n",
       "\t 1     & 3     &  85   & 10781\\\\\n",
       "\t 1     & 4     &  87   &  9428\\\\\n",
       "\t 1     & 5     & 113   & 12401\\\\\n",
       "\\end{tabular}\n"
      ],
      "text/markdown": [
       "\n",
       "Unnamed..0 | Unnamed..1 | casual | total | \n",
       "|---|---|---|---|---|---|\n",
       "| 1     | 0     | 471   | 54147 | \n",
       "| 1     | 1     | 231   | 30784 | \n",
       "| 1     | 2     | 125   | 17926 | \n",
       "| 1     | 3     |  85   | 10781 | \n",
       "| 1     | 4     |  87   |  9428 | \n",
       "| 1     | 5     | 113   | 12401 | \n",
       "\n",
       "\n"
      ],
      "text/plain": [
       "  Unnamed..0 Unnamed..1 casual total\n",
       "1 1          0          471    54147\n",
       "2 1          1          231    30784\n",
       "3 1          2          125    17926\n",
       "4 1          3           85    10781\n",
       "5 1          4           87     9428\n",
       "6 1          5          113    12401"
      ]
     },
     "metadata": {},
     "output_type": "display_data"
    }
   ],
   "source": [
    "head(boot.s)"
   ]
  },
  {
   "cell_type": "code",
   "execution_count": 78,
   "metadata": {
    "collapsed": false
   },
   "outputs": [
    {
     "name": "stderr",
     "output_type": "stream",
     "text": [
      "Warning message:\n",
      "\"package 'zoo' was built under R version 3.3.3\"\n",
      "Attaching package: 'zoo'\n",
      "\n",
      "The following objects are masked from 'package:base':\n",
      "\n",
      "    as.Date, as.Date.numeric\n",
      "\n",
      "Warning message:\n",
      "\"package 'forecast' was built under R version 3.3.3\""
     ]
    }
   ],
   "source": [
    "source(\"C:/Users/Tom/PycharmProjects/nyu-research/ts.R\")"
   ]
  },
  {
   "cell_type": "code",
   "execution_count": 90,
   "metadata": {
    "collapsed": false
   },
   "outputs": [
    {
     "name": "stderr",
     "output_type": "stream",
     "text": [
      "Warning message:\n",
      "\"package 'TSclust' was built under R version 3.3.3\"Loading required package: wmtsa\n",
      "Warning message:\n",
      "\"package 'wmtsa' was built under R version 3.3.3\"Loading required package: pdc\n",
      "Warning message:\n",
      "\"package 'pdc' was built under R version 3.3.3\"Loading required package: cluster\n",
      "Warning message:\n",
      "\"package 'factoextra' was built under R version 3.3.3\"Loading required package: ggplot2\n",
      "Warning message:\n",
      "\"package 'ggplot2' was built under R version 3.3.3\""
     ]
    }
   ],
   "source": [
    "library('TSclust')\n",
    "library('factoextra')"
   ]
  },
  {
   "cell_type": "code",
   "execution_count": 80,
   "metadata": {
    "collapsed": false
   },
   "outputs": [],
   "source": [
    "\n",
    "preprocessing <- function(ts, thres=5000){\n",
    "    df = time_index(data.frame(ts[,1:3]))\n",
    "    df_total = time_index(data.frame(ts[,c(1,2,4)]))\n",
    "    missing = df_total[, \"tweets\"] < thres\n",
    "    print(which(missing))\n",
    "    df_total[missing, \"tweets\"] <- NA\n",
    "    df[missing, ] <- NA\n",
    "    df_total = na.locf(df_total[, \"tweets\"])\n",
    "    df_filled = (na.locf(df[, ncol(df)]))\n",
    "    return(list(series = df_filled, total = df_total))\n",
    "}"
   ]
  },
  {
   "cell_type": "code",
   "execution_count": 117,
   "metadata": {
    "collapsed": false
   },
   "outputs": [],
   "source": [
    "generate_plots <- function(boot.j, boot.s, simnum){\n",
    "        \n",
    "    june <- preprocessing(boot.j)\n",
    "    june_cas = ts(june$series[33:(672+32)], frequency=24)\n",
    "    june_tot = ts(june$total[33:(672+32)], frequency=24)\n",
    "    june_perc <- june_cas/june_tot\n",
    "\n",
    "    sept = preprocessing(boot.s)\n",
    "    sept_cas = ts(sept$series[9:(672+8)], frequency=24)\n",
    "    sept_tot = ts(sept$total[9:(672+8)], frequency=24)\n",
    "    sept_perc <- sept_cas/sept_tot\n",
    "\n",
    "    sept_days = split_by_day(sept_perc)\n",
    "    colnames(sept_days) = c(1:28)\n",
    "    june_days = split_by_day(june_perc)\n",
    "    colnames(june_days) = c(102:129)\n",
    "    combined = cbind(june_days, sept_days)\n",
    "\n",
    "    phase_diss = dissimilarity(as.matrix(combined), phase_dist(1))\n",
    "    weekdays = c(rep(c('Tu', 'W' ,'Th', 'F', 'Sa', 'Su', 'M'), 4), c('Tu', 'W' ,'Th', 'F', 'Sa', 'Su', 'M(L)'),\n",
    "                 rep(c('Tu', 'W' ,'Th', 'F', 'Sa', 'Su', 'M'), 3))\n",
    "    dist = phase_diss\n",
    "    colnames(dist)=weekdays\n",
    "    rownames(dist)=weekdays\n",
    "    a=agnes(dist, diss=TRUE)\n",
    "\n",
    "    phase_dend <-function(){\n",
    "        p <- fviz_dend(a,  k=2, main='', ylab='Height', xlab='Day', las=1, cex=1.2, cex.lab=1.5, horiz=TRUE, label_col='black')\n",
    "        # mtext( text='Day of Week', side=2, cex=1.5)\n",
    "        p <- p + theme(axis.title=element_text(size=14,face=\"bold\")) \n",
    "        p\n",
    "    }\n",
    "    phase_dend()\n",
    "    ggsave(filename=paste('c:/users/tom/documents/research/bootstrap/phase-sim-', simnum, '.pdf', sep=\"\"),device='pdf')\n",
    "    colnames(combined)=weekdays\n",
    "    dist = diss(combined, METHOD='EUCL')\n",
    "\n",
    "    b = agnes(dist, diss=TRUE)\n",
    "    euc_dend <-function(){\n",
    "        p2 <- fviz_dend(b, k=4, k_colors=c(\"#ff6666\", \"#33cccc\",'#66ff66', '#cc66ff'), main='', ylab='Height', xlab='Day', label_col='black', las=1, cex=1.2, cex.lab=1.5, horiz=TRUE)\n",
    "        p2 <- p2 + theme(axis.title=element_text(size=14,face=\"bold\"))\n",
    "        p2\n",
    "    }\n",
    "    \n",
    "    euc_dend()\n",
    "    ggsave(filename=paste('c:/users/tom/documents/research/bootstrap/euc-sim-', simnum, '.pdf', sep=\"\"),device='pdf')\n",
    "}"
   ]
  },
  {
   "cell_type": "code",
   "execution_count": 118,
   "metadata": {
    "collapsed": false
   },
   "outputs": [
    {
     "name": "stdout",
     "output_type": "stream",
     "text": [
      " [1]   2   3   4   5   6   7   8  26  27  28  29  30  31 721 722 723\n",
      " [1] 408 409 410 411 412 413 414 415 476 477 478 479 485 486 721 722 723 724 725\n"
     ]
    },
    {
     "name": "stderr",
     "output_type": "stream",
     "text": [
      "Saving 6.67 x 6.67 in image\n",
      "Saving 6.67 x 6.67 in image\n"
     ]
    },
    {
     "name": "stdout",
     "output_type": "stream",
     "text": [
      " [1]   2   3   4   5   6   7  26  27  28  29  30  31  32 721 722 723 724\n",
      " [1] 408 409 410 411 412 413 414 415 476 477 478 479 485 486 721 722 723 724 725\n"
     ]
    },
    {
     "name": "stderr",
     "output_type": "stream",
     "text": [
      "Saving 6.67 x 6.67 in image\n",
      "Saving 6.67 x 6.67 in image\n"
     ]
    },
    {
     "name": "stdout",
     "output_type": "stream",
     "text": [
      " [1]   2   3   4   5   6   7  26  27  28  29  30  31  32 721 722 723\n",
      " [1] 408 409 410 411 412 413 414 415 476 477 478 479 485 486 721 722 723 724 725\n"
     ]
    },
    {
     "name": "stderr",
     "output_type": "stream",
     "text": [
      "Saving 6.67 x 6.67 in image\n",
      "Saving 6.67 x 6.67 in image\n"
     ]
    },
    {
     "name": "stdout",
     "output_type": "stream",
     "text": [
      " [1]   2   3   4   5   6   7   8  26  27  28  29  30  31  32 721 722 723\n",
      " [1] 408 409 410 411 412 413 414 415 476 477 478 479 485 486 721 722 723 724 725\n"
     ]
    },
    {
     "name": "stderr",
     "output_type": "stream",
     "text": [
      "Saving 6.67 x 6.67 in image\n",
      "Saving 6.67 x 6.67 in image\n"
     ]
    },
    {
     "name": "stdout",
     "output_type": "stream",
     "text": [
      " [1]   2   3   4   5   6   7   8  26  27  28  29  30  31 721 722 723\n",
      " [1] 408 409 410 411 412 413 414 415 476 477 478 479 485 486 721 722 723 724 725\n"
     ]
    },
    {
     "name": "stderr",
     "output_type": "stream",
     "text": [
      "Saving 6.67 x 6.67 in image\n",
      "Saving 6.67 x 6.67 in image\n"
     ]
    },
    {
     "name": "stdout",
     "output_type": "stream",
     "text": [
      " [1]   2   3   4   5   6   7  26  27  28  29  30  31 721 722 723\n",
      " [1] 408 409 410 411 412 413 414 415 476 477 478 479 485 486 721 722 723 724 725\n"
     ]
    },
    {
     "name": "stderr",
     "output_type": "stream",
     "text": [
      "Saving 6.67 x 6.67 in image\n",
      "Saving 6.67 x 6.67 in image\n"
     ]
    },
    {
     "name": "stdout",
     "output_type": "stream",
     "text": [
      " [1]   2   3   4   5   6   7  26  27  28  29  30  31  32 721 722 723 724\n",
      " [1] 408 409 410 411 412 413 414 415 476 477 478 479 485 486 721 722 723 724 725\n"
     ]
    },
    {
     "name": "stderr",
     "output_type": "stream",
     "text": [
      "Saving 6.67 x 6.67 in image\n",
      "Saving 6.67 x 6.67 in image\n"
     ]
    },
    {
     "name": "stdout",
     "output_type": "stream",
     "text": [
      " [1]   2   3   4   5   6   7   8  26  27  28  29  30  31 721 722 723\n",
      " [1] 408 409 410 411 412 413 414 415 476 477 478 479 485 486 721 722 723 724 725\n"
     ]
    },
    {
     "name": "stderr",
     "output_type": "stream",
     "text": [
      "Saving 6.67 x 6.67 in image\n",
      "Saving 6.67 x 6.67 in image\n"
     ]
    },
    {
     "name": "stdout",
     "output_type": "stream",
     "text": [
      " [1]   2   3   4   5   6   7  26  27  28  29  30  31 721 722 723\n",
      " [1] 408 409 410 411 412 413 414 415 476 477 478 479 485 486 721 722 723 724 725\n"
     ]
    },
    {
     "name": "stderr",
     "output_type": "stream",
     "text": [
      "Saving 6.67 x 6.67 in image\n",
      "Saving 6.67 x 6.67 in image\n"
     ]
    },
    {
     "name": "stdout",
     "output_type": "stream",
     "text": [
      " [1]   2   3   4   5   6   7  26  27  28  29  30  31 721 722 723\n",
      " [1] 408 409 410 411 412 413 414 415 476 477 478 479 485 486 721 722 723 724 725\n"
     ]
    },
    {
     "name": "stderr",
     "output_type": "stream",
     "text": [
      "Saving 6.67 x 6.67 in image\n",
      "Saving 6.67 x 6.67 in image\n"
     ]
    }
   ],
   "source": [
    "for (i in 1:10){\n",
    "    boot.j <- boot(ts.j)\n",
    "    boot.s <- boot(ts.s)\n",
    "    write.table(boot.j ,paste('c:/users/tom/documents/research/bootstrap/june-boot', i, '.csv', sep=\"\"), sep=',')\n",
    "    write.table(boot.j ,paste('c:/users/tom/documents/research/bootstrap/sept-boot', i, '.csv', sep=\"\"), sep=',')\n",
    "    generate_plots(boot.j, boot.s, simnum=i)\n",
    "\n",
    "}"
   ]
  }
 ],
 "metadata": {
  "anaconda-cloud": {},
  "kernelspec": {
   "display_name": "R",
   "language": "R",
   "name": "ir"
  },
  "language_info": {
   "codemirror_mode": "r",
   "file_extension": ".r",
   "mimetype": "text/x-r-source",
   "name": "R",
   "pygments_lexer": "r",
   "version": "3.3.2"
  }
 },
 "nbformat": 4,
 "nbformat_minor": 1
}
