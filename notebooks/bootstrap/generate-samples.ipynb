{
 "cells": [
  {
   "cell_type": "code",
   "execution_count": 37,
   "metadata": {
    "collapsed": false
   },
   "outputs": [
    {
     "name": "stderr",
     "output_type": "stream",
     "text": [
      "Installing package into 'C:/Users/Tom/Documents/R/win-library/3.3'\n",
      "(as 'lib' is unspecified)\n"
     ]
    },
    {
     "name": "stdout",
     "output_type": "stream",
     "text": [
      "package 'dendextend' successfully unpacked and MD5 sums checked\n",
      "\n",
      "The downloaded binary packages are in\n",
      "\tC:\\Users\\Tom\\AppData\\Local\\Temp\\Rtmpm0JLKj\\downloaded_packages\n"
     ]
    }
   ],
   "source": [
    "install.packages('dendextend', repos='http://cran.us.r-project.org')"
   ]
  },
  {
   "cell_type": "code",
   "execution_count": 1,
   "metadata": {
    "collapsed": false
   },
   "outputs": [
    {
     "name": "stderr",
     "output_type": "stream",
     "text": [
      "Warning message:\n",
      "\"package 'dendextend' was built under R version 3.3.3\"\n",
      "---------------------\n",
      "Welcome to dendextend version 1.5.2\n",
      "Type citation('dendextend') for how to cite the package.\n",
      "\n",
      "Type browseVignettes(package = 'dendextend') for the package vignette.\n",
      "The github page is: https://github.com/talgalili/dendextend/\n",
      "\n",
      "Suggestions and bug-reports can be submitted at: https://github.com/talgalili/dendextend/issues\n",
      "Or contact: <tal.galili@gmail.com>\n",
      "\n",
      "\tTo suppress this message use:  suppressPackageStartupMessages(library(dendextend))\n",
      "---------------------\n",
      "\n",
      "\n",
      "Attaching package: 'dendextend'\n",
      "\n",
      "The following object is masked from 'package:stats':\n",
      "\n",
      "    cutree\n",
      "\n"
     ]
    }
   ],
   "source": [
    "library(dendextend)"
   ]
  },
  {
   "cell_type": "code",
   "execution_count": 2,
   "metadata": {
    "collapsed": false
   },
   "outputs": [],
   "source": [
    "ts.j <- read.csv('c:/users/tom/pycharmprojects/nyu-research/data/series/alc-june.csv')\n",
    "ts.s <- read.csv('c:/users/tom/pycharmprojects/nyu-research/data/series/alc-sept.csv')"
   ]
  },
  {
   "cell_type": "code",
   "execution_count": 3,
   "metadata": {
    "collapsed": true
   },
   "outputs": [],
   "source": [
    "nsample <- sum(ts.j$total)"
   ]
  },
  {
   "cell_type": "code",
   "execution_count": 4,
   "metadata": {
    "collapsed": false
   },
   "outputs": [
    {
     "data": {
      "text/html": [
       "9438984.5"
      ],
      "text/latex": [
       "9438984.5"
      ],
      "text/markdown": [
       "9438984.5"
      ],
      "text/plain": [
       "[1] 9438985"
      ]
     },
     "metadata": {},
     "output_type": "display_data"
    }
   ],
   "source": [
    "nsample*0.25"
   ]
  },
  {
   "cell_type": "code",
   "execution_count": 5,
   "metadata": {
    "collapsed": true
   },
   "outputs": [],
   "source": [
    "boot <- function(ts, perc=1){\n",
    "    new_ts <- ts\n",
    "    new_ts$total <- 0\n",
    "    total <- rmultinom(n=1, size=floor(nsample*perc), prob=ts$total)\n",
    "    new_ts[,4] <- total\n",
    "    for (i in 1:nrow(ts)){\n",
    "        new_ts[i, 3] <- unname(rmultinom(n=1, size=total[i], prob=ts[i, c(3,4)]))[1]\n",
    "    }\n",
    "    new_ts\n",
    "    }"
   ]
  },
  {
   "cell_type": "code",
   "execution_count": 6,
   "metadata": {
    "collapsed": false
   },
   "outputs": [
    {
     "name": "stderr",
     "output_type": "stream",
     "text": [
      "Warning message:\n",
      "\"package 'zoo' was built under R version 3.3.3\"\n",
      "Attaching package: 'zoo'\n",
      "\n",
      "The following objects are masked from 'package:base':\n",
      "\n",
      "    as.Date, as.Date.numeric\n",
      "\n",
      "Warning message:\n",
      "\"package 'forecast' was built under R version 3.3.3\""
     ]
    }
   ],
   "source": [
    "source(\"C:/Users/Tom/PycharmProjects/nyu-research/ts.R\")"
   ]
  },
  {
   "cell_type": "code",
   "execution_count": 7,
   "metadata": {
    "collapsed": false
   },
   "outputs": [
    {
     "name": "stderr",
     "output_type": "stream",
     "text": [
      "Warning message:\n",
      "\"package 'TSclust' was built under R version 3.3.3\"Loading required package: wmtsa\n",
      "Warning message:\n",
      "\"package 'wmtsa' was built under R version 3.3.3\"Loading required package: pdc\n",
      "Warning message:\n",
      "\"package 'pdc' was built under R version 3.3.3\"Loading required package: cluster\n",
      "Warning message:\n",
      "\"package 'factoextra' was built under R version 3.3.3\"Loading required package: ggplot2\n",
      "Warning message:\n",
      "\"package 'ggplot2' was built under R version 3.3.3\""
     ]
    }
   ],
   "source": [
    "library('TSclust')\n",
    "library('factoextra')"
   ]
  },
  {
   "cell_type": "code",
   "execution_count": 8,
   "metadata": {
    "collapsed": false
   },
   "outputs": [],
   "source": [
    "\n",
    "preprocessing <- function(ts, thres=1000){\n",
    "    df = time_index(data.frame(ts[,1:3]))\n",
    "    df_total = time_index(data.frame(ts[,c(1,2,4)]))\n",
    "    missing = df_total[, \"tweets\"] < thres\n",
    "    df_total[missing, \"tweets\"] <- NA\n",
    "    df[missing, ] <- NA\n",
    "    df_total = na.locf(df_total[, \"tweets\"])\n",
    "    df_filled = (na.locf(df[, ncol(df)]))\n",
    "    return(list(series = df_filled, total = df_total))\n",
    "}"
   ]
  },
  {
   "cell_type": "code",
   "execution_count": 9,
   "metadata": {
    "collapsed": false
   },
   "outputs": [],
   "source": [
    "generate_plots <- function(boot.j, boot.s, simnum){\n",
    "        \n",
    "    june <- preprocessing(boot.j)\n",
    "    june_cas = ts(june$series[33:(672+32)], frequency=24)\n",
    "    june_tot = ts(june$total[33:(672+32)], frequency=24)\n",
    "    june_perc <- june_cas/june_tot\n",
    "\n",
    "    sept = preprocessing(boot.s)\n",
    "    sept_cas = ts(sept$series[9:(672+8)], frequency=24)\n",
    "    sept_tot = ts(sept$total[9:(672+8)], frequency=24)\n",
    "    sept_perc <- sept_cas/sept_tot\n",
    "\n",
    "    sept_days = split_by_day(sept_perc)\n",
    "    colnames(sept_days) = c(1:28)\n",
    "    june_days = split_by_day(june_perc)\n",
    "    colnames(june_days) = c(102:129)\n",
    "    combined = cbind(june_days, sept_days)\n",
    "\n",
    "    phase_diss = dissimilarity(as.matrix(combined), phase_dist(1))\n",
    "    weekdays = c(rep(c('Tu', 'W' ,'Th', 'F', 'Sa', 'Su', 'M'), 4), c('Tu', 'W' ,'Th', 'F', 'Sa', 'Su', 'M(L)'),\n",
    "                 rep(c('Tu', 'W' ,'Th', 'F', 'Sa', 'Su', 'M'), 3))\n",
    "    dist = phase_diss\n",
    "    colnames(dist)=weekdays\n",
    "    rownames(dist)=weekdays\n",
    "    a=agnes(dist, diss=TRUE)\n",
    "\n",
    "    \n",
    "    p <- fviz_dend(a,  k=2, main='', ylab='Height', xlab='Day', las=1, cex=1.2, cex.lab=1.5, horiz=TRUE, label_col='black')\n",
    "    # mtext( text='Day of Week', side=2, cex=1.5)\n",
    "    p <- p + theme(axis.title=element_text(size=14,face=\"bold\")) \n",
    "    \n",
    "    \n",
    "    # ggsave(filename=paste('c:/users/tom/documents/research/bootstrap/phase-sim-', simnum, '.pdf', sep=\"\"),device='pdf')\n",
    "    colnames(combined)=weekdays\n",
    "    dist = diss(combined, METHOD='EUCL')\n",
    "\n",
    "    b = agnes(dist, diss=TRUE)\n",
    "    \n",
    "    p2 <- fviz_dend(b, k=4, k_colors=c(\"#ff6666\", \"#33cccc\",'#66ff66', '#cc66ff'), main='', ylab='Height', xlab='Day', label_col='black', las=1, cex=1.2, cex.lab=1.5, horiz=TRUE)\n",
    "    p2 <- p2 + theme(axis.title=element_text(size=14,face=\"bold\"))\n",
    "    \n",
    "    return (list(as.dendrogram(a), as.dendrogram(b)))\n",
    "    \n",
    "    # ggsave(filename=paste('c:/users/tom/documents/research/bootstrap/euc-sim-', simnum, '.pdf', sep=\"\"),device='pdf')\n",
    "}"
   ]
  },
  {
   "cell_type": "code",
   "execution_count": 10,
   "metadata": {
    "collapsed": false
   },
   "outputs": [],
   "source": [
    "n = 100\n",
    "results.b.p <- numeric(90)\n",
    "results.b.e <- numeric(90)\n",
    "var.p <- numeric(90)\n",
    "var.e <- numeric(90)\n",
    "low.p <- numeric(90)\n",
    "high.p <- numeric(90)\n",
    "low.e <- numeric(90)\n",
    "high.e <- numeric(90)\n",
    "#results.c.p <- numeric(30)\n",
    "#results.c.e <- numeric(30)\n",
    "for (i in 1:90){\n",
    "    p <- 0.1 + 0.01*i\n",
    "    cor.b.phase <- c()\n",
    "    cor.b.euc <- c()\n",
    "    #cor.c.phase <- c()\n",
    "    #cor.c.euc <- c()\n",
    "    for (samp in 1:n)\n",
    "    {\n",
    "        boot.j <- boot(ts.j, perc=p)\n",
    "        boot.s <- boot(ts.s, perc=p)\n",
    "        x1 <- generate_plots(boot.j, boot.s, simnum=0)\n",
    "        \n",
    "        boot.j <- boot(ts.j, perc=p)\n",
    "        boot.s <- boot(ts.s, perc=p)\n",
    "        x2 <- generate_plots(boot.j, boot.s, simnum=0)\n",
    "        phase.dl <- dendlist(x1[[1]], x2[[1]])\n",
    "        euc.dl <- dendlist(x1[[2]], x2[[2]])\n",
    "        cor.b.phase <- c(cor.b.phase, cor.dendlist(phase.dl, method='baker'))\n",
    "        #cor.c.phase <- c(cor.c.phase, cor.dendlist(phase.dl, method='cophenetic'))\n",
    "        cor.b.euc <- c(cor.b.euc, cor.dendlist(euc.dl, method='baker'))\n",
    "        #cor.c.euc <- c(cor.c.euc, cor.dendlist(euc.dl, method='cophenetic'))\n",
    "        \n",
    "    }\n",
    "    results.b.p[i] <- mean(cor.b.phase)\n",
    "    results.b.e[i] <- mean(cor.b.euc)\n",
    "    var.p[i] <- var(cor.b.phase)\n",
    "    var.e[i] <- var(cor.b.euc)\n",
    "    high.p[i] <- quantile(cor.b.phase, 0.9)\n",
    "    low.p[i] <- quantile(cor.b.phase, 0.1)\n",
    "    high.e[i] <- quantile(cor.b.euc, 0.9)\n",
    "    low.e[i] <- quantile(cor.b.euc, 0.1)\n",
    "    # results.c.p[i] <- mean(cor.c.phase)\n",
    "    #results.c.e[i] <- mean(cor.c.euc)\n",
    "}\n"
   ]
  },
  {
   "cell_type": "code",
   "execution_count": 100,
   "metadata": {
    "collapsed": false
   },
   "outputs": [
    {
     "data": {
      "text/html": [
       "<ol class=list-inline>\n",
       "\t<li>1</li>\n",
       "\t<li>1</li>\n",
       "\t<li>1</li>\n",
       "\t<li>0</li>\n",
       "\t<li>0</li>\n",
       "\t<li>0</li>\n",
       "\t<li>0</li>\n",
       "\t<li>0</li>\n",
       "\t<li>0</li>\n",
       "\t<li>0</li>\n",
       "\t<li>0</li>\n",
       "\t<li>0</li>\n",
       "\t<li>0</li>\n",
       "\t<li>0</li>\n",
       "\t<li>0</li>\n",
       "\t<li>0</li>\n",
       "\t<li>0</li>\n",
       "\t<li>0</li>\n",
       "\t<li>0</li>\n",
       "\t<li>0</li>\n",
       "\t<li>0</li>\n",
       "\t<li>0</li>\n",
       "\t<li>0</li>\n",
       "\t<li>0</li>\n",
       "\t<li>0</li>\n",
       "\t<li>0</li>\n",
       "\t<li>0</li>\n",
       "\t<li>0</li>\n",
       "\t<li>0</li>\n",
       "\t<li>0</li>\n",
       "</ol>\n"
      ],
      "text/latex": [
       "\\begin{enumerate*}\n",
       "\\item 1\n",
       "\\item 1\n",
       "\\item 1\n",
       "\\item 0\n",
       "\\item 0\n",
       "\\item 0\n",
       "\\item 0\n",
       "\\item 0\n",
       "\\item 0\n",
       "\\item 0\n",
       "\\item 0\n",
       "\\item 0\n",
       "\\item 0\n",
       "\\item 0\n",
       "\\item 0\n",
       "\\item 0\n",
       "\\item 0\n",
       "\\item 0\n",
       "\\item 0\n",
       "\\item 0\n",
       "\\item 0\n",
       "\\item 0\n",
       "\\item 0\n",
       "\\item 0\n",
       "\\item 0\n",
       "\\item 0\n",
       "\\item 0\n",
       "\\item 0\n",
       "\\item 0\n",
       "\\item 0\n",
       "\\end{enumerate*}\n"
      ],
      "text/markdown": [
       "1. 1\n",
       "2. 1\n",
       "3. 1\n",
       "4. 0\n",
       "5. 0\n",
       "6. 0\n",
       "7. 0\n",
       "8. 0\n",
       "9. 0\n",
       "10. 0\n",
       "11. 0\n",
       "12. 0\n",
       "13. 0\n",
       "14. 0\n",
       "15. 0\n",
       "16. 0\n",
       "17. 0\n",
       "18. 0\n",
       "19. 0\n",
       "20. 0\n",
       "21. 0\n",
       "22. 0\n",
       "23. 0\n",
       "24. 0\n",
       "25. 0\n",
       "26. 0\n",
       "27. 0\n",
       "28. 0\n",
       "29. 0\n",
       "30. 0\n",
       "\n",
       "\n"
      ],
      "text/plain": [
       " [1] 1 1 1 0 0 0 0 0 0 0 0 0 0 0 0 0 0 0 0 0 0 0 0 0 0 0 0 0 0 0"
      ]
     },
     "metadata": {},
     "output_type": "display_data"
    }
   ],
   "source": [
    "high.p"
   ]
  },
  {
   "cell_type": "code",
   "execution_count": 99,
   "metadata": {
    "collapsed": false
   },
   "outputs": [
    {
     "data": {
      "text/html": [
       "<ol class=list-inline>\n",
       "\t<li>0.265737580415988</li>\n",
       "\t<li>0.281069620434994</li>\n",
       "\t<li>0.547850528269627</li>\n",
       "\t<li>0</li>\n",
       "\t<li>0</li>\n",
       "\t<li>0</li>\n",
       "\t<li>0</li>\n",
       "\t<li>0</li>\n",
       "\t<li>0</li>\n",
       "\t<li>0</li>\n",
       "\t<li>0</li>\n",
       "\t<li>0</li>\n",
       "\t<li>0</li>\n",
       "\t<li>0</li>\n",
       "\t<li>0</li>\n",
       "\t<li>0</li>\n",
       "\t<li>0</li>\n",
       "\t<li>0</li>\n",
       "\t<li>0</li>\n",
       "\t<li>0</li>\n",
       "\t<li>0</li>\n",
       "\t<li>0</li>\n",
       "\t<li>0</li>\n",
       "\t<li>0</li>\n",
       "\t<li>0</li>\n",
       "\t<li>0</li>\n",
       "\t<li>0</li>\n",
       "\t<li>0</li>\n",
       "\t<li>0</li>\n",
       "\t<li>0</li>\n",
       "</ol>\n"
      ],
      "text/latex": [
       "\\begin{enumerate*}\n",
       "\\item 0.265737580415988\n",
       "\\item 0.281069620434994\n",
       "\\item 0.547850528269627\n",
       "\\item 0\n",
       "\\item 0\n",
       "\\item 0\n",
       "\\item 0\n",
       "\\item 0\n",
       "\\item 0\n",
       "\\item 0\n",
       "\\item 0\n",
       "\\item 0\n",
       "\\item 0\n",
       "\\item 0\n",
       "\\item 0\n",
       "\\item 0\n",
       "\\item 0\n",
       "\\item 0\n",
       "\\item 0\n",
       "\\item 0\n",
       "\\item 0\n",
       "\\item 0\n",
       "\\item 0\n",
       "\\item 0\n",
       "\\item 0\n",
       "\\item 0\n",
       "\\item 0\n",
       "\\item 0\n",
       "\\item 0\n",
       "\\item 0\n",
       "\\end{enumerate*}\n"
      ],
      "text/markdown": [
       "1. 0.265737580415988\n",
       "2. 0.281069620434994\n",
       "3. 0.547850528269627\n",
       "4. 0\n",
       "5. 0\n",
       "6. 0\n",
       "7. 0\n",
       "8. 0\n",
       "9. 0\n",
       "10. 0\n",
       "11. 0\n",
       "12. 0\n",
       "13. 0\n",
       "14. 0\n",
       "15. 0\n",
       "16. 0\n",
       "17. 0\n",
       "18. 0\n",
       "19. 0\n",
       "20. 0\n",
       "21. 0\n",
       "22. 0\n",
       "23. 0\n",
       "24. 0\n",
       "25. 0\n",
       "26. 0\n",
       "27. 0\n",
       "28. 0\n",
       "29. 0\n",
       "30. 0\n",
       "\n",
       "\n"
      ],
      "text/plain": [
       " [1] 0.2657376 0.2810696 0.5478505 0.0000000 0.0000000 0.0000000 0.0000000\n",
       " [8] 0.0000000 0.0000000 0.0000000 0.0000000 0.0000000 0.0000000 0.0000000\n",
       "[15] 0.0000000 0.0000000 0.0000000 0.0000000 0.0000000 0.0000000 0.0000000\n",
       "[22] 0.0000000 0.0000000 0.0000000 0.0000000 0.0000000 0.0000000 0.0000000\n",
       "[29] 0.0000000 0.0000000"
      ]
     },
     "metadata": {},
     "output_type": "display_data"
    }
   ],
   "source": [
    "low.p"
   ]
  },
  {
   "cell_type": "code",
   "execution_count": 94,
   "metadata": {
    "collapsed": false
   },
   "outputs": [
    {
     "data": {
      "text/html": [
       "<ol class=list-inline>\n",
       "\t<li>0.533553130595247</li>\n",
       "\t<li>0.346918813168513</li>\n",
       "\t<li>0.807546824073386</li>\n",
       "\t<li>0.766179030627648</li>\n",
       "\t<li>0.851167989955078</li>\n",
       "\t<li>0</li>\n",
       "\t<li>0</li>\n",
       "\t<li>0</li>\n",
       "\t<li>0</li>\n",
       "\t<li>0</li>\n",
       "\t<li>0</li>\n",
       "\t<li>0</li>\n",
       "\t<li>0</li>\n",
       "\t<li>0</li>\n",
       "\t<li>0</li>\n",
       "\t<li>0</li>\n",
       "\t<li>0</li>\n",
       "\t<li>0</li>\n",
       "\t<li>0</li>\n",
       "\t<li>0</li>\n",
       "\t<li>0</li>\n",
       "\t<li>0</li>\n",
       "\t<li>0</li>\n",
       "\t<li>0</li>\n",
       "\t<li>0</li>\n",
       "\t<li>0</li>\n",
       "\t<li>0</li>\n",
       "\t<li>0</li>\n",
       "\t<li>0</li>\n",
       "\t<li>0</li>\n",
       "</ol>\n"
      ],
      "text/latex": [
       "\\begin{enumerate*}\n",
       "\\item 0.533553130595247\n",
       "\\item 0.346918813168513\n",
       "\\item 0.807546824073386\n",
       "\\item 0.766179030627648\n",
       "\\item 0.851167989955078\n",
       "\\item 0\n",
       "\\item 0\n",
       "\\item 0\n",
       "\\item 0\n",
       "\\item 0\n",
       "\\item 0\n",
       "\\item 0\n",
       "\\item 0\n",
       "\\item 0\n",
       "\\item 0\n",
       "\\item 0\n",
       "\\item 0\n",
       "\\item 0\n",
       "\\item 0\n",
       "\\item 0\n",
       "\\item 0\n",
       "\\item 0\n",
       "\\item 0\n",
       "\\item 0\n",
       "\\item 0\n",
       "\\item 0\n",
       "\\item 0\n",
       "\\item 0\n",
       "\\item 0\n",
       "\\item 0\n",
       "\\end{enumerate*}\n"
      ],
      "text/markdown": [
       "1. 0.533553130595247\n",
       "2. 0.346918813168513\n",
       "3. 0.807546824073386\n",
       "4. 0.766179030627648\n",
       "5. 0.851167989955078\n",
       "6. 0\n",
       "7. 0\n",
       "8. 0\n",
       "9. 0\n",
       "10. 0\n",
       "11. 0\n",
       "12. 0\n",
       "13. 0\n",
       "14. 0\n",
       "15. 0\n",
       "16. 0\n",
       "17. 0\n",
       "18. 0\n",
       "19. 0\n",
       "20. 0\n",
       "21. 0\n",
       "22. 0\n",
       "23. 0\n",
       "24. 0\n",
       "25. 0\n",
       "26. 0\n",
       "27. 0\n",
       "28. 0\n",
       "29. 0\n",
       "30. 0\n",
       "\n",
       "\n"
      ],
      "text/plain": [
       " [1] 0.5335531 0.3469188 0.8075468 0.7661790 0.8511680 0.0000000 0.0000000\n",
       " [8] 0.0000000 0.0000000 0.0000000 0.0000000 0.0000000 0.0000000 0.0000000\n",
       "[15] 0.0000000 0.0000000 0.0000000 0.0000000 0.0000000 0.0000000 0.0000000\n",
       "[22] 0.0000000 0.0000000 0.0000000 0.0000000 0.0000000 0.0000000 0.0000000\n",
       "[29] 0.0000000 0.0000000"
      ]
     },
     "metadata": {},
     "output_type": "display_data"
    }
   ],
   "source": [
    "ymin"
   ]
  },
  {
   "cell_type": "code",
   "execution_count": 42,
   "metadata": {
    "collapsed": false
   },
   "outputs": [
    {
     "name": "stderr",
     "output_type": "stream",
     "text": [
      "Warning message:\n",
      "\"package 'dplyr' was built under R version 3.3.3\"\n",
      "Attaching package: 'dplyr'\n",
      "\n",
      "The following objects are masked from 'package:stats':\n",
      "\n",
      "    filter, lag\n",
      "\n",
      "The following objects are masked from 'package:base':\n",
      "\n",
      "    intersect, setdiff, setequal, union\n",
      "\n"
     ]
    }
   ],
   "source": [
    "library(reshape2)\n",
    "library(dplyr)"
   ]
  },
  {
   "cell_type": "code",
   "execution_count": 91,
   "metadata": {
    "collapsed": false,
    "scrolled": false
   },
   "outputs": [
    {
     "data": {},
     "metadata": {},
     "output_type": "display_data"
    },
    {
     "name": "stderr",
     "output_type": "stream",
     "text": [
      "Saving 6.67 x 6.67 in image\n"
     ]
    },
    {
     "data": {
      "image/png": "[encoded data removed]",
      "text/plain": [
       "plot without title"
      ]
     },
     "metadata": {},
     "output_type": "display_data"
    }
   ],
   "source": [
    "# Baker Correlation, Phase dendrogram\n",
    "baker <- data.frame(samp_pct=seq(from=11, to= 100, by=1), phase=results.b.p, phase_high=results.b.p + 1.96*sqrt(var.p)/sqrt(n), \n",
    "                    phase_low= results.b.p - 1.96*sqrt(var.p)/sqrt(n), euc=results.b.e, \n",
    "                    euc_high = results.b.e + 1.96*sqrt(var.e)/sqrt(n), euc_low =results.b.e - 1.96*sqrt(var.e)/sqrt(n))\n",
    "baker.coef = melt(baker[c('samp_pct', 'phase', 'euc')], id='samp_pct')\n",
    "colnames(baker.coef) <- c('samp_pct', 'dend', 'coef')\n",
    "\n",
    "phase.ci = baker[c('samp_pct', 'phase_high', 'phase_low')]\n",
    "colnames(phase.ci) = c('samp_pct', 'high', 'low')\n",
    "phase.ci$dend = 'Phase'\n",
    "euc.ci = baker[c('samp_pct', 'euc_high', 'euc_low')]\n",
    "colnames(euc.ci) = c('samp_pct', 'high', 'low')\n",
    "euc.ci$dend = 'Euclidean'\n",
    "\n",
    "ci = rbind(phase.ci, euc.ci)\n",
    "ggplot() + geom_line(data=baker.coef, aes(x=samp_pct, y=coef, group=dend))+ ylim(c(0.65, 1)) +xlab('Percent Sampled with Replacement') +ylab(\"Average Baker's Gamma\") +theme(axis.title=element_text(size=16)) +  geom_ribbon(data=ci, aes(x=samp_pct, ymin=low, ymax=high, fill=dend), alpha=0.5)+ labs(fill='Type') \n",
    "ggsave('c:/users/tom/documents/research/sensitivity/baker-combined-ci.pdf')"
   ]
  },
  {
   "cell_type": "code",
   "execution_count": 21,
   "metadata": {
    "collapsed": true
   },
   "outputs": [],
   "source": [
    "write.table(baker, 'c:/users/tom/documents/research/sensitivity/baker-n100.csv', sep=',')"
   ]
  },
  {
   "cell_type": "code",
   "execution_count": 92,
   "metadata": {
    "collapsed": false
   },
   "outputs": [
    {
     "data": {},
     "metadata": {},
     "output_type": "display_data"
    },
    {
     "name": "stderr",
     "output_type": "stream",
     "text": [
      "Saving 6.67 x 6.67 in image\n"
     ]
    },
    {
     "data": {
      "image/png": "[encoded data removed]",
      "text/plain": [
       "plot without title"
      ]
     },
     "metadata": {},
     "output_type": "display_data"
    }
   ],
   "source": [
    "# Baker Correlation, Phase dendrogram\n",
    "b.p <- data.frame(x=seq(from=11, to= 100, by=1), y=results.b.p)\n",
    "ymax= results.b.p + 1.96*sqrt(var.p)/sqrt(n)\n",
    "ymin = results.b.p - 1.96*sqrt(var.p)/sqrt(n)\n",
    "ggplot(b.p, aes(x=x, y=y)) + geom_line() +xlab('Percent Sampled with Replacement') +ylab(\"Average Baker's Gamma\") + ylim(c(0.65, 1))+theme(axis.title=element_text(size=16))+geom_ribbon(aes(ymin=ymin, ymax=ymax),  fill=\"blue\", alpha=\"0.3\")\n",
    "ggsave('c:/users/tom/documents/research/sensitivity/baker-phase.pdf')"
   ]
  },
  {
   "cell_type": "code",
   "execution_count": 93,
   "metadata": {
    "collapsed": false
   },
   "outputs": [
    {
     "data": {},
     "metadata": {},
     "output_type": "display_data"
    },
    {
     "name": "stderr",
     "output_type": "stream",
     "text": [
      "Saving 6.67 x 6.67 in image\n"
     ]
    },
    {
     "data": {
      "image/png": "[encoded data removed]",
      "text/plain": [
       "plot without title"
      ]
     },
     "metadata": {},
     "output_type": "display_data"
    }
   ],
   "source": [
    "# Baker correlation, Euclidean Dendrogram\n",
    "b.e <- data.frame(x=seq(from=11, to= 100, by=1), y=results.b.e)\n",
    "ymax= results.b.e + 1.96*sqrt(var.e)/sqrt(n)\n",
    "ymin = results.b.e - 1.96*sqrt(var.e)/sqrt(n)\n",
    "ggplot(b.e, aes(x=x, y=y)) + geom_line() +xlab('Percent Sampled with Replacement') +ylab(\"Average Baker's Gamma\")+theme(axis.title=element_text(size=16)) + geom_ribbon(aes(ymin=ymin, ymax=ymax),  fill=\"blue\", alpha=\"0.3\")\n",
    "ggsave('c:/users/tom/documents/research/sensitivity/baker-euc.pdf')"
   ]
  },
  {
   "cell_type": "code",
   "execution_count": 53,
   "metadata": {
    "collapsed": true
   },
   "outputs": [],
   "source": [
    "write.table(results.b.p, 'c:/users/tom/documents/research/sensitivity/baker-phase.csv', sep=',')\n",
    "write.table(results.b.e, 'c:/users/tom/documents/research/sensitivity/baker-euc.csv', sep=',')\n",
    "\n",
    "write.table(results.c.p, 'c:/users/tom/documents/research/sensitivity/c-phase.csv', sep=',')\n",
    "write.table(results.c.e, 'c:/users/tom/documents/research/sensitivity/c-euc.csv', sep=',')\n"
   ]
  },
  {
   "cell_type": "code",
   "execution_count": 90,
   "metadata": {
    "collapsed": false,
    "scrolled": false
   },
   "outputs": [
    {
     "data": {},
     "metadata": {},
     "output_type": "display_data"
    },
    {
     "name": "stderr",
     "output_type": "stream",
     "text": [
      "Saving 6.67 x 6.67 in image\n"
     ]
    },
    {
     "data": {
      "image/png": "[encoded data removed]",
      "text/plain": [
       "plot without title"
      ]
     },
     "metadata": {},
     "output_type": "display_data"
    }
   ],
   "source": [
    "# Baker Correlation, Phase dendrogram\n",
    "b.p <- data.frame(x=seq(from=13, to= 100, by=3), y=results.b.p)\n",
    "ymax= results.b.p + 0.01\n",
    "ymin = results.b.p - 0.01\n",
    "ggplot(b.p, aes(x=x, y=y)) + geom_line() +xlab('Percent Sampled with Replacement') +ylab(\"Average Baker's Gamma\")+ ylim(c(0.7,1)) +theme(axis.title=element_text(size=16,face=\"bold\"))\n",
    "#+ geom_ribbon(aes(ymin=ymin, ymax=ymax),  fill=\"blue\", alpha=\"0.3\")\n",
    "ggsave('c:/users/tom/documents/research/sensitivity/baker-phase.pdf')"
   ]
  },
  {
   "cell_type": "code",
   "execution_count": 88,
   "metadata": {
    "collapsed": false
   },
   "outputs": [
    {
     "data": {},
     "metadata": {},
     "output_type": "display_data"
    },
    {
     "name": "stderr",
     "output_type": "stream",
     "text": [
      "Saving 6.67 x 6.67 in image\n"
     ]
    },
    {
     "data": {
      "image/png": "[encoded data removed]",
      "text/plain": [
       "plot without title"
      ]
     },
     "metadata": {},
     "output_type": "display_data"
    }
   ],
   "source": [
    "# Baker correlation, Euclidean Dendrogram\n",
    "b.e <- data.frame(x=seq(from=13, to= 100, by=3), y=results.b.e)\n",
    "ymax= results.b.p + 0.01\n",
    "ymin = results.b.p - 0.01\n",
    "ggplot(b.e, aes(x=x, y=y)) + geom_line() +xlab('Percent Sampled with Replacement') +ylab(\"Average Baker's Gamma\")+ ylim(c(0.95,1))+theme(axis.title=element_text(size=16,face=\"bold\"))\n",
    "#+ geom_ribbon(aes(ymin=ymin, ymax=ymax),  fill=\"blue\", alpha=\"0.3\")\n",
    "ggsave('c:/users/tom/documents/research/sensitivity/baker-euc.pdf')"
   ]
  },
  {
   "cell_type": "code",
   "execution_count": 49,
   "metadata": {
    "collapsed": false
   },
   "outputs": [
    {
     "data": {
      "image/png": "[encoded data removed]",
      "text/plain": [
       "plot without title"
      ]
     },
     "metadata": {},
     "output_type": "display_data"
    }
   ],
   "source": [
    "# cophenetic correlation, phase dendrogram\n",
    "plot(seq(from=0.13, to= 1, by=0.03), results.c.p, type='l')"
   ]
  },
  {
   "cell_type": "code",
   "execution_count": 51,
   "metadata": {
    "collapsed": false
   },
   "outputs": [
    {
     "data": {
      "image/png": "[encoded data removed]",
      "text/plain": [
       "plot without title"
      ]
     },
     "metadata": {},
     "output_type": "display_data"
    }
   ],
   "source": [
    "# cophenetic correlation, euclidean dendrogram\n",
    "plot(seq(from=0.13, to= 1, by=0.03), results.c.e, type='l')"
   ]
  },
  {
   "cell_type": "code",
   "execution_count": 63,
   "metadata": {
    "collapsed": false
   },
   "outputs": [
    {
     "name": "stdout",
     "output_type": "stream",
     "text": [
      " [1]   1   2   3   4   5   6   7   8  25  26  27  28  29  30  31  32 721 722 723\n",
      "[20] 724\n",
      " [1] 408 409 410 411 412 413 414 415 476 477 478 479 484 485 486 721 722 723 724\n",
      "[20] 725\n",
      "[1] \"list\"\n",
      " [1]   1   2   3   4   5   6   7   8  25  26  27  28  29  30  31  32  33 721 722\n",
      "[20] 723 724\n",
      " [1] 408 409 410 411 412 413 414 415 476 477 478 479 484 485 486 721 722 723 724\n",
      "[20] 725\n",
      "[1] \"list\"\n",
      " [1]   1   2   3   4   5   6   7   8  25  26  27  28  29  30  31  32  33 721 722\n",
      "[20] 723 724\n",
      " [1] 408 409 410 411 412 413 414 415 476 477 478 479 484 485 486 721 722 723 724\n",
      "[20] 725\n",
      "[1] \"list\"\n",
      " [1]   1   2   3   4   5   6   7   8   9  25  26  27  28  29  30  31  32  33 721\n",
      "[20] 722 723 724\n",
      " [1] 408 409 410 411 412 413 414 415 476 477 478 479 484 485 486 721 722 723 724\n",
      "[20] 725\n",
      "[1] \"list\"\n",
      " [1]   1   2   3   4   5   6   7   8  25  26  27  28  29  30  31  32 721 722 723\n",
      "[20] 724\n",
      " [1] 408 409 410 411 412 413 414 415 476 477 478 479 484 485 486 721 722 723 724\n",
      "[20] 725\n",
      "[1] \"list\"\n",
      " [1]   1   2   3   4   5   6   7   8  25  26  27  28  29  30  31  32 721 722 723\n",
      "[20] 724\n",
      " [1] 408 409 410 411 412 413 414 415 476 477 478 479 484 485 486 721 722 723 724\n",
      "[20] 725\n",
      "[1] \"list\"\n",
      " [1]   1   2   3   4   5   6   7   8  25  26  27  28  29  30  31  32  33 721 722\n",
      "[20] 723 724\n",
      " [1] 408 409 410 411 412 413 414 415 476 477 478 479 484 485 486 721 722 723 724\n",
      "[20] 725\n",
      "[1] \"list\"\n",
      " [1]   1   2   3   4   5   6   7   8  25  26  27  28  29  30  31  32  33 721 722\n",
      "[20] 723 724\n",
      " [1] 408 409 410 411 412 413 414 415 476 477 478 479 484 485 486 721 722 723 724\n",
      "[20] 725\n",
      "[1] \"list\"\n",
      " [1]   1   2   3   4   5   6   7   8  25  26  27  28  29  30  31  32  33 721 722\n",
      "[20] 723 724\n",
      " [1] 408 409 410 411 412 413 414 415 476 477 478 479 484 485 486 721 722 723 724\n",
      "[20] 725\n",
      "[1] \"list\"\n",
      " [1]   1   2   3   4   5   6   7   8  25  26  27  28  29  30  31  32  33 721 722\n",
      "[20] 723 724\n",
      " [1] 408 409 410 411 412 413 414 415 476 477 478 479 484 485 486 721 722 723 724\n",
      "[20] 725\n",
      "[1] \"list\"\n"
     ]
    }
   ],
   "source": [
    "d.phase <- dendlist()\n",
    "d.euc <- dendlist()\n",
    "for (i in 1:10){\n",
    "    boot.j <- boot(ts.j, perc=0.15)\n",
    "    boot.s <- boot(ts.s, perc=0.15)\n",
    "    write.table(boot.j ,paste('c:/users/tom/documents/research/bootstrap/june-boot', i, '.csv', sep=\"\"), sep=',')\n",
    "    write.table(boot.j ,paste('c:/users/tom/documents/research/bootstrap/sept-boot', i, '.csv', sep=\"\"), sep=',')\n",
    "    x <- generate_plots(boot.j, boot.s, simnum=i)\n",
    "    print(typeof(x[1]))\n",
    "    d.phase <- d.phase %>% dendlist(x[[1]])\n",
    "    d.euc <- d.euc %>% dendlist(x[[2]])\n",
    "\n",
    "}"
   ]
  },
  {
   "cell_type": "code",
   "execution_count": 66,
   "metadata": {
    "collapsed": false
   },
   "outputs": [
    {
     "data": {
      "text/html": [
       "<table>\n",
       "<tbody>\n",
       "\t<tr><td>1.0000000</td><td>0.9441955</td><td>0.9045241</td><td>0.8942893</td><td>0.9481747</td><td>0.9395874</td><td>0.9760172</td><td>0.9511106</td><td>0.9393393</td><td>0.9326738</td></tr>\n",
       "\t<tr><td>0.9441955</td><td>1.0000000</td><td>0.9131516</td><td>0.9209249</td><td>0.9629083</td><td>0.9691267</td><td>0.9462975</td><td>0.9772550</td><td>0.9713032</td><td>0.9649216</td></tr>\n",
       "\t<tr><td>0.9045241</td><td>0.9131516</td><td>1.0000000</td><td>0.8636972</td><td>0.8969751</td><td>0.9001560</td><td>0.8917032</td><td>0.9079127</td><td>0.9175676</td><td>0.9019623</td></tr>\n",
       "\t<tr><td>0.8942893</td><td>0.9209249</td><td>0.8636972</td><td>1.0000000</td><td>0.9315907</td><td>0.9079461</td><td>0.9036659</td><td>0.9216133</td><td>0.9200689</td><td>0.9042785</td></tr>\n",
       "\t<tr><td>0.9481747</td><td>0.9629083</td><td>0.8969751</td><td>0.9315907</td><td>1.0000000</td><td>0.9552764</td><td>0.9449888</td><td>0.9692214</td><td>0.9638667</td><td>0.9676383</td></tr>\n",
       "\t<tr><td>0.9395874</td><td>0.9691267</td><td>0.9001560</td><td>0.9079461</td><td>0.9552764</td><td>1.0000000</td><td>0.9508930</td><td>0.9829718</td><td>0.9717331</td><td>0.9784776</td></tr>\n",
       "\t<tr><td>0.9760172</td><td>0.9462975</td><td>0.8917032</td><td>0.9036659</td><td>0.9449888</td><td>0.9508930</td><td>1.0000000</td><td>0.9618934</td><td>0.9478883</td><td>0.9317511</td></tr>\n",
       "\t<tr><td>0.9511106</td><td>0.9772550</td><td>0.9079127</td><td>0.9216133</td><td>0.9692214</td><td>0.9829718</td><td>0.9618934</td><td>1.0000000</td><td>0.9808748</td><td>0.9751244</td></tr>\n",
       "\t<tr><td>0.9393393</td><td>0.9713032</td><td>0.9175676</td><td>0.9200689</td><td>0.9638667</td><td>0.9717331</td><td>0.9478883</td><td>0.9808748</td><td>1.0000000</td><td>0.9697336</td></tr>\n",
       "\t<tr><td>0.9326738</td><td>0.9649216</td><td>0.9019623</td><td>0.9042785</td><td>0.9676383</td><td>0.9784776</td><td>0.9317511</td><td>0.9751244</td><td>0.9697336</td><td>1.0000000</td></tr>\n",
       "</tbody>\n",
       "</table>\n"
      ],
      "text/latex": [
       "\\begin{tabular}{llllllllll}\n",
       "\t 1.0000000 & 0.9441955 & 0.9045241 & 0.8942893 & 0.9481747 & 0.9395874 & 0.9760172 & 0.9511106 & 0.9393393 & 0.9326738\\\\\n",
       "\t 0.9441955 & 1.0000000 & 0.9131516 & 0.9209249 & 0.9629083 & 0.9691267 & 0.9462975 & 0.9772550 & 0.9713032 & 0.9649216\\\\\n",
       "\t 0.9045241 & 0.9131516 & 1.0000000 & 0.8636972 & 0.8969751 & 0.9001560 & 0.8917032 & 0.9079127 & 0.9175676 & 0.9019623\\\\\n",
       "\t 0.8942893 & 0.9209249 & 0.8636972 & 1.0000000 & 0.9315907 & 0.9079461 & 0.9036659 & 0.9216133 & 0.9200689 & 0.9042785\\\\\n",
       "\t 0.9481747 & 0.9629083 & 0.8969751 & 0.9315907 & 1.0000000 & 0.9552764 & 0.9449888 & 0.9692214 & 0.9638667 & 0.9676383\\\\\n",
       "\t 0.9395874 & 0.9691267 & 0.9001560 & 0.9079461 & 0.9552764 & 1.0000000 & 0.9508930 & 0.9829718 & 0.9717331 & 0.9784776\\\\\n",
       "\t 0.9760172 & 0.9462975 & 0.8917032 & 0.9036659 & 0.9449888 & 0.9508930 & 1.0000000 & 0.9618934 & 0.9478883 & 0.9317511\\\\\n",
       "\t 0.9511106 & 0.9772550 & 0.9079127 & 0.9216133 & 0.9692214 & 0.9829718 & 0.9618934 & 1.0000000 & 0.9808748 & 0.9751244\\\\\n",
       "\t 0.9393393 & 0.9713032 & 0.9175676 & 0.9200689 & 0.9638667 & 0.9717331 & 0.9478883 & 0.9808748 & 1.0000000 & 0.9697336\\\\\n",
       "\t 0.9326738 & 0.9649216 & 0.9019623 & 0.9042785 & 0.9676383 & 0.9784776 & 0.9317511 & 0.9751244 & 0.9697336 & 1.0000000\\\\\n",
       "\\end{tabular}\n"
      ],
      "text/markdown": [
       "\n",
       "| 1.0000000 | 0.9441955 | 0.9045241 | 0.8942893 | 0.9481747 | 0.9395874 | 0.9760172 | 0.9511106 | 0.9393393 | 0.9326738 | \n",
       "| 0.9441955 | 1.0000000 | 0.9131516 | 0.9209249 | 0.9629083 | 0.9691267 | 0.9462975 | 0.9772550 | 0.9713032 | 0.9649216 | \n",
       "| 0.9045241 | 0.9131516 | 1.0000000 | 0.8636972 | 0.8969751 | 0.9001560 | 0.8917032 | 0.9079127 | 0.9175676 | 0.9019623 | \n",
       "| 0.8942893 | 0.9209249 | 0.8636972 | 1.0000000 | 0.9315907 | 0.9079461 | 0.9036659 | 0.9216133 | 0.9200689 | 0.9042785 | \n",
       "| 0.9481747 | 0.9629083 | 0.8969751 | 0.9315907 | 1.0000000 | 0.9552764 | 0.9449888 | 0.9692214 | 0.9638667 | 0.9676383 | \n",
       "| 0.9395874 | 0.9691267 | 0.9001560 | 0.9079461 | 0.9552764 | 1.0000000 | 0.9508930 | 0.9829718 | 0.9717331 | 0.9784776 | \n",
       "| 0.9760172 | 0.9462975 | 0.8917032 | 0.9036659 | 0.9449888 | 0.9508930 | 1.0000000 | 0.9618934 | 0.9478883 | 0.9317511 | \n",
       "| 0.9511106 | 0.9772550 | 0.9079127 | 0.9216133 | 0.9692214 | 0.9829718 | 0.9618934 | 1.0000000 | 0.9808748 | 0.9751244 | \n",
       "| 0.9393393 | 0.9713032 | 0.9175676 | 0.9200689 | 0.9638667 | 0.9717331 | 0.9478883 | 0.9808748 | 1.0000000 | 0.9697336 | \n",
       "| 0.9326738 | 0.9649216 | 0.9019623 | 0.9042785 | 0.9676383 | 0.9784776 | 0.9317511 | 0.9751244 | 0.9697336 | 1.0000000 | \n",
       "\n",
       "\n"
      ],
      "text/plain": [
       "      [,1]      [,2]      [,3]      [,4]      [,5]      [,6]      [,7]     \n",
       " [1,] 1.0000000 0.9441955 0.9045241 0.8942893 0.9481747 0.9395874 0.9760172\n",
       " [2,] 0.9441955 1.0000000 0.9131516 0.9209249 0.9629083 0.9691267 0.9462975\n",
       " [3,] 0.9045241 0.9131516 1.0000000 0.8636972 0.8969751 0.9001560 0.8917032\n",
       " [4,] 0.8942893 0.9209249 0.8636972 1.0000000 0.9315907 0.9079461 0.9036659\n",
       " [5,] 0.9481747 0.9629083 0.8969751 0.9315907 1.0000000 0.9552764 0.9449888\n",
       " [6,] 0.9395874 0.9691267 0.9001560 0.9079461 0.9552764 1.0000000 0.9508930\n",
       " [7,] 0.9760172 0.9462975 0.8917032 0.9036659 0.9449888 0.9508930 1.0000000\n",
       " [8,] 0.9511106 0.9772550 0.9079127 0.9216133 0.9692214 0.9829718 0.9618934\n",
       " [9,] 0.9393393 0.9713032 0.9175676 0.9200689 0.9638667 0.9717331 0.9478883\n",
       "[10,] 0.9326738 0.9649216 0.9019623 0.9042785 0.9676383 0.9784776 0.9317511\n",
       "      [,8]      [,9]      [,10]    \n",
       " [1,] 0.9511106 0.9393393 0.9326738\n",
       " [2,] 0.9772550 0.9713032 0.9649216\n",
       " [3,] 0.9079127 0.9175676 0.9019623\n",
       " [4,] 0.9216133 0.9200689 0.9042785\n",
       " [5,] 0.9692214 0.9638667 0.9676383\n",
       " [6,] 0.9829718 0.9717331 0.9784776\n",
       " [7,] 0.9618934 0.9478883 0.9317511\n",
       " [8,] 1.0000000 0.9808748 0.9751244\n",
       " [9,] 0.9808748 1.0000000 0.9697336\n",
       "[10,] 0.9751244 0.9697336 1.0000000"
      ]
     },
     "metadata": {},
     "output_type": "display_data"
    }
   ],
   "source": [
    "cor.dendlist(d.euc, method='cophenetic')"
   ]
  },
  {
   "cell_type": "code",
   "execution_count": 68,
   "metadata": {
    "collapsed": false
   },
   "outputs": [
    {
     "data": {
      "text/html": [
       "<table>\n",
       "<tbody>\n",
       "\t<tr><td>1.0000000</td><td>0.9830718</td><td>0.9936497</td><td>0.9187315</td><td>0.9187757</td><td>0.9855795</td><td>0.9694443</td><td>0.9073577</td><td>0.9115775</td><td>0.9747162</td></tr>\n",
       "\t<tr><td>0.9830718</td><td>1.0000000</td><td>0.9869371</td><td>0.9424571</td><td>0.9429182</td><td>0.9711988</td><td>0.9704296</td><td>0.9319277</td><td>0.9430493</td><td>0.9858729</td></tr>\n",
       "\t<tr><td>0.9936497</td><td>0.9869371</td><td>1.0000000</td><td>0.9308986</td><td>0.9282170</td><td>0.9932354</td><td>0.9578575</td><td>0.9099063</td><td>0.9211368</td><td>0.9785833</td></tr>\n",
       "\t<tr><td>0.9187315</td><td>0.9424571</td><td>0.9308986</td><td>1.0000000</td><td>0.9995369</td><td>0.9098374</td><td>0.9294554</td><td>0.9606318</td><td>0.9284183</td><td>0.9494572</td></tr>\n",
       "\t<tr><td>0.9187757</td><td>0.9429182</td><td>0.9282170</td><td>0.9995369</td><td>1.0000000</td><td>0.9055085</td><td>0.9329704</td><td>0.9630862</td><td>0.9288812</td><td>0.9499183</td></tr>\n",
       "\t<tr><td>0.9855795</td><td>0.9711988</td><td>0.9932354</td><td>0.9098374</td><td>0.9055085</td><td>1.0000000</td><td>0.9355203</td><td>0.8989496</td><td>0.9062208</td><td>0.9529021</td></tr>\n",
       "\t<tr><td>0.9694443</td><td>0.9704296</td><td>0.9578575</td><td>0.9294554</td><td>0.9329704</td><td>0.9355203</td><td>1.0000000</td><td>0.8961539</td><td>0.9262772</td><td>0.9704296</td></tr>\n",
       "\t<tr><td>0.9073577</td><td>0.9319277</td><td>0.9099063</td><td>0.9606318</td><td>0.9630862</td><td>0.8989496</td><td>0.8961539</td><td>1.0000000</td><td>0.9390020</td><td>0.9197969</td></tr>\n",
       "\t<tr><td>0.9115775</td><td>0.9430493</td><td>0.9211368</td><td>0.9284183</td><td>0.9288812</td><td>0.9062208</td><td>0.9262772</td><td>0.9390020</td><td>1.0000000</td><td>0.9394915</td></tr>\n",
       "\t<tr><td>0.9747162</td><td>0.9858729</td><td>0.9785833</td><td>0.9494572</td><td>0.9499183</td><td>0.9529021</td><td>0.9704296</td><td>0.9197969</td><td>0.9394915</td><td>1.0000000</td></tr>\n",
       "</tbody>\n",
       "</table>\n"
      ],
      "text/latex": [
       "\\begin{tabular}{llllllllll}\n",
       "\t 1.0000000 & 0.9830718 & 0.9936497 & 0.9187315 & 0.9187757 & 0.9855795 & 0.9694443 & 0.9073577 & 0.9115775 & 0.9747162\\\\\n",
       "\t 0.9830718 & 1.0000000 & 0.9869371 & 0.9424571 & 0.9429182 & 0.9711988 & 0.9704296 & 0.9319277 & 0.9430493 & 0.9858729\\\\\n",
       "\t 0.9936497 & 0.9869371 & 1.0000000 & 0.9308986 & 0.9282170 & 0.9932354 & 0.9578575 & 0.9099063 & 0.9211368 & 0.9785833\\\\\n",
       "\t 0.9187315 & 0.9424571 & 0.9308986 & 1.0000000 & 0.9995369 & 0.9098374 & 0.9294554 & 0.9606318 & 0.9284183 & 0.9494572\\\\\n",
       "\t 0.9187757 & 0.9429182 & 0.9282170 & 0.9995369 & 1.0000000 & 0.9055085 & 0.9329704 & 0.9630862 & 0.9288812 & 0.9499183\\\\\n",
       "\t 0.9855795 & 0.9711988 & 0.9932354 & 0.9098374 & 0.9055085 & 1.0000000 & 0.9355203 & 0.8989496 & 0.9062208 & 0.9529021\\\\\n",
       "\t 0.9694443 & 0.9704296 & 0.9578575 & 0.9294554 & 0.9329704 & 0.9355203 & 1.0000000 & 0.8961539 & 0.9262772 & 0.9704296\\\\\n",
       "\t 0.9073577 & 0.9319277 & 0.9099063 & 0.9606318 & 0.9630862 & 0.8989496 & 0.8961539 & 1.0000000 & 0.9390020 & 0.9197969\\\\\n",
       "\t 0.9115775 & 0.9430493 & 0.9211368 & 0.9284183 & 0.9288812 & 0.9062208 & 0.9262772 & 0.9390020 & 1.0000000 & 0.9394915\\\\\n",
       "\t 0.9747162 & 0.9858729 & 0.9785833 & 0.9494572 & 0.9499183 & 0.9529021 & 0.9704296 & 0.9197969 & 0.9394915 & 1.0000000\\\\\n",
       "\\end{tabular}\n"
      ],
      "text/markdown": [
       "\n",
       "| 1.0000000 | 0.9830718 | 0.9936497 | 0.9187315 | 0.9187757 | 0.9855795 | 0.9694443 | 0.9073577 | 0.9115775 | 0.9747162 | \n",
       "| 0.9830718 | 1.0000000 | 0.9869371 | 0.9424571 | 0.9429182 | 0.9711988 | 0.9704296 | 0.9319277 | 0.9430493 | 0.9858729 | \n",
       "| 0.9936497 | 0.9869371 | 1.0000000 | 0.9308986 | 0.9282170 | 0.9932354 | 0.9578575 | 0.9099063 | 0.9211368 | 0.9785833 | \n",
       "| 0.9187315 | 0.9424571 | 0.9308986 | 1.0000000 | 0.9995369 | 0.9098374 | 0.9294554 | 0.9606318 | 0.9284183 | 0.9494572 | \n",
       "| 0.9187757 | 0.9429182 | 0.9282170 | 0.9995369 | 1.0000000 | 0.9055085 | 0.9329704 | 0.9630862 | 0.9288812 | 0.9499183 | \n",
       "| 0.9855795 | 0.9711988 | 0.9932354 | 0.9098374 | 0.9055085 | 1.0000000 | 0.9355203 | 0.8989496 | 0.9062208 | 0.9529021 | \n",
       "| 0.9694443 | 0.9704296 | 0.9578575 | 0.9294554 | 0.9329704 | 0.9355203 | 1.0000000 | 0.8961539 | 0.9262772 | 0.9704296 | \n",
       "| 0.9073577 | 0.9319277 | 0.9099063 | 0.9606318 | 0.9630862 | 0.8989496 | 0.8961539 | 1.0000000 | 0.9390020 | 0.9197969 | \n",
       "| 0.9115775 | 0.9430493 | 0.9211368 | 0.9284183 | 0.9288812 | 0.9062208 | 0.9262772 | 0.9390020 | 1.0000000 | 0.9394915 | \n",
       "| 0.9747162 | 0.9858729 | 0.9785833 | 0.9494572 | 0.9499183 | 0.9529021 | 0.9704296 | 0.9197969 | 0.9394915 | 1.0000000 | \n",
       "\n",
       "\n"
      ],
      "text/plain": [
       "      [,1]      [,2]      [,3]      [,4]      [,5]      [,6]      [,7]     \n",
       " [1,] 1.0000000 0.9830718 0.9936497 0.9187315 0.9187757 0.9855795 0.9694443\n",
       " [2,] 0.9830718 1.0000000 0.9869371 0.9424571 0.9429182 0.9711988 0.9704296\n",
       " [3,] 0.9936497 0.9869371 1.0000000 0.9308986 0.9282170 0.9932354 0.9578575\n",
       " [4,] 0.9187315 0.9424571 0.9308986 1.0000000 0.9995369 0.9098374 0.9294554\n",
       " [5,] 0.9187757 0.9429182 0.9282170 0.9995369 1.0000000 0.9055085 0.9329704\n",
       " [6,] 0.9855795 0.9711988 0.9932354 0.9098374 0.9055085 1.0000000 0.9355203\n",
       " [7,] 0.9694443 0.9704296 0.9578575 0.9294554 0.9329704 0.9355203 1.0000000\n",
       " [8,] 0.9073577 0.9319277 0.9099063 0.9606318 0.9630862 0.8989496 0.8961539\n",
       " [9,] 0.9115775 0.9430493 0.9211368 0.9284183 0.9288812 0.9062208 0.9262772\n",
       "[10,] 0.9747162 0.9858729 0.9785833 0.9494572 0.9499183 0.9529021 0.9704296\n",
       "      [,8]      [,9]      [,10]    \n",
       " [1,] 0.9073577 0.9115775 0.9747162\n",
       " [2,] 0.9319277 0.9430493 0.9858729\n",
       " [3,] 0.9099063 0.9211368 0.9785833\n",
       " [4,] 0.9606318 0.9284183 0.9494572\n",
       " [5,] 0.9630862 0.9288812 0.9499183\n",
       " [6,] 0.8989496 0.9062208 0.9529021\n",
       " [7,] 0.8961539 0.9262772 0.9704296\n",
       " [8,] 1.0000000 0.9390020 0.9197969\n",
       " [9,] 0.9390020 1.0000000 0.9394915\n",
       "[10,] 0.9197969 0.9394915 1.0000000"
      ]
     },
     "metadata": {},
     "output_type": "display_data"
    }
   ],
   "source": [
    "cor.dendlist(d.euc, method='baker')"
   ]
  },
  {
   "cell_type": "code",
   "execution_count": null,
   "metadata": {
    "collapsed": true
   },
   "outputs": [],
   "source": []
  }
 ],
 "metadata": {
  "anaconda-cloud": {},
  "kernelspec": {
   "display_name": "R",
   "language": "R",
   "name": "ir"
  },
  "language_info": {
   "codemirror_mode": "r",
   "file_extension": ".r",
   "mimetype": "text/x-r-source",
   "name": "R",
   "pygments_lexer": "r",
   "version": "3.3.2"
  }
 },
 "nbformat": 4,
 "nbformat_minor": 1
}
