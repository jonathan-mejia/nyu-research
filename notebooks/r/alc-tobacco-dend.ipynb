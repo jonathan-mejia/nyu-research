{
 "cells": [
  {
   "cell_type": "code",
   "execution_count": 1,
   "metadata": {
    "collapsed": false
   },
   "outputs": [
    {
     "name": "stderr",
     "output_type": "stream",
     "text": [
      "Warning message:\n",
      "\"package 'zoo' was built under R version 3.3.3\"\n",
      "Attaching package: 'zoo'\n",
      "\n",
      "The following objects are masked from 'package:base':\n",
      "\n",
      "    as.Date, as.Date.numeric\n",
      "\n",
      "Warning message:\n",
      "\"package 'forecast' was built under R version 3.3.3\""
     ]
    }
   ],
   "source": [
    "source('c:/users/tom/pycharmprojects/nyu-research/ts.R')"
   ]
  },
  {
   "cell_type": "code",
   "execution_count": 5,
   "metadata": {
    "collapsed": true
   },
   "outputs": [],
   "source": [
    "preprocessing_df <- function(ts, total, thres=5000){\n",
    "  \n",
    "  # removes rows with low observations and locfs them\n",
    "  # returns time series and total time series, as a list\n",
    "  \n",
    "  df = time_index(data.frame(ts))\n",
    "  df_total = time_index(data.frame(total))\n",
    "  \n",
    "  missing = df_total[,'tweets']<thres\n",
    "  print(which(missing))\n",
    "  df_total[missing, 'tweets'] <- NA\n",
    "  df[missing,] <-NA\n",
    "  df_total = na.locf(df_total[,'tweets'])\n",
    "  df_filled = (na.locf(df[, ncol(df)]))\n",
    "  \n",
    "  return(list(series=df_filled, total=df_total))\n",
    "}"
   ]
  },
  {
   "cell_type": "code",
   "execution_count": 2,
   "metadata": {
    "collapsed": true
   },
   "outputs": [],
   "source": [
    "ts.js <- function(jcsv, scsv){\n",
    "    j_tob <- read.csv(jcsv)\n",
    "    pres <- j_tob[c(1,2,3)]\n",
    "    tot <- j_tob[c(1,2,4)]\n",
    "    new <- preprocessing_df(pres, tot)\n",
    "    ts_pres <- ts((new$series)[33:(672+32)], frequency=24)\n",
    "    \n",
    "    s_tob <- read.csv(scsv)\n",
    "    spres <-s_tob[c(1,2,3)]\n",
    "    stot <- s_tob[c(1,2,4)]\n",
    "    snew <- preprocessing_df(spres, stot)\n",
    "    ts_spres <- ts((snew$series)[9:(672+8)], frequency=24)\n",
    "    return (ts(c((new$series)[33:(672+32)], (snew$series)[9:(672+8)]), frequency=24))}"
   ]
  },
  {
   "cell_type": "code",
   "execution_count": 56,
   "metadata": {
    "collapsed": true
   },
   "outputs": [],
   "source": [
    "ts.tot <- function(jcsv, scsv){\n",
    "    j_tob <- read.csv(jcsv)\n",
    "    pres <- j_tob[c(1,2,3)]\n",
    "    tot <- j_tob[c(1,2,4)]\n",
    "    new <- preprocessing_df(pres, tot)\n",
    "    ts_pres <- ts((new$total)[33:(672+32)], frequency=24)\n",
    "    \n",
    "    s_tob <- read.csv(scsv)\n",
    "    spres <-s_tob[c(1,2,3)]\n",
    "    stot <- s_tob[c(1,2,4)]\n",
    "    snew <- preprocessing_df(spres, stot)\n",
    "    ts_spres <- ts((snew$total)[9:(672+8)], frequency=24)\n",
    "    return (ts(c((new$total)[33:(672+32)], (snew$total)[9:(672+8)]), frequency=24))}"
   ]
  },
  {
   "cell_type": "code",
   "execution_count": null,
   "metadata": {
    "collapsed": true
   },
   "outputs": [],
   "source": [
    "ts.trends <- function(jcsv, scsv){\n",
    "    j_tob <- read.csv(jcsv)\n",
    "    pres <- j_tob[5]\n",
    "    ts_pres <- ts((new$total)[33:(672+32)], frequency=24)\n",
    "    \n",
    "    s_tob <- read.csv(scsv)\n",
    "    spres <-s_tob[c(1,2,3)]\n",
    "    stot <- s_tob[c(1,2,4)]\n",
    "    snew <- preprocessing_df(spres, stot)\n",
    "    ts_spres <- ts((snew$total)[9:(672+8)], frequency=24)\n",
    "    return (ts(c((new$total)[33:(672+32)], (snew$total)[9:(672+8)]), frequency=24))}"
   ]
  },
  {
   "cell_type": "code",
   "execution_count": 60,
   "metadata": {
    "collapsed": false
   },
   "outputs": [
    {
     "name": "stdout",
     "output_type": "stream",
     "text": [
      " [1]   2   3   4   5   6   7  26  27  28  29  30  31 721 722 723\n",
      " [1] 408 409 410 411 412 413 414 415 476 477 478 479 485 486 721 722 723 724 725\n",
      " [1]   2   3   4   5   6   7  26  27  28  29  30  31 721 722 723\n",
      " [1] 408 409 410 411 412 413 414 415 476 477 478 479 485 486 721 722 723 724 725\n",
      " [1]   2   3   4   5   6   7  26  27  28  29  30  31 721 722 723\n",
      " [1] 408 409 410 411 412 413 414 415 476 477 478 479 485 486 721 722 723 724 725\n"
     ]
    }
   ],
   "source": [
    "tob <- ts.js('c:/users/tom/documents/research/data/tob-current-june.csv', \n",
    "      'c:/users/tom/documents/research/data/tob-current-sept.csv')\n",
    "alc <- ts.js('c:/users/tom/documents/research/data/alc-june.csv', \n",
    "      'c:/users/tom/documents/research/data/alc-sept.csv')\n",
    "tot <- ts.tot('c:/users/tom/documents/research/data/alc-june.csv', \n",
    "      'c:/users/tom/documents/research/data/alc-sept.csv')\n",
    "alc <- alc/tot\n",
    "tob <- tob/tot\n",
    "alc <- alc/mean(alc)\n",
    "tob <- tob/mean(tob)"
   ]
  },
  {
   "cell_type": "code",
   "execution_count": 16,
   "metadata": {
    "collapsed": true
   },
   "outputs": [],
   "source": [
    "weekify <- function(ser){\n",
    "    \n",
    "ser.1 = as.numeric(window(ser, start=c(1, 1), end= c(7, 24)))\n",
    "ser.2 = as.numeric(window(ser, start=c(8, 1), end= c(14, 24)))\n",
    "ser.3 = as.numeric(window(ser, start=c(15, 1), end= c(21, 24)))\n",
    "ser.4 = as.numeric(window(ser, start=c(22, 1), end= c(28, 24)))\n",
    "ser.5 = as.numeric(window(ser, start=c(29, 1), end= c(35, 24)))\n",
    "ser.6 = as.numeric(window(ser, start=c(36, 1), end= c(42,24)))\n",
    "ser.7 = as.numeric(window(ser, start=c(43, 1), end= c(49, 24)))\n",
    "ser.8 = as.numeric(window(ser, start=c(50, 1), end= c(56, 24)))\n",
    "    return (data.frame(ser.1, ser.2, ser.3, ser.4, ser.5, ser.6, ser.7, ser.8))\n",
    "    }"
   ]
  },
  {
   "cell_type": "code",
   "execution_count": 82,
   "metadata": {
    "collapsed": true
   },
   "outputs": [],
   "source": [
    "alc.df <- weekify(alc)\n",
    "tob.df <- weekify(tob)\n",
    "alc.trends <- weekify(trends_alc)"
   ]
  },
  {
   "cell_type": "code",
   "execution_count": 97,
   "metadata": {
    "collapsed": true
   },
   "outputs": [],
   "source": [
    "\n",
    "plot_series <- function(tob.df, cur.df, plot_max = 3){\n",
    "    #     week_names = c('June 2-8', 'June 9-15', 'June 16-22', 'June 23-29', 'Sept 1-7', 'Sept 8-14', 'Sept 15-21', 'Sept 22-28')\n",
    "        week_names = c('J1', 'J2', 'J3', 'J4', 'S1', 'S2','S3', 'S4')\n",
    "    par(mfrow=c(8,1))\n",
    "    # outer margin\n",
    "    par(oma = c(5, 3, 5, 0))\n",
    "    for (col in 1:8){\n",
    "        # remove space for x-axis\n",
    "        par(mar = c(0, 8, 0, 0))\n",
    "        yrange = c(0, plot_max)\n",
    "        plot(tob.df[, col], type='l', xaxt='n', col='blue', ylim=yrange, yaxt='n', ylab='')\n",
    "        lines(cur.df[,col], col='red')\n",
    "        # lines(shi.df[,col], col='steelblue')\n",
    "        title(cex.lab =3, ylab=week_names[col], line=6)\n",
    "        axis(2, at=c(0, plot_max /3, 2*plot_max /3), las = 1, cex.axis=2)\n",
    "        abline(v=seq(1, 168, by=24), lty=2)\n",
    "\n",
    "    \n",
    "    mtext('Proportion of 8 Week Mean', cex=2, side = 2, outer = TRUE, line = 1)\n",
    "mtext('Hour of Week (dotted lines at 8am local time)', cex=1.5, side = 1, outer = TRUE, line = 3)\n",
    "axis(1, labels = c('Tu', 'W', 'Th', 'F', 'Sa', 'Su', 'M'), at=seq(1, 168, by=24), outer=TRUE)\n",
    "    }\n",
    "    par(xpd=NA)\n",
    "    \n",
    "}"
   ]
  },
  {
   "cell_type": "code",
   "execution_count": 121,
   "metadata": {
    "collapsed": false
   },
   "outputs": [
    {
     "name": "stdout",
     "output_type": "stream",
     "text": [
      " [1]   2   3   4   5   6   7  26  27  28  29  30  31 721 722 723\n",
      " [1] 408 409 410 411 412 413 414 415 476 477 478 479 485 486 721 722 723 724 725\n",
      " [1]   2   3   4   5   6   7  26  27  28  29  30  31 721 722 723\n",
      " [1] 408 409 410 411 412 413 414 415 476 477 478 479 485 486 721 722 723 724 725\n"
     ]
    },
    {
     "data": {
      "text/html": [
       "<strong>png:</strong> 2"
      ],
      "text/latex": [
       "\\textbf{png:} 2"
      ],
      "text/markdown": [
       "**png:** 2"
      ],
      "text/plain": [
       "png \n",
       "  2 "
      ]
     },
     "metadata": {},
     "output_type": "display_data"
    }
   ],
   "source": [
    "shi <- ts.js('c:/users/tom/documents/research/data/shisha-june.csv', \n",
    "      'c:/users/tom/documents/research/data/shisha-sept.csv')\n",
    "tot <- ts.tot('c:/users/tom/documents/research/data/alc-june.csv', \n",
    "      'c:/users/tom/documents/research/data/alc-sept.csv')\n",
    "shi <- shi/tot\n",
    "shi <- shi/mean(shi)\n",
    "shi.df <- weekify(shi)\n",
    "trends_shi.j <- read.csv('c:/users/tom/documents/research/data/June2015_Trends_hookah.csv')\n",
    "trends_shi.s <- read.csv('c:/users/tom/documents/research/data/Sept2015_Trends_hookah.csv')\n",
    "trends_shi <- ts(c(trends_shi.j[33:(672+32), 4], trends_shi.s[9:(672+8), 4]), frequency=24)\n",
    "trends_shi <- trends_shi/mean(trends_shi)\n",
    "shi.trends <- weekify(trends_shi)\n",
    "\n",
    "pdf('c:/users/tom/documents/research/trends_plots/hookah.pdf',width=7,height=12,paper='special') \n",
    "plot_series(shi.df, shi.trends,  plot_max = 6)\n",
    "legend(134,53,inset = 0,\n",
    "        legend = c(\"Twitter\", \"Trends\"), \n",
    "        col=c(\"steelblue\", \"red\" ), pch=15, cex=1.1, horiz=TRUE)\n",
    "dev.off()"
   ]
  },
  {
   "cell_type": "code",
   "execution_count": 162,
   "metadata": {
    "collapsed": false
   },
   "outputs": [
    {
     "data": {
      "text/html": [
       "<strong>png:</strong> 2"
      ],
      "text/latex": [
       "\\textbf{png:} 2"
      ],
      "text/markdown": [
       "**png:** 2"
      ],
      "text/plain": [
       "png \n",
       "  2 "
      ]
     },
     "metadata": {},
     "output_type": "display_data"
    }
   ],
   "source": [
    "pdf('c:/users/tom/documents/research/trends_plots_week/hookah.pdf',width=7,height=4,paper='special') \n",
    "tw.week.avg <- apply(shi.df, FUN=mean, MARGIN=1) * 100\n",
    "trend.week.avg <- apply(shi.trends, FUN=mean, MARGIN=1) * 100\n",
    "plot.ts(tw.week.avg, xaxt='n', col=\"blue\", ylim=c(0,500), ylab=\"avg. prop. of hookah related as % of mean\",\n",
    "        xlab='Hour of Week (dotted lines at 8am local time)')\n",
    "lines(trend.week.avg, col='red')\n",
    "axis(side=1, at=seq(1, 168, by=24), labels=c('T', 'W', 'Th', 'F', 'Sa', 'Su', 'M'))\n",
    "abline(v=seq(1, 168+24, by=24), lty=2)\n",
    "legend(\"topright\", c('Twitter',  'Trends'), bg='white', col=c('blue', 'red'),\n",
    "      cex = 1,  lty = c(1, 1))\n",
    "dev.off()"
   ]
  },
  {
   "cell_type": "code",
   "execution_count": 130,
   "metadata": {
    "collapsed": false
   },
   "outputs": [
    {
     "name": "stdout",
     "output_type": "stream",
     "text": [
      " [1]   2   3   4   5   6   7  26  27  28  29  30  31 721 722 723\n",
      " [1] 408 409 410 411 412 413 414 415 476 477 478 479 485 486 721 722 723 724 725\n",
      " [1]   2   3   4   5   6   7  26  27  28  29  30  31 721 722 723\n",
      " [1] 408 409 410 411 412 413 414 415 476 477 478 479 485 486 721 722 723 724 725\n"
     ]
    },
    {
     "data": {
      "text/html": [
       "<strong>png:</strong> 2"
      ],
      "text/latex": [
       "\\textbf{png:} 2"
      ],
      "text/markdown": [
       "**png:** 2"
      ],
      "text/plain": [
       "png \n",
       "  2 "
      ]
     },
     "metadata": {},
     "output_type": "display_data"
    }
   ],
   "source": [
    "alc <- ts.js('c:/users/tom/documents/research/data/alc-june.csv', \n",
    "      'c:/users/tom/documents/research/data/alc-sept.csv')\n",
    "tot <- ts.tot('c:/users/tom/documents/research/data/alc-june.csv', \n",
    "      'c:/users/tom/documents/research/data/alc-sept.csv')\n",
    "alc <- alc/tot\n",
    "alc <- alc/mean(alc)\n",
    "alc.df <- weekify(alc)\n",
    "\n",
    "trends_alc.j <- read.csv('c:/users/tom/documents/research/data/June2015_Trends_alcohol.csv')\n",
    "trends_alc.s <- read.csv('c:/users/tom/documents/research/data/Sept2015_Trends_alcohol.csv')\n",
    "trends_alc <- ts(c(trends_alc.j[33:(672+32), 5], trends_alc.s[9:(672+8), 5]), frequency=24)\n",
    "trends_alc <- trends_alc/mean(trends_alc)\n",
    "alc.trends <- weekify(trends_alc)\n",
    "pdf('c:/users/tom/documents/research/trends_plots/alc.pdf',width=7,height=12,paper='special') \n",
    "plot_series(alc.df, alc.trends,  plot_max = 1.8)\n",
    "legend(134,15.9,inset = 0,\n",
    "        legend = c(\"Twitter\", \"Trends\"), \n",
    "        col=c(\"steelblue\", \"red\" ), pch=15, cex=1.1, horiz=TRUE)\n",
    "dev.off()"
   ]
  },
  {
   "cell_type": "code",
   "execution_count": 163,
   "metadata": {
    "collapsed": false
   },
   "outputs": [
    {
     "data": {
      "text/html": [
       "<strong>png:</strong> 2"
      ],
      "text/latex": [
       "\\textbf{png:} 2"
      ],
      "text/markdown": [
       "**png:** 2"
      ],
      "text/plain": [
       "png \n",
       "  2 "
      ]
     },
     "metadata": {},
     "output_type": "display_data"
    }
   ],
   "source": [
    "pdf('c:/users/tom/documents/research/trends_plots_week/alc.pdf',width=7,height=4,paper='special') \n",
    "tw.week.avg <- apply(alc.df, FUN=mean, MARGIN=1) * 100\n",
    "trend.week.avg <- apply(alc.trends, FUN=mean, MARGIN=1) * 100\n",
    "plot.ts(tw.week.avg, xaxt='n', col=\"blue\", ylim=c(50,200), ylab=\"avg. prop. of alcohol related as % of mean\",\n",
    "        xlab='Hour of Week (dotted lines at 8am local time)')\n",
    "lines(trend.week.avg, col='red')\n",
    "axis(side=1, at=seq(1, 168, by=24), labels=c('T', 'W', 'Th', 'F', 'Sa', 'Su', 'M'))\n",
    "abline(v=seq(1, 168+24, by=24), lty=2)\n",
    "legend(\"topright\", c('Twitter',  'Trends'), bg='white', col=c('blue', 'red'),\n",
    "      cex = 1,  lty = c(1, 1))\n",
    "dev.off()"
   ]
  },
  {
   "cell_type": "code",
   "execution_count": 23,
   "metadata": {
    "collapsed": false
   },
   "outputs": [
    {
     "name": "stderr",
     "output_type": "stream",
     "text": [
      "Warning message:\n",
      "\"package 'TSclust' was built under R version 3.3.3\"Loading required package: wmtsa\n",
      "Warning message:\n",
      "\"package 'wmtsa' was built under R version 3.3.3\"Loading required package: pdc\n",
      "Warning message:\n",
      "\"package 'pdc' was built under R version 3.3.3\"Loading required package: cluster\n",
      "Warning message:\n",
      "\"package 'factoextra' was built under R version 3.3.3\"Loading required package: ggplot2\n",
      "Warning message:\n",
      "\"package 'ggplot2' was built under R version 3.3.3\""
     ]
    }
   ],
   "source": [
    "library('TSclust')\n",
    "library('factoextra')"
   ]
  },
  {
   "cell_type": "code",
   "execution_count": 31,
   "metadata": {
    "collapsed": false
   },
   "outputs": [
    {
     "data": {
      "text/html": [
       "<table>\n",
       "<thead><tr><th scope=col>ser.1</th><th scope=col>ser.2</th><th scope=col>ser.3</th><th scope=col>ser.4</th><th scope=col>ser.5</th><th scope=col>ser.6</th><th scope=col>ser.7</th><th scope=col>ser.8</th><th scope=col>ser.1</th><th scope=col>ser.2</th><th scope=col>ser.3</th><th scope=col>ser.4</th><th scope=col>ser.5</th><th scope=col>ser.6</th><th scope=col>ser.7</th><th scope=col>ser.8</th></tr></thead>\n",
       "<tbody>\n",
       "\t<tr><td>0.08872132</td><td>0.5385177 </td><td>0.5055052 </td><td>0.4394800 </td><td>0.6519985 </td><td>0.6148593 </td><td>0.6107328 </td><td>0.6519985 </td><td>0.06968063</td><td>0.4529241 </td><td>0.3484032 </td><td>0.5574450 </td><td>1.0103691 </td><td>0.6619660 </td><td>0.8013273 </td><td>0.9406885 </td></tr>\n",
       "\t<tr><td>0.09903775</td><td>0.5818468 </td><td>0.6602516 </td><td>0.6189859 </td><td>0.6870744 </td><td>0.8335677 </td><td>0.7200870 </td><td>0.6664415 </td><td>0.10452095</td><td>0.8710079 </td><td>0.7316466 </td><td>0.6271257 </td><td>0.7664869 </td><td>0.8710079 </td><td>0.8013273 </td><td>0.7664869 </td></tr>\n",
       "\t<tr><td>0.08253146</td><td>0.7262768 </td><td>0.7221502 </td><td>0.6478719 </td><td>0.7799223 </td><td>0.7943653 </td><td>0.7365932 </td><td>0.7778590 </td><td>0.06968063</td><td>1.1148901 </td><td>0.7316466 </td><td>0.8710079 </td><td>0.7664869 </td><td>1.0800498 </td><td>1.1497304 </td><td>1.1497304 </td></tr>\n",
       "\t<tr><td>0.18156920</td><td>0.8789600 </td><td>0.9573649 </td><td>0.9078460 </td><td>0.8026184 </td><td>0.8459474 </td><td>0.7696058 </td><td>0.7923020 </td><td>0.03484032</td><td>1.1148901 </td><td>0.9406885 </td><td>1.3239320 </td><td>1.0800498 </td><td>1.2542513 </td><td>0.8013273 </td><td>0.9406885 </td></tr>\n",
       "\t<tr><td>0.37551812</td><td>1.0502128 </td><td>1.0646558 </td><td>1.0275166 </td><td>0.8830866 </td><td>0.8521373 </td><td>0.8562639 </td><td>0.8521373 </td><td>0.00000000</td><td>1.2194110 </td><td>1.2194110 </td><td>1.1497304 </td><td>1.1497304 </td><td>1.0452095 </td><td>1.0800498 </td><td>0.8013273 </td></tr>\n",
       "\t<tr><td>0.41472057</td><td>0.9965673 </td><td>1.0605292 </td><td>0.9243523 </td><td>0.8315044 </td><td>0.9140359 </td><td>0.8005551 </td><td>0.8273778 </td><td>0.24388221</td><td>1.4284529 </td><td>1.0103691 </td><td>1.3239320 </td><td>1.4284529 </td><td>1.1148901 </td><td>0.6619660 </td><td>0.8013273 </td></tr>\n",
       "</tbody>\n",
       "</table>\n"
      ],
      "text/latex": [
       "\\begin{tabular}{r|llllllllllllllll}\n",
       " ser.1 & ser.2 & ser.3 & ser.4 & ser.5 & ser.6 & ser.7 & ser.8 & ser.1 & ser.2 & ser.3 & ser.4 & ser.5 & ser.6 & ser.7 & ser.8\\\\\n",
       "\\hline\n",
       "\t 0.08872132 & 0.5385177  & 0.5055052  & 0.4394800  & 0.6519985  & 0.6148593  & 0.6107328  & 0.6519985  & 0.06968063 & 0.4529241  & 0.3484032  & 0.5574450  & 1.0103691  & 0.6619660  & 0.8013273  & 0.9406885 \\\\\n",
       "\t 0.09903775 & 0.5818468  & 0.6602516  & 0.6189859  & 0.6870744  & 0.8335677  & 0.7200870  & 0.6664415  & 0.10452095 & 0.8710079  & 0.7316466  & 0.6271257  & 0.7664869  & 0.8710079  & 0.8013273  & 0.7664869 \\\\\n",
       "\t 0.08253146 & 0.7262768  & 0.7221502  & 0.6478719  & 0.7799223  & 0.7943653  & 0.7365932  & 0.7778590  & 0.06968063 & 1.1148901  & 0.7316466  & 0.8710079  & 0.7664869  & 1.0800498  & 1.1497304  & 1.1497304 \\\\\n",
       "\t 0.18156920 & 0.8789600  & 0.9573649  & 0.9078460  & 0.8026184  & 0.8459474  & 0.7696058  & 0.7923020  & 0.03484032 & 1.1148901  & 0.9406885  & 1.3239320  & 1.0800498  & 1.2542513  & 0.8013273  & 0.9406885 \\\\\n",
       "\t 0.37551812 & 1.0502128  & 1.0646558  & 1.0275166  & 0.8830866  & 0.8521373  & 0.8562639  & 0.8521373  & 0.00000000 & 1.2194110  & 1.2194110  & 1.1497304  & 1.1497304  & 1.0452095  & 1.0800498  & 0.8013273 \\\\\n",
       "\t 0.41472057 & 0.9965673  & 1.0605292  & 0.9243523  & 0.8315044  & 0.9140359  & 0.8005551  & 0.8273778  & 0.24388221 & 1.4284529  & 1.0103691  & 1.3239320  & 1.4284529  & 1.1148901  & 0.6619660  & 0.8013273 \\\\\n",
       "\\end{tabular}\n"
      ],
      "text/markdown": [
       "\n",
       "ser.1 | ser.2 | ser.3 | ser.4 | ser.5 | ser.6 | ser.7 | ser.8 | ser.1 | ser.2 | ser.3 | ser.4 | ser.5 | ser.6 | ser.7 | ser.8 | \n",
       "|---|---|---|---|---|---|\n",
       "| 0.08872132 | 0.5385177  | 0.5055052  | 0.4394800  | 0.6519985  | 0.6148593  | 0.6107328  | 0.6519985  | 0.06968063 | 0.4529241  | 0.3484032  | 0.5574450  | 1.0103691  | 0.6619660  | 0.8013273  | 0.9406885  | \n",
       "| 0.09903775 | 0.5818468  | 0.6602516  | 0.6189859  | 0.6870744  | 0.8335677  | 0.7200870  | 0.6664415  | 0.10452095 | 0.8710079  | 0.7316466  | 0.6271257  | 0.7664869  | 0.8710079  | 0.8013273  | 0.7664869  | \n",
       "| 0.08253146 | 0.7262768  | 0.7221502  | 0.6478719  | 0.7799223  | 0.7943653  | 0.7365932  | 0.7778590  | 0.06968063 | 1.1148901  | 0.7316466  | 0.8710079  | 0.7664869  | 1.0800498  | 1.1497304  | 1.1497304  | \n",
       "| 0.18156920 | 0.8789600  | 0.9573649  | 0.9078460  | 0.8026184  | 0.8459474  | 0.7696058  | 0.7923020  | 0.03484032 | 1.1148901  | 0.9406885  | 1.3239320  | 1.0800498  | 1.2542513  | 0.8013273  | 0.9406885  | \n",
       "| 0.37551812 | 1.0502128  | 1.0646558  | 1.0275166  | 0.8830866  | 0.8521373  | 0.8562639  | 0.8521373  | 0.00000000 | 1.2194110  | 1.2194110  | 1.1497304  | 1.1497304  | 1.0452095  | 1.0800498  | 0.8013273  | \n",
       "| 0.41472057 | 0.9965673  | 1.0605292  | 0.9243523  | 0.8315044  | 0.9140359  | 0.8005551  | 0.8273778  | 0.24388221 | 1.4284529  | 1.0103691  | 1.3239320  | 1.4284529  | 1.1148901  | 0.6619660  | 0.8013273  | \n",
       "\n",
       "\n"
      ],
      "text/plain": [
       "  ser.1      ser.2     ser.3     ser.4     ser.5     ser.6     ser.7    \n",
       "1 0.08872132 0.5385177 0.5055052 0.4394800 0.6519985 0.6148593 0.6107328\n",
       "2 0.09903775 0.5818468 0.6602516 0.6189859 0.6870744 0.8335677 0.7200870\n",
       "3 0.08253146 0.7262768 0.7221502 0.6478719 0.7799223 0.7943653 0.7365932\n",
       "4 0.18156920 0.8789600 0.9573649 0.9078460 0.8026184 0.8459474 0.7696058\n",
       "5 0.37551812 1.0502128 1.0646558 1.0275166 0.8830866 0.8521373 0.8562639\n",
       "6 0.41472057 0.9965673 1.0605292 0.9243523 0.8315044 0.9140359 0.8005551\n",
       "  ser.8     ser.1      ser.2     ser.3     ser.4     ser.5     ser.6    \n",
       "1 0.6519985 0.06968063 0.4529241 0.3484032 0.5574450 1.0103691 0.6619660\n",
       "2 0.6664415 0.10452095 0.8710079 0.7316466 0.6271257 0.7664869 0.8710079\n",
       "3 0.7778590 0.06968063 1.1148901 0.7316466 0.8710079 0.7664869 1.0800498\n",
       "4 0.7923020 0.03484032 1.1148901 0.9406885 1.3239320 1.0800498 1.2542513\n",
       "5 0.8521373 0.00000000 1.2194110 1.2194110 1.1497304 1.1497304 1.0452095\n",
       "6 0.8273778 0.24388221 1.4284529 1.0103691 1.3239320 1.4284529 1.1148901\n",
       "  ser.7     ser.8    \n",
       "1 0.8013273 0.9406885\n",
       "2 0.8013273 0.7664869\n",
       "3 1.1497304 1.1497304\n",
       "4 0.8013273 0.9406885\n",
       "5 1.0800498 0.8013273\n",
       "6 0.6619660 0.8013273"
      ]
     },
     "metadata": {},
     "output_type": "display_data"
    }
   ],
   "source": [
    "weeks = cbind(alc.df, tob.df)\n",
    "head(weeks)"
   ]
  },
  {
   "cell_type": "code",
   "execution_count": 38,
   "metadata": {
    "collapsed": false
   },
   "outputs": [
    {
     "name": "stderr",
     "output_type": "stream",
     "text": [
      "Warning message:\n",
      "\"package 'dendextend' was built under R version 3.3.3\"\n",
      "---------------------\n",
      "Welcome to dendextend version 1.5.2\n",
      "Type citation('dendextend') for how to cite the package.\n",
      "\n",
      "Type browseVignettes(package = 'dendextend') for the package vignette.\n",
      "The github page is: https://github.com/talgalili/dendextend/\n",
      "\n",
      "Suggestions and bug-reports can be submitted at: https://github.com/talgalili/dendextend/issues\n",
      "Or contact: <tal.galili@gmail.com>\n",
      "\n",
      "\tTo suppress this message use:  suppressPackageStartupMessages(library(dendextend))\n",
      "---------------------\n",
      "\n",
      "\n",
      "Attaching package: 'dendextend'\n",
      "\n",
      "The following object is masked from 'package:stats':\n",
      "\n",
      "    cutree\n",
      "\n"
     ]
    }
   ],
   "source": [
    "library(dendextend)"
   ]
  },
  {
   "cell_type": "code",
   "execution_count": 55,
   "metadata": {
    "collapsed": false
   },
   "outputs": [
    {
     "data": {
      "text/html": [
       "<strong>png:</strong> 2"
      ],
      "text/latex": [
       "\\textbf{png:} 2"
      ],
      "text/markdown": [
       "**png:** 2"
      ],
      "text/plain": [
       "png \n",
       "  2 "
      ]
     },
     "metadata": {},
     "output_type": "display_data"
    },
    {
     "data": {},
     "metadata": {},
     "output_type": "display_data"
    },
    {
     "data": {},
     "metadata": {},
     "output_type": "display_data"
    },
    {
     "data": {
      "text/html": [
       "<strong>png:</strong> 2"
      ],
      "text/latex": [
       "\\textbf{png:} 2"
      ],
      "text/markdown": [
       "**png:** 2"
      ],
      "text/plain": [
       "png \n",
       "  2 "
      ]
     },
     "metadata": {},
     "output_type": "display_data"
    },
    {
     "data": {
      "image/png": "[encoded data removed]",
      "text/plain": [
       "plot without title"
      ]
     },
     "metadata": {},
     "output_type": "display_data"
    }
   ],
   "source": [
    "weeks = cbind(alc.df, tob.df)[c(1:6, 8, 9:14, 16)] # remove september days with weird data\n",
    "colnames(weeks) = c('AJ1', 'AJ2', 'AJ3', 'AJ4', 'AS1', 'AS2','AS4', 'TJ1', 'TJ2', 'TJ3', 'TJ4', 'TS1', 'TS2','TS4')\n",
    "dist = diss(t(apply(weeks, 2, normalize)), METHOD='EUCL')\n",
    "\n",
    "\n",
    "par(mar=c(5.1,4.1,4.1,3.1))\n",
    "a = agnes(dist)\n",
    "a <- as.dendrogram(a)\n",
    "pdf('c:/users/tom/documents/research/alc-tob-dend-col.pdf',width=7,height=4,paper='special') \n",
    "a %>% set(\"by_labels_branches_col\", value = c('AJ1', 'AJ2', 'AJ3', 'AJ4', 'AS1', 'AS2','AS4')) %>% plot(las=1, horiz=TRUE, cex.lab=1.5, xlab='Height', ylab='Week')\n",
    "\n",
    "dev.off()\n",
    "\n",
    "p <- fviz_dend(a,  main='', ylab='Height', xlab='Week',  label_col='black', las=1, horiz=TRUE, cex=1.1) \n",
    "p <- p + theme(axis.title=element_text(size=14,face=\"bold\"))\n",
    "p\n",
    "pdf('c:/users/tom/documents/research/alc-tob-dend.pdf',width=7,height=4,paper='special') \n",
    "p\n",
    "dev.off()"
   ]
  }
 ],
 "metadata": {
  "anaconda-cloud": {},
  "kernelspec": {
   "display_name": "R",
   "language": "R",
   "name": "ir"
  },
  "language_info": {
   "codemirror_mode": "r",
   "file_extension": ".r",
   "mimetype": "text/x-r-source",
   "name": "R",
   "pygments_lexer": "r",
   "version": "3.3.2"
  }
 },
 "nbformat": 4,
 "nbformat_minor": 1
}
