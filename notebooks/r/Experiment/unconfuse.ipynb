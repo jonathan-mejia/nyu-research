{
 "cells": [
  {
   "cell_type": "markdown",
   "metadata": {},
   "source": [
    "The goal here is to fix the misclassification error in the time series using our guess of the confusion matrix. We will try this on June alcohol related tweets."
   ]
  },
  {
   "cell_type": "code",
   "execution_count": 6,
   "metadata": {},
   "outputs": [
    {
     "name": "stderr",
     "output_type": "stream",
     "text": [
      "Warning message:\n",
      "\"package 'forecast' was built under R version 3.3.3\""
     ]
    }
   ],
   "source": [
    "source('c:/users/tom/pycharmprojects/nyu-research/ts.R')"
   ]
  },
  {
   "cell_type": "code",
   "execution_count": 8,
   "metadata": {
    "collapsed": true
   },
   "outputs": [],
   "source": [
    "setwd('c:/users/tom/pycharmprojects/nyu-research/')"
   ]
  },
  {
   "cell_type": "markdown",
   "metadata": {},
   "source": [
    "Time series output from the prediction on june:"
   ]
  },
  {
   "cell_type": "code",
   "execution_count": 44,
   "metadata": {},
   "outputs": [],
   "source": [
    "june_simp <- read.csv('C:/Users/Tom/Documents/nyu-test/alc-run/june/summary/summary/alc.csv')"
   ]
  },
  {
   "cell_type": "markdown",
   "metadata": {},
   "source": [
    "Note that the prediction is around 5% alcohol related, which is pretty high."
   ]
  },
  {
   "cell_type": "code",
   "execution_count": 68,
   "metadata": {},
   "outputs": [
    {
     "data": {
      "text/html": [
       "<table>\n",
       "<thead><tr><th scope=col>day</th><th scope=col>hour</th><th scope=col>sum</th><th scope=col>len</th></tr></thead>\n",
       "<tbody>\n",
       "\t<tr><td>1   </td><td>0   </td><td>362 </td><td>6004</td></tr>\n",
       "\t<tr><td>1   </td><td>1   </td><td>227 </td><td>3852</td></tr>\n",
       "\t<tr><td>1   </td><td>2   </td><td>138 </td><td>2415</td></tr>\n",
       "\t<tr><td>1   </td><td>3   </td><td> 81 </td><td>1762</td></tr>\n",
       "\t<tr><td>1   </td><td>4   </td><td> 79 </td><td>1648</td></tr>\n",
       "\t<tr><td>1   </td><td>5   </td><td>101 </td><td>2091</td></tr>\n",
       "</tbody>\n",
       "</table>\n"
      ],
      "text/latex": [
       "\\begin{tabular}{r|llll}\n",
       " day & hour & sum & len\\\\\n",
       "\\hline\n",
       "\t 1    & 0    & 362  & 6004\\\\\n",
       "\t 1    & 1    & 227  & 3852\\\\\n",
       "\t 1    & 2    & 138  & 2415\\\\\n",
       "\t 1    & 3    &  81  & 1762\\\\\n",
       "\t 1    & 4    &  79  & 1648\\\\\n",
       "\t 1    & 5    & 101  & 2091\\\\\n",
       "\\end{tabular}\n"
      ],
      "text/markdown": [
       "\n",
       "day | hour | sum | len | \n",
       "|---|---|---|---|---|---|\n",
       "| 1    | 0    | 362  | 6004 | \n",
       "| 1    | 1    | 227  | 3852 | \n",
       "| 1    | 2    | 138  | 2415 | \n",
       "| 1    | 3    |  81  | 1762 | \n",
       "| 1    | 4    |  79  | 1648 | \n",
       "| 1    | 5    | 101  | 2091 | \n",
       "\n",
       "\n"
      ],
      "text/plain": [
       "  day hour sum len \n",
       "1 1   0    362 6004\n",
       "2 1   1    227 3852\n",
       "3 1   2    138 2415\n",
       "4 1   3     81 1762\n",
       "5 1   4     79 1648\n",
       "6 1   5    101 2091"
      ]
     },
     "metadata": {},
     "output_type": "display_data"
    }
   ],
   "source": [
    "head(june_simp)"
   ]
  },
  {
   "cell_type": "markdown",
   "metadata": {},
   "source": [
    "Seperate into alcohol and nonalcohol prediction"
   ]
  },
  {
   "cell_type": "code",
   "execution_count": 46,
   "metadata": {
    "collapsed": true
   },
   "outputs": [],
   "source": [
    "june_alc <- june_simp$sum\n",
    "june_tot <- june_simp$len\n",
    "june_notalc <- june_tot - june_alc"
   ]
  },
  {
   "cell_type": "code",
   "execution_count": 10,
   "metadata": {},
   "outputs": [
    {
     "name": "stdout",
     "output_type": "stream",
     "text": [
      " [1]   2   3   4   5   6   7  26  27  28  29  30  31 721 722 723\n"
     ]
    }
   ],
   "source": [
    "june <- preprocessing('twitter_tsa/data/june/june_alc.csv', 'twitter_tsa/data/june/june_total.csv')\n",
    "june_alc <- ts(june$series[33:(672+32)], frequency=24)\n",
    "june_tot <- ts(june$total[33:(672+32)], frequency=24)"
   ]
  },
  {
   "cell_type": "code",
   "execution_count": 47,
   "metadata": {
    "collapsed": true
   },
   "outputs": [],
   "source": [
    "june_notalc <- june_tot - june_alc"
   ]
  },
  {
   "cell_type": "markdown",
   "metadata": {},
   "source": [
    "A preliminary plot, black is total tweets per hour, red is predicted alcohol. "
   ]
  },
  {
   "cell_type": "code",
   "execution_count": 48,
   "metadata": {
    "scrolled": false
   },
   "outputs": [
    {
     "data": {
      "image/png": "[encoded data removed]",
      "text/plain": [
       "plot without title"
      ]
     },
     "metadata": {},
     "output_type": "display_data"
    }
   ],
   "source": [
    "plot.ts(june_tot)\n",
    "lines(june_alc, col='red')"
   ]
  },
  {
   "cell_type": "markdown",
   "metadata": {},
   "source": [
    "This is a confusion matrix generated from cross validation and then a test on a large set of presumed non-alcohol related tweets."
   ]
  },
  {
   "cell_type": "code",
   "execution_count": 53,
   "metadata": {
    "collapsed": true
   },
   "outputs": [],
   "source": [
    "m_conf <- matrix(c(95351/100000, 4649/100000, 1430/10295, 8865/10295), nrow=2, ncol=2, byrow=TRUE)"
   ]
  },
  {
   "cell_type": "code",
   "execution_count": 54,
   "metadata": {},
   "outputs": [
    {
     "data": {
      "text/html": [
       "<ol class=list-inline>\n",
       "\t<li>1</li>\n",
       "\t<li>1</li>\n",
       "</ol>\n"
      ],
      "text/latex": [
       "\\begin{enumerate*}\n",
       "\\item 1\n",
       "\\item 1\n",
       "\\end{enumerate*}\n"
      ],
      "text/markdown": [
       "1. 1\n",
       "2. 1\n",
       "\n",
       "\n"
      ],
      "text/plain": [
       "[1] 1 1"
      ]
     },
     "metadata": {},
     "output_type": "display_data"
    }
   ],
   "source": [
    "rowSums(m_conf)"
   ]
  },
  {
   "cell_type": "code",
   "execution_count": 55,
   "metadata": {},
   "outputs": [
    {
     "data": {
      "text/html": [
       "<table>\n",
       "<tbody>\n",
       "\t<tr><td>0.9535100</td><td>0.0464900</td></tr>\n",
       "\t<tr><td>0.1389024</td><td>0.8610976</td></tr>\n",
       "</tbody>\n",
       "</table>\n"
      ],
      "text/latex": [
       "\\begin{tabular}{ll}\n",
       "\t 0.9535100 & 0.0464900\\\\\n",
       "\t 0.1389024 & 0.8610976\\\\\n",
       "\\end{tabular}\n"
      ],
      "text/markdown": [
       "\n",
       "| 0.9535100 | 0.0464900 | \n",
       "| 0.1389024 | 0.8610976 | \n",
       "\n",
       "\n"
      ],
      "text/plain": [
       "     [,1]      [,2]     \n",
       "[1,] 0.9535100 0.0464900\n",
       "[2,] 0.1389024 0.8610976"
      ]
     },
     "metadata": {},
     "output_type": "display_data"
    }
   ],
   "source": [
    "m_conf"
   ]
  },
  {
   "cell_type": "markdown",
   "metadata": {},
   "source": [
    "We can write a vector equation as follows: let M = [[m00, m01, m10, m11]] be the confusion matrix, t0 = true negatives, t1 = true positives (alchol related), p0 = predicted negative, p1 = predicted positive. Hence:\n",
    "\n",
    "[t0, t1] * M = [p0, p1]\n",
    "\n",
    "=>\n",
    "\n",
    "[t0, t1] = [p0, p1] * inv(M)\n",
    "\n",
    "When we have time series, we can replace [t0, t1] and [p0, p1] by nx2 matrices representing time series, n is the number of hours, 2 is the number of classes.\n",
    "We implement this to get a better guess at the true distributions."
   ]
  },
  {
   "cell_type": "markdown",
   "metadata": {},
   "source": [
    "Predicted (predict_neg, predict_pos) time series matrix."
   ]
  },
  {
   "cell_type": "code",
   "execution_count": 56,
   "metadata": {
    "collapsed": true
   },
   "outputs": [],
   "source": [
    "v_predictions <- cbind(as.vector(june_notalc), as.vector(june_alc))"
   ]
  },
  {
   "cell_type": "code",
   "execution_count": 67,
   "metadata": {},
   "outputs": [
    {
     "data": {
      "text/html": [
       "<table>\n",
       "<tbody>\n",
       "\t<tr><td>5642</td><td>362 </td></tr>\n",
       "\t<tr><td>3625</td><td>227 </td></tr>\n",
       "\t<tr><td>2277</td><td>138 </td></tr>\n",
       "\t<tr><td>1681</td><td> 81 </td></tr>\n",
       "\t<tr><td>1569</td><td> 79 </td></tr>\n",
       "\t<tr><td>1990</td><td>101 </td></tr>\n",
       "</tbody>\n",
       "</table>\n"
      ],
      "text/latex": [
       "\\begin{tabular}{ll}\n",
       "\t 5642 & 362 \\\\\n",
       "\t 3625 & 227 \\\\\n",
       "\t 2277 & 138 \\\\\n",
       "\t 1681 &  81 \\\\\n",
       "\t 1569 &  79 \\\\\n",
       "\t 1990 & 101 \\\\\n",
       "\\end{tabular}\n"
      ],
      "text/markdown": [
       "\n",
       "| 5642 | 362  | \n",
       "| 3625 | 227  | \n",
       "| 2277 | 138  | \n",
       "| 1681 |  81  | \n",
       "| 1569 |  79  | \n",
       "| 1990 | 101  | \n",
       "\n",
       "\n"
      ],
      "text/plain": [
       "     [,1] [,2]\n",
       "[1,] 5642 362 \n",
       "[2,] 3625 227 \n",
       "[3,] 2277 138 \n",
       "[4,] 1681  81 \n",
       "[5,] 1569  79 \n",
       "[6,] 1990 101 "
      ]
     },
     "metadata": {},
     "output_type": "display_data"
    }
   ],
   "source": [
    "head(v_predictions)"
   ]
  },
  {
   "cell_type": "markdown",
   "metadata": {},
   "source": [
    "Our \"fixed\" time series gives between 1-2% of tweets as alcohol related:"
   ]
  },
  {
   "cell_type": "code",
   "execution_count": 59,
   "metadata": {
    "collapsed": true
   },
   "outputs": [],
   "source": [
    "true_ts <- v_predictions%*%solve(m_conf)"
   ]
  },
  {
   "cell_type": "code",
   "execution_count": 71,
   "metadata": {},
   "outputs": [
    {
     "data": {
      "text/html": [
       "<table>\n",
       "<tbody>\n",
       "\t<tr><td>54317.10 </td><td> 511.9026</td></tr>\n",
       "\t<tr><td>62709.24 </td><td> 792.7645</td></tr>\n",
       "\t<tr><td>52731.59 </td><td> 978.4123</td></tr>\n",
       "\t<tr><td>55080.50 </td><td>1088.5034</td></tr>\n",
       "\t<tr><td>72452.24 </td><td>1130.7608</td></tr>\n",
       "\t<tr><td>80178.15 </td><td>1247.8465</td></tr>\n",
       "\t<tr><td>87084.03 </td><td>1061.9744</td></tr>\n",
       "\t<tr><td>89348.24 </td><td> 896.7630</td></tr>\n",
       "\t<tr><td>78135.66 </td><td> 841.3367</td></tr>\n",
       "\t<tr><td>59516.24 </td><td> 580.7587</td></tr>\n",
       "\t<tr><td>38939.84 </td><td> 284.1567</td></tr>\n",
       "</tbody>\n",
       "</table>\n"
      ],
      "text/latex": [
       "\\begin{tabular}{ll}\n",
       "\t 54317.10  &  511.9026\\\\\n",
       "\t 62709.24  &  792.7645\\\\\n",
       "\t 52731.59  &  978.4123\\\\\n",
       "\t 55080.50  & 1088.5034\\\\\n",
       "\t 72452.24  & 1130.7608\\\\\n",
       "\t 80178.15  & 1247.8465\\\\\n",
       "\t 87084.03  & 1061.9744\\\\\n",
       "\t 89348.24  &  896.7630\\\\\n",
       "\t 78135.66  &  841.3367\\\\\n",
       "\t 59516.24  &  580.7587\\\\\n",
       "\t 38939.84  &  284.1567\\\\\n",
       "\\end{tabular}\n"
      ],
      "text/markdown": [
       "\n",
       "| 54317.10  |  511.9026 | \n",
       "| 62709.24  |  792.7645 | \n",
       "| 52731.59  |  978.4123 | \n",
       "| 55080.50  | 1088.5034 | \n",
       "| 72452.24  | 1130.7608 | \n",
       "| 80178.15  | 1247.8465 | \n",
       "| 87084.03  | 1061.9744 | \n",
       "| 89348.24  |  896.7630 | \n",
       "| 78135.66  |  841.3367 | \n",
       "| 59516.24  |  580.7587 | \n",
       "| 38939.84  |  284.1567 | \n",
       "\n",
       "\n"
      ],
      "text/plain": [
       "      [,1]     [,2]     \n",
       " [1,] 54317.10  511.9026\n",
       " [2,] 62709.24  792.7645\n",
       " [3,] 52731.59  978.4123\n",
       " [4,] 55080.50 1088.5034\n",
       " [5,] 72452.24 1130.7608\n",
       " [6,] 80178.15 1247.8465\n",
       " [7,] 87084.03 1061.9744\n",
       " [8,] 89348.24  896.7630\n",
       " [9,] 78135.66  841.3367\n",
       "[10,] 59516.24  580.7587\n",
       "[11,] 38939.84  284.1567"
      ]
     },
     "metadata": {},
     "output_type": "display_data"
    }
   ],
   "source": [
    "true_ts[40:50,]"
   ]
  },
  {
   "cell_type": "markdown",
   "metadata": {},
   "source": [
    "A plot of predicted alcohol (black) vs an estimated true alcohol time series (red)."
   ]
  },
  {
   "cell_type": "code",
   "execution_count": 64,
   "metadata": {},
   "outputs": [
    {
     "data": {
      "image/png": "[encoded data removed]",
      "text/plain": [
       "plot without title"
      ]
     },
     "metadata": {},
     "output_type": "display_data"
    }
   ],
   "source": [
    "plot.ts(june_alc)\n",
    "lines(true_ts[,2], col='red')"
   ]
  },
  {
   "cell_type": "markdown",
   "metadata": {},
   "source": [
    "This looks a lot better, but one obvious problem is that some parts of the new series are slightly negative, which boils down to that the classifier makes fewer false positive predictions than suggested. However, with further fine tuning this approach looks promising! We can also validate this by using a different classfier and using the same approach."
   ]
  }
 ],
 "metadata": {
  "anaconda-cloud": {},
  "kernelspec": {
   "display_name": "R",
   "language": "R",
   "name": "ir"
  },
  "language_info": {
   "codemirror_mode": "r",
   "file_extension": ".r",
   "mimetype": "text/x-r-source",
   "name": "R",
   "pygments_lexer": "r",
   "version": "3.3.2"
  }
 },
 "nbformat": 4,
 "nbformat_minor": 1
}
