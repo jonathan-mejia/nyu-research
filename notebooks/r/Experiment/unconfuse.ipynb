{
 "cells": [
  {
   "cell_type": "markdown",
   "metadata": {},
   "source": [
    "The goal here is to fix the misclassification error in the time series using our guess of the confusion matrix. We will try this on June alcohol related tweets."
   ]
  },
  {
   "cell_type": "code",
   "execution_count": 53,
   "metadata": {
    "collapsed": true
   },
   "outputs": [],
   "source": [
    "june_key <- read.csv('C:/Users/Tom/Documents/nyu-test/alc-run/june/summary-keyword/summary/alc.csv')"
   ]
  },
  {
   "cell_type": "code",
   "execution_count": 54,
   "metadata": {},
   "outputs": [],
   "source": [
    "june_key <- june_key[,'sum']"
   ]
  },
  {
   "cell_type": "code",
   "execution_count": 139,
   "metadata": {},
   "outputs": [],
   "source": [
    "key_tot_df <- read.csv('C:/Users/Tom/Documents/nyu-test/alc-run/sept/summary-keyword/summary/alc_key.csv')\n",
    "key_tot <- key_tot_df[,'sum']"
   ]
  },
  {
   "cell_type": "code",
   "execution_count": 140,
   "metadata": {},
   "outputs": [],
   "source": [
    "key_cas_df <- read.csv('C:/Users/Tom/Documents/nyu-test/alc-run/sept/summary-keyword/summary/casual.csv')\n",
    "key_cas <- key_cas_df[,'sum']"
   ]
  },
  {
   "cell_type": "code",
   "execution_count": 141,
   "metadata": {
    "collapsed": true
   },
   "outputs": [],
   "source": [
    "june_alc <- key_cas"
   ]
  },
  {
   "cell_type": "code",
   "execution_count": 142,
   "metadata": {
    "collapsed": true
   },
   "outputs": [],
   "source": [
    "june_notalc <- key_tot - key_cas"
   ]
  },
  {
   "cell_type": "code",
   "execution_count": 143,
   "metadata": {},
   "outputs": [
    {
     "data": {
      "image/png": "[encoded data removed]",
      "text/plain": [
       "plot without title"
      ]
     },
     "metadata": {},
     "output_type": "display_data"
    }
   ],
   "source": [
    "plot.ts(key_tot)\n",
    "lines(june_alc, col='red')"
   ]
  },
  {
   "cell_type": "code",
   "execution_count": 6,
   "metadata": {},
   "outputs": [
    {
     "name": "stderr",
     "output_type": "stream",
     "text": [
      "Warning message:\n",
      "\"package 'forecast' was built under R version 3.3.3\""
     ]
    }
   ],
   "source": [
    "source('c:/users/tom/pycharmprojects/nyu-research/ts.R')"
   ]
  },
  {
   "cell_type": "code",
   "execution_count": 8,
   "metadata": {
    "collapsed": true
   },
   "outputs": [],
   "source": [
    "setwd('c:/users/tom/pycharmprojects/nyu-research/')"
   ]
  },
  {
   "cell_type": "markdown",
   "metadata": {},
   "source": [
    "Time series output from the prediction on june:"
   ]
  },
  {
   "cell_type": "code",
   "execution_count": 6,
   "metadata": {
    "collapsed": true
   },
   "outputs": [],
   "source": [
    "june_simp <- read.csv('C:/Users/Tom/Documents/nyu-test/alc-run/june/summary/summary/alc.csv')"
   ]
  },
  {
   "cell_type": "markdown",
   "metadata": {},
   "source": [
    "Note that the prediction is around 5% alcohol related, which is pretty high."
   ]
  },
  {
   "cell_type": "code",
   "execution_count": 7,
   "metadata": {},
   "outputs": [
    {
     "data": {
      "text/html": [
       "<table>\n",
       "<thead><tr><th scope=col>day</th><th scope=col>hour</th><th scope=col>sum</th><th scope=col>len</th></tr></thead>\n",
       "<tbody>\n",
       "\t<tr><td>1   </td><td>0   </td><td>362 </td><td>6004</td></tr>\n",
       "\t<tr><td>1   </td><td>1   </td><td>227 </td><td>3852</td></tr>\n",
       "\t<tr><td>1   </td><td>2   </td><td>138 </td><td>2415</td></tr>\n",
       "\t<tr><td>1   </td><td>3   </td><td> 81 </td><td>1762</td></tr>\n",
       "\t<tr><td>1   </td><td>4   </td><td> 79 </td><td>1648</td></tr>\n",
       "\t<tr><td>1   </td><td>5   </td><td>101 </td><td>2091</td></tr>\n",
       "</tbody>\n",
       "</table>\n"
      ],
      "text/latex": [
       "\\begin{tabular}{r|llll}\n",
       " day & hour & sum & len\\\\\n",
       "\\hline\n",
       "\t 1    & 0    & 362  & 6004\\\\\n",
       "\t 1    & 1    & 227  & 3852\\\\\n",
       "\t 1    & 2    & 138  & 2415\\\\\n",
       "\t 1    & 3    &  81  & 1762\\\\\n",
       "\t 1    & 4    &  79  & 1648\\\\\n",
       "\t 1    & 5    & 101  & 2091\\\\\n",
       "\\end{tabular}\n"
      ],
      "text/markdown": [
       "\n",
       "day | hour | sum | len | \n",
       "|---|---|---|---|---|---|\n",
       "| 1    | 0    | 362  | 6004 | \n",
       "| 1    | 1    | 227  | 3852 | \n",
       "| 1    | 2    | 138  | 2415 | \n",
       "| 1    | 3    |  81  | 1762 | \n",
       "| 1    | 4    |  79  | 1648 | \n",
       "| 1    | 5    | 101  | 2091 | \n",
       "\n",
       "\n"
      ],
      "text/plain": [
       "  day hour sum len \n",
       "1 1   0    362 6004\n",
       "2 1   1    227 3852\n",
       "3 1   2    138 2415\n",
       "4 1   3     81 1762\n",
       "5 1   4     79 1648\n",
       "6 1   5    101 2091"
      ]
     },
     "metadata": {},
     "output_type": "display_data"
    }
   ],
   "source": [
    "head(june_simp)"
   ]
  },
  {
   "cell_type": "markdown",
   "metadata": {},
   "source": [
    "Seperate into alcohol and nonalcohol prediction"
   ]
  },
  {
   "cell_type": "code",
   "execution_count": 8,
   "metadata": {
    "collapsed": true
   },
   "outputs": [],
   "source": [
    "june_alc <- june_simp$sum\n",
    "june_tot <- june_simp$len\n",
    "june_notalc <- june_tot - june_alc"
   ]
  },
  {
   "cell_type": "code",
   "execution_count": 10,
   "metadata": {
    "collapsed": true
   },
   "outputs": [],
   "source": [
    "june_notalc <- june_tot - june_alc"
   ]
  },
  {
   "cell_type": "markdown",
   "metadata": {},
   "source": [
    "A preliminary plot, black is total tweets per hour, red is predicted alcohol. "
   ]
  },
  {
   "cell_type": "code",
   "execution_count": 11,
   "metadata": {
    "scrolled": false
   },
   "outputs": [
    {
     "data": {
      "image/png": "[encoded data removed]",
      "text/plain": [
       "plot without title"
      ]
     },
     "metadata": {},
     "output_type": "display_data"
    }
   ],
   "source": [
    "plot.ts(june_tot)\n",
    "lines(june_alc, col='red')"
   ]
  },
  {
   "cell_type": "markdown",
   "metadata": {},
   "source": [
    "This is a confusion matrix generated from cross validation and then a test on a large set of presumed non-alcohol related tweets."
   ]
  },
  {
   "cell_type": "code",
   "execution_count": 60,
   "metadata": {},
   "outputs": [
    {
     "data": {
      "text/html": [
       "3211"
      ],
      "text/latex": [
       "3211"
      ],
      "text/markdown": [
       "3211"
      ],
      "text/plain": [
       "[1] 3211"
      ]
     },
     "metadata": {},
     "output_type": "display_data"
    }
   ],
   "source": [
    "964 + 2247"
   ]
  },
  {
   "cell_type": "code",
   "execution_count": 69,
   "metadata": {
    "collapsed": true
   },
   "outputs": [],
   "source": [
    "# fpa\n",
    "m_conf <- matrix(c(50/54, 4/54, 10/46, 36/46), nrow=2, ncol=2, byrow=TRUE)"
   ]
  },
  {
   "cell_type": "code",
   "execution_count": 36,
   "metadata": {
    "collapsed": true
   },
   "outputs": [],
   "source": [
    "m_conf <- matrix(c(4093/5355, 1262/5355, 1430/10295, 8865/10295), nrow=2, ncol=2, byrow=TRUE)"
   ]
  },
  {
   "cell_type": "code",
   "execution_count": 12,
   "metadata": {
    "collapsed": true
   },
   "outputs": [],
   "source": [
    "m_conf <- matrix(c(95351/100000, 4649/100000, 1430/10295, 8865/10295), nrow=2, ncol=2, byrow=TRUE)"
   ]
  },
  {
   "cell_type": "code",
   "execution_count": 70,
   "metadata": {},
   "outputs": [
    {
     "data": {
      "text/html": [
       "<ol class=list-inline>\n",
       "\t<li>1</li>\n",
       "\t<li>1</li>\n",
       "</ol>\n"
      ],
      "text/latex": [
       "\\begin{enumerate*}\n",
       "\\item 1\n",
       "\\item 1\n",
       "\\end{enumerate*}\n"
      ],
      "text/markdown": [
       "1. 1\n",
       "2. 1\n",
       "\n",
       "\n"
      ],
      "text/plain": [
       "[1] 1 1"
      ]
     },
     "metadata": {},
     "output_type": "display_data"
    }
   ],
   "source": [
    "rowSums(m_conf)"
   ]
  },
  {
   "cell_type": "code",
   "execution_count": 71,
   "metadata": {},
   "outputs": [
    {
     "data": {
      "text/html": [
       "<table>\n",
       "<tbody>\n",
       "\t<tr><td>0.9259259 </td><td>0.07407407</td></tr>\n",
       "\t<tr><td>0.2173913 </td><td>0.78260870</td></tr>\n",
       "</tbody>\n",
       "</table>\n"
      ],
      "text/latex": [
       "\\begin{tabular}{ll}\n",
       "\t 0.9259259  & 0.07407407\\\\\n",
       "\t 0.2173913  & 0.78260870\\\\\n",
       "\\end{tabular}\n"
      ],
      "text/markdown": [
       "\n",
       "| 0.9259259  | 0.07407407 | \n",
       "| 0.2173913  | 0.78260870 | \n",
       "\n",
       "\n"
      ],
      "text/plain": [
       "     [,1]      [,2]      \n",
       "[1,] 0.9259259 0.07407407\n",
       "[2,] 0.2173913 0.78260870"
      ]
     },
     "metadata": {},
     "output_type": "display_data"
    }
   ],
   "source": [
    "m_conf"
   ]
  },
  {
   "cell_type": "markdown",
   "metadata": {},
   "source": [
    "We can write a vector equation as follows: let M = [[m00, m01, m10, m11]] be the confusion matrix, t0 = true negatives, t1 = true positives (alchol related), p0 = predicted negative, p1 = predicted positive. Hence:\n",
    "\n",
    "[t0, t1] * M = [p0, p1]\n",
    "\n",
    "=>\n",
    "\n",
    "[t0, t1] = [p0, p1] * inv(M)\n",
    "\n",
    "When we have time series, we can replace [t0, t1] and [p0, p1] by nx2 matrices representing time series, n is the number of hours, 2 is the number of classes.\n",
    "We implement this to get a better guess at the true distributions."
   ]
  },
  {
   "cell_type": "markdown",
   "metadata": {},
   "source": [
    "Predicted (predict_neg, predict_pos) time series matrix."
   ]
  },
  {
   "cell_type": "code",
   "execution_count": 144,
   "metadata": {
    "collapsed": true
   },
   "outputs": [],
   "source": [
    "v_predictions <- cbind(as.vector(june_notalc), as.vector(june_alc))"
   ]
  },
  {
   "cell_type": "code",
   "execution_count": 145,
   "metadata": {},
   "outputs": [
    {
     "data": {
      "text/html": [
       "<table>\n",
       "<tbody>\n",
       "\t<tr><td>328</td><td>88 </td></tr>\n",
       "\t<tr><td>205</td><td>45 </td></tr>\n",
       "\t<tr><td>118</td><td>30 </td></tr>\n",
       "\t<tr><td> 58</td><td>16 </td></tr>\n",
       "\t<tr><td> 56</td><td> 9 </td></tr>\n",
       "\t<tr><td> 63</td><td> 7 </td></tr>\n",
       "</tbody>\n",
       "</table>\n"
      ],
      "text/latex": [
       "\\begin{tabular}{ll}\n",
       "\t 328 & 88 \\\\\n",
       "\t 205 & 45 \\\\\n",
       "\t 118 & 30 \\\\\n",
       "\t  58 & 16 \\\\\n",
       "\t  56 &  9 \\\\\n",
       "\t  63 &  7 \\\\\n",
       "\\end{tabular}\n"
      ],
      "text/markdown": [
       "\n",
       "| 328 | 88  | \n",
       "| 205 | 45  | \n",
       "| 118 | 30  | \n",
       "|  58 | 16  | \n",
       "|  56 |  9  | \n",
       "|  63 |  7  | \n",
       "\n",
       "\n"
      ],
      "text/plain": [
       "     [,1] [,2]\n",
       "[1,] 328  88  \n",
       "[2,] 205  45  \n",
       "[3,] 118  30  \n",
       "[4,]  58  16  \n",
       "[5,]  56   9  \n",
       "[6,]  63   7  "
      ]
     },
     "metadata": {},
     "output_type": "display_data"
    }
   ],
   "source": [
    "head(v_predictions)"
   ]
  },
  {
   "cell_type": "markdown",
   "metadata": {},
   "source": [
    "Our \"fixed\" time series gives between 1-2% of tweets as alcohol related:"
   ]
  },
  {
   "cell_type": "code",
   "execution_count": 146,
   "metadata": {
    "collapsed": true
   },
   "outputs": [],
   "source": [
    "true_ts <- v_predictions%*%solve(m_conf)"
   ]
  },
  {
   "cell_type": "code",
   "execution_count": 147,
   "metadata": {},
   "outputs": [
    {
     "data": {
      "text/html": [
       "<table>\n",
       "<tbody>\n",
       "\t<tr><td>434.8841 </td><td> 98.11591</td></tr>\n",
       "\t<tr><td>482.8705 </td><td>165.12955</td></tr>\n",
       "\t<tr><td>494.1614 </td><td>245.83864</td></tr>\n",
       "\t<tr><td>536.5636 </td><td>442.43636</td></tr>\n",
       "\t<tr><td>586.6364 </td><td>422.36364</td></tr>\n",
       "\t<tr><td>645.7295 </td><td>359.27045</td></tr>\n",
       "\t<tr><td>663.5864 </td><td>246.41364</td></tr>\n",
       "\t<tr><td>600.5659 </td><td>197.43409</td></tr>\n",
       "\t<tr><td>542.0250 </td><td>110.97500</td></tr>\n",
       "\t<tr><td>406.3500 </td><td> 81.65000</td></tr>\n",
       "\t<tr><td>248.0318 </td><td> 42.96818</td></tr>\n",
       "</tbody>\n",
       "</table>\n"
      ],
      "text/latex": [
       "\\begin{tabular}{ll}\n",
       "\t 434.8841  &  98.11591\\\\\n",
       "\t 482.8705  & 165.12955\\\\\n",
       "\t 494.1614  & 245.83864\\\\\n",
       "\t 536.5636  & 442.43636\\\\\n",
       "\t 586.6364  & 422.36364\\\\\n",
       "\t 645.7295  & 359.27045\\\\\n",
       "\t 663.5864  & 246.41364\\\\\n",
       "\t 600.5659  & 197.43409\\\\\n",
       "\t 542.0250  & 110.97500\\\\\n",
       "\t 406.3500  &  81.65000\\\\\n",
       "\t 248.0318  &  42.96818\\\\\n",
       "\\end{tabular}\n"
      ],
      "text/markdown": [
       "\n",
       "| 434.8841  |  98.11591 | \n",
       "| 482.8705  | 165.12955 | \n",
       "| 494.1614  | 245.83864 | \n",
       "| 536.5636  | 442.43636 | \n",
       "| 586.6364  | 422.36364 | \n",
       "| 645.7295  | 359.27045 | \n",
       "| 663.5864  | 246.41364 | \n",
       "| 600.5659  | 197.43409 | \n",
       "| 542.0250  | 110.97500 | \n",
       "| 406.3500  |  81.65000 | \n",
       "| 248.0318  |  42.96818 | \n",
       "\n",
       "\n"
      ],
      "text/plain": [
       "      [,1]     [,2]     \n",
       " [1,] 434.8841  98.11591\n",
       " [2,] 482.8705 165.12955\n",
       " [3,] 494.1614 245.83864\n",
       " [4,] 536.5636 442.43636\n",
       " [5,] 586.6364 422.36364\n",
       " [6,] 645.7295 359.27045\n",
       " [7,] 663.5864 246.41364\n",
       " [8,] 600.5659 197.43409\n",
       " [9,] 542.0250 110.97500\n",
       "[10,] 406.3500  81.65000\n",
       "[11,] 248.0318  42.96818"
      ]
     },
     "metadata": {},
     "output_type": "display_data"
    }
   ],
   "source": [
    "true_ts[40:50,]"
   ]
  },
  {
   "cell_type": "markdown",
   "metadata": {},
   "source": [
    "A plot of predicted alcohol (black) vs an estimated true alcohol time series (red)."
   ]
  },
  {
   "cell_type": "code",
   "execution_count": 148,
   "metadata": {},
   "outputs": [
    {
     "data": {
      "text/html": [
       "<table>\n",
       "<tbody>\n",
       "\t<tr><td>212.0727  </td><td> 25.927273</td></tr>\n",
       "\t<tr><td>395.4273  </td><td>  8.572727</td></tr>\n",
       "\t<tr><td>474.2795  </td><td> 40.720455</td></tr>\n",
       "\t<tr><td>513.6136  </td><td> 43.386364</td></tr>\n",
       "\t<tr><td>574.9159  </td><td> 72.084091</td></tr>\n",
       "\t<tr><td>612.4091  </td><td>151.590909</td></tr>\n",
       "</tbody>\n",
       "</table>\n"
      ],
      "text/latex": [
       "\\begin{tabular}{ll}\n",
       "\t 212.0727   &  25.927273\\\\\n",
       "\t 395.4273   &   8.572727\\\\\n",
       "\t 474.2795   &  40.720455\\\\\n",
       "\t 513.6136   &  43.386364\\\\\n",
       "\t 574.9159   &  72.084091\\\\\n",
       "\t 612.4091   & 151.590909\\\\\n",
       "\\end{tabular}\n"
      ],
      "text/markdown": [
       "\n",
       "| 212.0727   |  25.927273 | \n",
       "| 395.4273   |   8.572727 | \n",
       "| 474.2795   |  40.720455 | \n",
       "| 513.6136   |  43.386364 | \n",
       "| 574.9159   |  72.084091 | \n",
       "| 612.4091   | 151.590909 | \n",
       "\n",
       "\n"
      ],
      "text/plain": [
       "     [,1]     [,2]      \n",
       "[1,] 212.0727  25.927273\n",
       "[2,] 395.4273   8.572727\n",
       "[3,] 474.2795  40.720455\n",
       "[4,] 513.6136  43.386364\n",
       "[5,] 574.9159  72.084091\n",
       "[6,] 612.4091 151.590909"
      ]
     },
     "metadata": {},
     "output_type": "display_data"
    }
   ],
   "source": [
    "true_ts[80:85,]"
   ]
  },
  {
   "cell_type": "code",
   "execution_count": 149,
   "metadata": {},
   "outputs": [
    {
     "data": {
      "text/html": [
       "698"
      ],
      "text/latex": [
       "698"
      ],
      "text/markdown": [
       "698"
      ],
      "text/plain": [
       "[1] 698"
      ]
     },
     "metadata": {},
     "output_type": "display_data"
    },
    {
     "data": {
      "text/html": [
       "-14.5318181818182"
      ],
      "text/latex": [
       "-14.5318181818182"
      ],
      "text/markdown": [
       "-14.5318181818182"
      ],
      "text/plain": [
       "[1] -14.53182"
      ]
     },
     "metadata": {},
     "output_type": "display_data"
    }
   ],
   "source": [
    "which.min(true_ts[,2])\n",
    "min(true_ts[,2])"
   ]
  },
  {
   "cell_type": "code",
   "execution_count": 150,
   "metadata": {},
   "outputs": [],
   "source": [
    "true_ts[,1] = true_ts[,1] + min(true_ts[,1])\n",
    "true_ts[,2] = true_ts[,2] - min(true_ts[,2])"
   ]
  },
  {
   "cell_type": "code",
   "execution_count": 151,
   "metadata": {},
   "outputs": [
    {
     "data": {
      "text/html": [
       "0"
      ],
      "text/latex": [
       "0"
      ],
      "text/markdown": [
       "0"
      ],
      "text/plain": [
       "[1] 0"
      ]
     },
     "metadata": {},
     "output_type": "display_data"
    }
   ],
   "source": [
    "min(true_ts[,2])"
   ]
  },
  {
   "cell_type": "code",
   "execution_count": 152,
   "metadata": {},
   "outputs": [
    {
     "data": {
      "image/png": "[encoded data removed]",
      "text/plain": [
       "plot without title"
      ]
     },
     "metadata": {},
     "output_type": "display_data"
    }
   ],
   "source": [
    "plot.ts(key_tot)\n",
    "lines(true_ts[,2], col='blue')\n",
    "lines(key_cas, col='red')\n",
    "# lines(june_key, col='red')"
   ]
  },
  {
   "cell_type": "code",
   "execution_count": 153,
   "metadata": {
    "collapsed": true
   },
   "outputs": [],
   "source": [
    "key_cas_df['sum'] = true_ts[,2]\n",
    "key_cas_df['len'] = true_ts[,1]"
   ]
  },
  {
   "cell_type": "code",
   "execution_count": 154,
   "metadata": {},
   "outputs": [
    {
     "data": {
      "text/html": [
       "<table>\n",
       "<thead><tr><th scope=col>day</th><th scope=col>hour</th><th scope=col>sum</th><th scope=col>len</th></tr></thead>\n",
       "<tbody>\n",
       "\t<tr><td>1        </td><td>0        </td><td>95.24091 </td><td>335.29091</td></tr>\n",
       "\t<tr><td>1        </td><td>1        </td><td>51.90682 </td><td>212.62500</td></tr>\n",
       "\t<tr><td>1        </td><td>2        </td><td>41.40000 </td><td>121.13182</td></tr>\n",
       "\t<tr><td>1        </td><td>3        </td><td>29.37727 </td><td> 59.15455</td></tr>\n",
       "\t<tr><td>1        </td><td>4        </td><td>20.43864 </td><td> 59.09318</td></tr>\n",
       "\t<tr><td>1        </td><td>5        </td><td>17.09318 </td><td> 67.43864</td></tr>\n",
       "</tbody>\n",
       "</table>\n"
      ],
      "text/latex": [
       "\\begin{tabular}{r|llll}\n",
       " day & hour & sum & len\\\\\n",
       "\\hline\n",
       "\t 1         & 0         & 95.24091  & 335.29091\\\\\n",
       "\t 1         & 1         & 51.90682  & 212.62500\\\\\n",
       "\t 1         & 2         & 41.40000  & 121.13182\\\\\n",
       "\t 1         & 3         & 29.37727  &  59.15455\\\\\n",
       "\t 1         & 4         & 20.43864  &  59.09318\\\\\n",
       "\t 1         & 5         & 17.09318  &  67.43864\\\\\n",
       "\\end{tabular}\n"
      ],
      "text/markdown": [
       "\n",
       "day | hour | sum | len | \n",
       "|---|---|---|---|---|---|\n",
       "| 1         | 0         | 95.24091  | 335.29091 | \n",
       "| 1         | 1         | 51.90682  | 212.62500 | \n",
       "| 1         | 2         | 41.40000  | 121.13182 | \n",
       "| 1         | 3         | 29.37727  |  59.15455 | \n",
       "| 1         | 4         | 20.43864  |  59.09318 | \n",
       "| 1         | 5         | 17.09318  |  67.43864 | \n",
       "\n",
       "\n"
      ],
      "text/plain": [
       "  day hour sum      len      \n",
       "1 1   0    95.24091 335.29091\n",
       "2 1   1    51.90682 212.62500\n",
       "3 1   2    41.40000 121.13182\n",
       "4 1   3    29.37727  59.15455\n",
       "5 1   4    20.43864  59.09318\n",
       "6 1   5    17.09318  67.43864"
      ]
     },
     "metadata": {},
     "output_type": "display_data"
    }
   ],
   "source": [
    "head(key_cas_df)"
   ]
  },
  {
   "cell_type": "code",
   "execution_count": 155,
   "metadata": {
    "collapsed": true
   },
   "outputs": [],
   "source": [
    "write.csv(key_cas_df, file = 'C:/Users/Tom/Documents/research/alc-summary/sept-key/casual-adj.csv', row.names=FALSE)"
   ]
  },
  {
   "cell_type": "code",
   "execution_count": 64,
   "metadata": {},
   "outputs": [
    {
     "data": {
      "image/png": "[encoded data removed]",
      "text/plain": [
       "plot without title"
      ]
     },
     "metadata": {},
     "output_type": "display_data"
    }
   ],
   "source": [
    "plot.ts(june_alc)\n",
    "lines(true_ts[,2], col='red')"
   ]
  },
  {
   "cell_type": "markdown",
   "metadata": {},
   "source": [
    "This looks a lot better, but one obvious problem is that some parts of the new series are slightly negative, which boils down to that the classifier makes fewer false positive predictions than suggested. However, with further fine tuning this approach looks promising! We can also validate this by using a different alcohol classfier like SVM and using the same approach."
   ]
  }
 ],
 "metadata": {
  "anaconda-cloud": {},
  "kernelspec": {
   "display_name": "R",
   "language": "R",
   "name": "ir"
  },
  "language_info": {
   "codemirror_mode": "r",
   "file_extension": ".r",
   "mimetype": "text/x-r-source",
   "name": "R",
   "pygments_lexer": "r",
   "version": "3.3.2"
  }
 },
 "nbformat": 4,
 "nbformat_minor": 1
}
